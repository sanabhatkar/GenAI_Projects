{
 "cells": [
  {
   "cell_type": "markdown",
   "id": "ead3378c-11c3-42e2-8d87-e5da4527e650",
   "metadata": {},
   "source": [
    "# Conversational Question Answering Agent using SQUAD (Stanford QnA Dataset)\n",
    "#### We are going to build a conversational agent using a SQUAD Dataset, Pinecone and Langchain libraries"
   ]
  },
  {
   "cell_type": "markdown",
   "id": "f6143d79-b8a7-45ce-934e-5ef33c9118fe",
   "metadata": {},
   "source": [
    "### We will start by first loading the SQUAD dataset"
   ]
  },
  {
   "cell_type": "code",
   "execution_count": 2,
   "id": "e4490157-2026-4ba4-9f5c-66cb24e10565",
   "metadata": {},
   "outputs": [],
   "source": [
    "from datasets import load_dataset"
   ]
  },
  {
   "cell_type": "code",
   "execution_count": 3,
   "id": "1797ae95-c29a-422e-a83f-8b721f8d8a1c",
   "metadata": {},
   "outputs": [
    {
     "data": {
      "application/vnd.jupyter.widget-view+json": {
       "model_id": "4125daf2cba64b5ba3046a5d526b8abc",
       "version_major": 2,
       "version_minor": 0
      },
      "text/plain": [
       "Downloading readme:   0%|          | 0.00/7.62k [00:00<?, ?B/s]"
      ]
     },
     "metadata": {},
     "output_type": "display_data"
    },
    {
     "data": {
      "application/vnd.jupyter.widget-view+json": {
       "model_id": "d5d472f09c6e498cb5b5e5c8993ef9a3",
       "version_major": 2,
       "version_minor": 0
      },
      "text/plain": [
       "Downloading data:   0%|          | 0.00/14.5M [00:00<?, ?B/s]"
      ]
     },
     "metadata": {},
     "output_type": "display_data"
    },
    {
     "data": {
      "application/vnd.jupyter.widget-view+json": {
       "model_id": "5283227312be4e7f87c4af5149d63123",
       "version_major": 2,
       "version_minor": 0
      },
      "text/plain": [
       "Downloading data:   0%|          | 0.00/1.82M [00:00<?, ?B/s]"
      ]
     },
     "metadata": {},
     "output_type": "display_data"
    },
    {
     "data": {
      "application/vnd.jupyter.widget-view+json": {
       "model_id": "33b61d4f21a744dd9aac7eca4b6831ab",
       "version_major": 2,
       "version_minor": 0
      },
      "text/plain": [
       "Generating train split:   0%|          | 0/87599 [00:00<?, ? examples/s]"
      ]
     },
     "metadata": {},
     "output_type": "display_data"
    },
    {
     "data": {
      "application/vnd.jupyter.widget-view+json": {
       "model_id": "a2c744e40d87401199cf6ca83370bc14",
       "version_major": 2,
       "version_minor": 0
      },
      "text/plain": [
       "Generating validation split:   0%|          | 0/10570 [00:00<?, ? examples/s]"
      ]
     },
     "metadata": {},
     "output_type": "display_data"
    },
    {
     "data": {
      "text/plain": [
       "Dataset({\n",
       "    features: ['id', 'title', 'context', 'question', 'answers'],\n",
       "    num_rows: 87599\n",
       "})"
      ]
     },
     "execution_count": 3,
     "metadata": {},
     "output_type": "execute_result"
    }
   ],
   "source": [
    "data = load_dataset(\"squad\",\n",
    "                   split=\"train\")\n",
    "data"
   ]
  },
  {
   "cell_type": "code",
   "execution_count": 4,
   "id": "d7d526cf-6aa3-46b2-a8a7-07317968c803",
   "metadata": {},
   "outputs": [
    {
     "data": {
      "text/html": [
       "<div>\n",
       "<style scoped>\n",
       "    .dataframe tbody tr th:only-of-type {\n",
       "        vertical-align: middle;\n",
       "    }\n",
       "\n",
       "    .dataframe tbody tr th {\n",
       "        vertical-align: top;\n",
       "    }\n",
       "\n",
       "    .dataframe thead th {\n",
       "        text-align: right;\n",
       "    }\n",
       "</style>\n",
       "<table border=\"1\" class=\"dataframe\">\n",
       "  <thead>\n",
       "    <tr style=\"text-align: right;\">\n",
       "      <th></th>\n",
       "      <th>id</th>\n",
       "      <th>title</th>\n",
       "      <th>context</th>\n",
       "      <th>question</th>\n",
       "      <th>answers</th>\n",
       "    </tr>\n",
       "  </thead>\n",
       "  <tbody>\n",
       "    <tr>\n",
       "      <th>0</th>\n",
       "      <td>5733be284776f41900661182</td>\n",
       "      <td>University_of_Notre_Dame</td>\n",
       "      <td>Architecturally, the school has a Catholic cha...</td>\n",
       "      <td>To whom did the Virgin Mary allegedly appear i...</td>\n",
       "      <td>{'text': ['Saint Bernadette Soubirous'], 'answ...</td>\n",
       "    </tr>\n",
       "    <tr>\n",
       "      <th>1</th>\n",
       "      <td>5733be284776f4190066117f</td>\n",
       "      <td>University_of_Notre_Dame</td>\n",
       "      <td>Architecturally, the school has a Catholic cha...</td>\n",
       "      <td>What is in front of the Notre Dame Main Building?</td>\n",
       "      <td>{'text': ['a copper statue of Christ'], 'answe...</td>\n",
       "    </tr>\n",
       "    <tr>\n",
       "      <th>2</th>\n",
       "      <td>5733be284776f41900661180</td>\n",
       "      <td>University_of_Notre_Dame</td>\n",
       "      <td>Architecturally, the school has a Catholic cha...</td>\n",
       "      <td>The Basilica of the Sacred heart at Notre Dame...</td>\n",
       "      <td>{'text': ['the Main Building'], 'answer_start'...</td>\n",
       "    </tr>\n",
       "    <tr>\n",
       "      <th>3</th>\n",
       "      <td>5733be284776f41900661181</td>\n",
       "      <td>University_of_Notre_Dame</td>\n",
       "      <td>Architecturally, the school has a Catholic cha...</td>\n",
       "      <td>What is the Grotto at Notre Dame?</td>\n",
       "      <td>{'text': ['a Marian place of prayer and reflec...</td>\n",
       "    </tr>\n",
       "    <tr>\n",
       "      <th>4</th>\n",
       "      <td>5733be284776f4190066117e</td>\n",
       "      <td>University_of_Notre_Dame</td>\n",
       "      <td>Architecturally, the school has a Catholic cha...</td>\n",
       "      <td>What sits on top of the Main Building at Notre...</td>\n",
       "      <td>{'text': ['a golden statue of the Virgin Mary'...</td>\n",
       "    </tr>\n",
       "  </tbody>\n",
       "</table>\n",
       "</div>"
      ],
      "text/plain": [
       "                         id  ...                                            answers\n",
       "0  5733be284776f41900661182  ...  {'text': ['Saint Bernadette Soubirous'], 'answ...\n",
       "1  5733be284776f4190066117f  ...  {'text': ['a copper statue of Christ'], 'answe...\n",
       "2  5733be284776f41900661180  ...  {'text': ['the Main Building'], 'answer_start'...\n",
       "3  5733be284776f41900661181  ...  {'text': ['a Marian place of prayer and reflec...\n",
       "4  5733be284776f4190066117e  ...  {'text': ['a golden statue of the Virgin Mary'...\n",
       "\n",
       "[5 rows x 5 columns]"
      ]
     },
     "execution_count": 4,
     "metadata": {},
     "output_type": "execute_result"
    }
   ],
   "source": [
    "import pandas as pd\n",
    "df = data.to_pandas()\n",
    "df.head()"
   ]
  },
  {
   "cell_type": "code",
   "execution_count": 5,
   "id": "86866a83-c877-4b5f-9b5a-3312414830f1",
   "metadata": {},
   "outputs": [
    {
     "data": {
      "text/plain": [
       "(18891, 5)"
      ]
     },
     "execution_count": 5,
     "metadata": {},
     "output_type": "execute_result"
    }
   ],
   "source": [
    "df.drop_duplicates(subset=\"context\", keep='first', inplace=True)\n",
    "df.shape"
   ]
  },
  {
   "cell_type": "code",
   "execution_count": 11,
   "id": "6d1d6a14-06a6-4c19-9d62-f3c92351138f",
   "metadata": {},
   "outputs": [
    {
     "data": {
      "text/plain": [
       "18891"
      ]
     },
     "execution_count": 11,
     "metadata": {},
     "output_type": "execute_result"
    }
   ],
   "source": [
    "len(df)"
   ]
  },
  {
   "cell_type": "markdown",
   "id": "f7cc834a-43a5-4e71-9276-c1d10165c526",
   "metadata": {},
   "source": [
    "#### Then we will create embeddings and a vector database for the records. We will be using OpenAI's `text-embedding-ada-002` model for the same"
   ]
  },
  {
   "cell_type": "code",
   "execution_count": 7,
   "id": "773490f0-11b6-4f67-af86-f5e47cdeea9c",
   "metadata": {},
   "outputs": [],
   "source": [
    "import os\n",
    "from getpass import getpass\n",
    "from langchain.embeddings.openai import OpenAIEmbeddings\n",
    "from UDCUtils import UDCUtils\n",
    "utils = UDCUtils()"
   ]
  },
  {
   "cell_type": "code",
   "execution_count": 8,
   "id": "e8ef601e-7210-4c27-9387-863b8b687f07",
   "metadata": {},
   "outputs": [],
   "source": [
    "openai_api_key = utils.get_openai_api_key()\n",
    "model_name = 'text-embedding-ada-002'\n",
    "\n",
    "embed = OpenAIEmbeddings(\n",
    "    api_key=openai_api_key,\n",
    "    model=model_name\n",
    ")"
   ]
  },
  {
   "cell_type": "markdown",
   "id": "85262f0c-4a81-439c-a03c-566871bebf69",
   "metadata": {},
   "source": [
    "#### Using Pinecone to create a vector database"
   ]
  },
  {
   "cell_type": "code",
   "execution_count": 10,
   "id": "d18eaeb2-3c8a-4c07-b85d-ecd84ff25561",
   "metadata": {},
   "outputs": [],
   "source": [
    "from pinecone import Pinecone, ServerlessSpec\n",
    "\n",
    "pinecone_api_key = utils.get_pinecone_api_key()\n",
    "\n",
    "pinecone = Pinecone(api_key=pinecone_api_key)\n",
    "\n",
    "index_name = \"idx-squad-dev-001\"\n",
    "\n",
    "existing_indexes = [index_info[\"name\"] for index_info in pinecone.list_indexes()]\n",
    "\n",
    "if index_name not in existing_indexes:\n",
    "    pinecone.create_index(\n",
    "        name=index_name,\n",
    "        dimension=1536,  # dimensionality of ada 002\n",
    "        metric=\"dotproduct\",\n",
    "        spec=ServerlessSpec(cloud=\"aws\", region=\"us-east-1\")\n",
    "    )\n",
    "\n",
    "vector_db = pinecone.Index(index_name)\n"
   ]
  },
  {
   "cell_type": "markdown",
   "id": "4b0a3545-314d-4b9f-aa96-aaa68787ec69",
   "metadata": {},
   "source": [
    "#### Now we are going to populate the vector database with vectors for our SQUAD dataset"
   ]
  },
  {
   "cell_type": "code",
   "execution_count": 12,
   "id": "4b375640-c4ee-4a70-9527-88f668961166",
   "metadata": {},
   "outputs": [
    {
     "name": "stderr",
     "output_type": "stream",
     "text": [
      "100%|█████████████████████████████████████████| 189/189 [15:40<00:00,  4.98s/it]\n"
     ]
    }
   ],
   "source": [
    "from tqdm import tqdm\n",
    "\n",
    "batch_size=100\n",
    "data_len = len(df)\n",
    "\n",
    "for i in tqdm(range(0, data_len, batch_size)):\n",
    "    i_end = min(data_len, i+batch_size)\n",
    "    batch = df.iloc[i:i_end]\n",
    "    #populate metadata for batch\n",
    "    metadatas = [{\n",
    "        \"title\":record[\"title\"],\n",
    "        \"text\":record[\"context\"]\n",
    "    } for j, record in batch.iterrows()]\n",
    "    #populate the embeddings for documents\n",
    "    documents=batch[\"context\"]\n",
    "    embeds=embed.embed_documents(documents)\n",
    "    #populate ids\n",
    "    ids=batch[\"id\"]\n",
    "    #now upsert the tuple of (id, vector, metadata) into index\n",
    "    vector_db.upsert(vectors=zip(ids, embeds, metadatas))"
   ]
  },
  {
   "cell_type": "code",
   "execution_count": 13,
   "id": "bcba4cb6-8989-4d06-82b3-f65bb95c84a0",
   "metadata": {},
   "outputs": [
    {
     "data": {
      "text/plain": [
       "{'dimension': 1536,\n",
       " 'index_fullness': 0.0,\n",
       " 'namespaces': {'': {'vector_count': 18891}},\n",
       " 'total_vector_count': 18891}"
      ]
     },
     "execution_count": 13,
     "metadata": {},
     "output_type": "execute_result"
    }
   ],
   "source": [
    "vector_db.describe_index_stats()"
   ]
  },
  {
   "cell_type": "markdown",
   "id": "9b960d6f-3cb8-4deb-bc4f-6c4686b87d32",
   "metadata": {},
   "source": [
    "#### We will create a Pinecone vectorstore using langchain to query our data"
   ]
  },
  {
   "cell_type": "code",
   "execution_count": 14,
   "id": "333fa8cb-5d10-4cbe-bcb4-1b6768a279de",
   "metadata": {},
   "outputs": [
    {
     "name": "stderr",
     "output_type": "stream",
     "text": [
      "/opt/anaconda3/lib/python3.12/site-packages/langchain_community/vectorstores/pinecone.py:68: UserWarning: Passing in `embedding` as a Callable is deprecated. Please pass in an Embeddings object instead.\n",
      "  warnings.warn(\n"
     ]
    }
   ],
   "source": [
    "from langchain.vectorstores import Pinecone\n",
    "\n",
    "content_field = \"text\"  #the metadata field that contains our content\n",
    "\n",
    "vectorstore = Pinecone(\n",
    "    vector_db, embed.embed_query, content_field\n",
    ")\n"
   ]
  },
  {
   "cell_type": "markdown",
   "id": "0027aef4-3dfd-42dc-a90d-7bd26702ed7d",
   "metadata": {},
   "source": [
    "#### Let us query our data using similarity search"
   ]
  },
  {
   "cell_type": "code",
   "execution_count": 16,
   "id": "e2e349e2-a7dc-4837-b7fb-b1862c17ecd7",
   "metadata": {},
   "outputs": [],
   "source": [
    "query = \"When was the college of engineering in the University of Notre Dame established?\"\n",
    "results = vectorstore.similarity_search(\n",
    "    query,\n",
    "    k=3,\n",
    ")"
   ]
  },
  {
   "cell_type": "code",
   "execution_count": 19,
   "id": "e0049e54-811c-486c-8c12-4705f25b1674",
   "metadata": {},
   "outputs": [
    {
     "name": "stdout",
     "output_type": "stream",
     "text": [
      "[Document(metadata={'title': 'University_of_Notre_Dame'}, page_content=\"In 1919 Father James Burns became president of Notre Dame, and in three years he produced an academic revolution that brought the school up to national standards by adopting the elective system and moving away from the university's traditional scholastic and classical emphasis. By contrast, the Jesuit colleges, bastions of academic conservatism, were reluctant to move to a system of electives. Their graduates were shut out of Harvard Law School for that reason. Notre Dame continued to grow over the years, adding more colleges, programs, and sports teams. By 1921, with the addition of the College of Commerce, Notre Dame had grown from a small college to a university with five colleges and a professional law school. The university continued to expand and add new residence halls and buildings with each subsequent president.\"),\n",
      " Document(metadata={'title': 'University_of_Notre_Dame'}, page_content='The College of Engineering was established in 1920, however, early courses in civil and mechanical engineering were a part of the College of Science since the 1870s. Today the college, housed in the Fitzpatrick, Cushing, and Stinson-Remick Halls of Engineering, includes five departments of study – aerospace and mechanical engineering, chemical and biomolecular engineering, civil engineering and geological sciences, computer science and engineering, and electrical engineering – with eight B.S. degrees offered. Additionally, the college offers five-year dual degree programs with the Colleges of Arts and Letters and of Business awarding additional B.A. and Master of Business Administration (MBA) degrees, respectively.'),\n",
      " Document(metadata={'title': 'University_of_Notre_Dame'}, page_content='Since 2005, Notre Dame has been led by John I. Jenkins, C.S.C., the 17th president of the university. Jenkins took over the position from Malloy on July 1, 2005. In his inaugural address, Jenkins described his goals of making the university a leader in research that recognizes ethics and building the connection between faith and studies. During his tenure, Notre Dame has increased its endowment, enlarged its student body, and undergone many construction projects on campus, including Compton Family Ice Arena, a new architecture hall, additional residence halls, and the Campus Crossroads, a $400m enhancement and expansion of Notre Dame Stadium.')]\n"
     ]
    }
   ],
   "source": [
    "import pprint\n",
    "pprint.pprint(results)"
   ]
  },
  {
   "cell_type": "markdown",
   "id": "9f6db2c3-8824-41d7-95dc-d4fb84cd5e73",
   "metadata": {},
   "source": [
    "### Now let us start building our conversational agent for QnA\n",
    "##### Our conversational agent needs a Chat LLM, a conversation memory to store the history and a RetrievalQA"
   ]
  },
  {
   "cell_type": "code",
   "execution_count": 20,
   "id": "95527cd5-266a-4c99-b1f7-7ed3c8781b7f",
   "metadata": {},
   "outputs": [],
   "source": [
    "from langchain.chat_models import ChatOpenAI\n",
    "from langchain.chains.conversation.memory import ConversationBufferWindowMemory\n",
    "from langchain.chains import RetrievalQA"
   ]
  },
  {
   "cell_type": "code",
   "execution_count": 22,
   "id": "dcbe3ac3-1ba9-4982-9c72-0d9a0aa05924",
   "metadata": {},
   "outputs": [],
   "source": [
    "#initialize llm chat model\n",
    "llm_chat_model = ChatOpenAI(\n",
    "    api_key=openai_api_key,\n",
    "    model=\"gpt-3.5-turbo\",\n",
    "    temperature=0\n",
    ")"
   ]
  },
  {
   "cell_type": "code",
   "execution_count": 23,
   "id": "a58ca6b4-b4b2-44c9-9095-f2046e919a1c",
   "metadata": {},
   "outputs": [],
   "source": [
    "#conversational memory\n",
    "conversation_mem = ConversationBufferWindowMemory(\n",
    "    memory_key=\"chat_history\",\n",
    "    k=5,\n",
    "    return_messages=True\n",
    ")"
   ]
  },
  {
   "cell_type": "code",
   "execution_count": 24,
   "id": "242c5f0e-c8b8-432a-bd1f-4be50eca93ef",
   "metadata": {},
   "outputs": [],
   "source": [
    "qa = RetrievalQA.from_chain_type(\n",
    "    llm=llm_chat_model,\n",
    "    chain_type=\"stuff\",\n",
    "    retriever=vectorstore.as_retriever()\n",
    ")"
   ]
  },
  {
   "cell_type": "markdown",
   "id": "f93a4999-1d84-45eb-8d9b-8a757c87a15d",
   "metadata": {},
   "source": [
    "#### Using this we can generate answers using run method"
   ]
  },
  {
   "cell_type": "code",
   "execution_count": 25,
   "id": "6e4339d3-af6d-42bf-ba0d-8ab983bf7af7",
   "metadata": {},
   "outputs": [
    {
     "data": {
      "text/plain": [
       "'The College of Engineering at the University of Notre Dame was established in 1920.'"
      ]
     },
     "execution_count": 25,
     "metadata": {},
     "output_type": "execute_result"
    }
   ],
   "source": [
    "qa.run(query)"
   ]
  },
  {
   "cell_type": "markdown",
   "id": "c7fedf30-4424-4a40-aeeb-60ed1dd19b95",
   "metadata": {},
   "source": [
    "### Now lets convert this retriever chain into a tool"
   ]
  },
  {
   "cell_type": "code",
   "execution_count": 26,
   "id": "008781da-6779-4db3-a34e-bae6c5448384",
   "metadata": {},
   "outputs": [],
   "source": [
    "from langchain.agents import Tool\n",
    "\n",
    "tools = [\n",
    "    Tool(\n",
    "        name=\"Knowledge Base\",\n",
    "        func=qa.run,\n",
    "        description=\"Use this tool to answer any questions based on England and its history of universities.\"\n",
    "    )\n",
    "]"
   ]
  },
  {
   "cell_type": "code",
   "execution_count": 27,
   "id": "e9ffb602-0c9f-4633-b080-a1e6e695c595",
   "metadata": {},
   "outputs": [],
   "source": [
    "from langchain.agents import initialize_agent\n",
    "\n",
    "agent = initialize_agent(\n",
    "    tools=tools,\n",
    "    llm=llm_chat_model,\n",
    "    verbose=True,\n",
    "    max_iterations=3,\n",
    "    early_stopping_method='generate',\n",
    "    memory=conversation_mem,\n",
    "    agent = 'chat-conversational-react-description',\n",
    ")"
   ]
  },
  {
   "cell_type": "markdown",
   "id": "a73ae3ce-044f-4dff-881e-ffa98fbd7f13",
   "metadata": {},
   "source": [
    "### Now we will use this agent to answer our questions"
   ]
  },
  {
   "cell_type": "code",
   "execution_count": 28,
   "id": "aa54db99-068c-40ea-9127-da4e4e90c899",
   "metadata": {},
   "outputs": [
    {
     "name": "stdout",
     "output_type": "stream",
     "text": [
      "\n",
      "\n",
      "\u001b[1m> Entering new AgentExecutor chain...\u001b[0m\n",
      "\u001b[32;1m\u001b[1;3m```json\n",
      "{\n",
      "    \"action\": \"Knowledge Base\",\n",
      "    \"action_input\": \"Establishment date of the College of Engineering at the University of Notre Dame\"\n",
      "}\n",
      "```\u001b[0m\n",
      "Observation: \u001b[36;1m\u001b[1;3mThe College of Engineering at the University of Notre Dame was established in 1920.\u001b[0m\n",
      "Thought:\u001b[32;1m\u001b[1;3m```json\n",
      "{\n",
      "    \"action\": \"Final Answer\",\n",
      "    \"action_input\": \"The College of Engineering at the University of Notre Dame was established in 1920.\"\n",
      "}\n",
      "```\u001b[0m\n",
      "\n",
      "\u001b[1m> Finished chain.\u001b[0m\n"
     ]
    },
    {
     "data": {
      "text/plain": [
       "{'input': 'When was the college of engineering in the University of Notre Dame established?',\n",
       " 'chat_history': [],\n",
       " 'output': 'The College of Engineering at the University of Notre Dame was established in 1920.'}"
      ]
     },
     "execution_count": 28,
     "metadata": {},
     "output_type": "execute_result"
    }
   ],
   "source": [
    "agent(query)"
   ]
  },
  {
   "cell_type": "code",
   "execution_count": 29,
   "id": "6fc572fa-691c-4fcc-ae0c-49c75f653468",
   "metadata": {},
   "outputs": [
    {
     "name": "stdout",
     "output_type": "stream",
     "text": [
      "\n",
      "\n",
      "\u001b[1m> Entering new AgentExecutor chain...\u001b[0m\n",
      "\u001b[32;1m\u001b[1;3m```json\n",
      "{\n",
      "    \"action\": \"Knowledge Base\",\n",
      "    \"action_input\": \"Facts about the University of Notre Dame\"\n",
      "}\n",
      "```\u001b[0m\n",
      "Observation: \u001b[36;1m\u001b[1;3mThe University of Notre Dame is a Catholic research university located in South Bend, Indiana. It has a large undergraduate and graduate student body, with notable colleges such as Arts and Letters, Science, Engineering, Business, and the Architecture School. The university is known for its research institutes in various fields, including the Medieval Institute and the Kellogg Institute for International Studies. Notre Dame has a strong alumni network and is recognized for its intramural sports programs. The campus covers 1,250 acres and features landmarks like the Golden Dome and the Basilica.\u001b[0m\n",
      "Thought:\u001b[32;1m\u001b[1;3m```json\n",
      "{\n",
      "    \"action\": \"Final Answer\",\n",
      "    \"action_input\": \"The University of Notre Dame is a Catholic research university located in South Bend, Indiana. It has a large undergraduate and graduate student body, with notable colleges such as Arts and Letters, Science, Engineering, Business, and the Architecture School. The university is known for its research institutes in various fields, including the Medieval Institute and the Kellogg Institute for International Studies. Notre Dame has a strong alumni network and is recognized for its intramural sports programs. The campus covers 1,250 acres and features landmarks like the Golden Dome and the Basilica.\"\n",
      "}\n",
      "```\u001b[0m\n",
      "\n",
      "\u001b[1m> Finished chain.\u001b[0m\n"
     ]
    },
    {
     "data": {
      "text/plain": [
       "{'input': 'can you tell me some facts about the University of Notre Dam?',\n",
       " 'chat_history': [HumanMessage(content='When was the college of engineering in the University of Notre Dame established?'),\n",
       "  AIMessage(content='The College of Engineering at the University of Notre Dame was established in 1920.')],\n",
       " 'output': 'The University of Notre Dame is a Catholic research university located in South Bend, Indiana. It has a large undergraduate and graduate student body, with notable colleges such as Arts and Letters, Science, Engineering, Business, and the Architecture School. The university is known for its research institutes in various fields, including the Medieval Institute and the Kellogg Institute for International Studies. Notre Dame has a strong alumni network and is recognized for its intramural sports programs. The campus covers 1,250 acres and features landmarks like the Golden Dome and the Basilica.'}"
      ]
     },
     "execution_count": 29,
     "metadata": {},
     "output_type": "execute_result"
    }
   ],
   "source": [
    "agent(\"can you tell me some facts about the University of Notre Dam?\")"
   ]
  },
  {
   "cell_type": "code",
   "execution_count": 30,
   "id": "00f85d4b-d368-4438-9bc1-4096d1198383",
   "metadata": {},
   "outputs": [
    {
     "name": "stdout",
     "output_type": "stream",
     "text": [
      "\n",
      "\n",
      "\u001b[1m> Entering new AgentExecutor chain...\u001b[0m\n",
      "\u001b[32;1m\u001b[1;3m```json\n",
      "{\n",
      "    \"action\": \"Final Answer\",\n",
      "    \"action_input\": \"The University of Notre Dame is located in South Bend, Indiana.\"\n",
      "}\n",
      "```\u001b[0m\n",
      "\n",
      "\u001b[1m> Finished chain.\u001b[0m\n"
     ]
    },
    {
     "data": {
      "text/plain": [
       "{'input': 'where is it located?',\n",
       " 'chat_history': [HumanMessage(content='When was the college of engineering in the University of Notre Dame established?'),\n",
       "  AIMessage(content='The College of Engineering at the University of Notre Dame was established in 1920.'),\n",
       "  HumanMessage(content='can you tell me some facts about the University of Notre Dam?'),\n",
       "  AIMessage(content='The University of Notre Dame is a Catholic research university located in South Bend, Indiana. It has a large undergraduate and graduate student body, with notable colleges such as Arts and Letters, Science, Engineering, Business, and the Architecture School. The university is known for its research institutes in various fields, including the Medieval Institute and the Kellogg Institute for International Studies. Notre Dame has a strong alumni network and is recognized for its intramural sports programs. The campus covers 1,250 acres and features landmarks like the Golden Dome and the Basilica.')],\n",
       " 'output': 'The University of Notre Dame is located in South Bend, Indiana.'}"
      ]
     },
     "execution_count": 30,
     "metadata": {},
     "output_type": "execute_result"
    }
   ],
   "source": [
    "agent(\"where is it located?\")"
   ]
  },
  {
   "cell_type": "markdown",
   "id": "85c5c42f-4afa-4d4e-9d1c-2f30fb2bc34d",
   "metadata": {},
   "source": [
    "### As you can see the agent successfully used the conversation history to identify the subject for the question."
   ]
  },
  {
   "cell_type": "markdown",
   "id": "8bcd73ca-0b51-4a22-ac3a-f898faa31b14",
   "metadata": {},
   "source": [
    "#### Now let us test the agent for non-knowledge base questions"
   ]
  },
  {
   "cell_type": "code",
   "execution_count": 31,
   "id": "a06683b1-ec4a-4be4-a99c-1c5da626b82b",
   "metadata": {},
   "outputs": [
    {
     "name": "stdout",
     "output_type": "stream",
     "text": [
      "\n",
      "\n",
      "\u001b[1m> Entering new AgentExecutor chain...\u001b[0m\n",
      "\u001b[32;1m\u001b[1;3m```json\n",
      "{\n",
      "    \"action\": \"Final Answer\",\n",
      "    \"action_input\": \"The sum of 30 and 20 is 50.\"\n",
      "}\n",
      "```\u001b[0m\n",
      "\n",
      "\u001b[1m> Finished chain.\u001b[0m\n"
     ]
    },
    {
     "data": {
      "text/plain": [
       "{'input': 'what is 30+20?',\n",
       " 'chat_history': [HumanMessage(content='When was the college of engineering in the University of Notre Dame established?'),\n",
       "  AIMessage(content='The College of Engineering at the University of Notre Dame was established in 1920.'),\n",
       "  HumanMessage(content='can you tell me some facts about the University of Notre Dam?'),\n",
       "  AIMessage(content='The University of Notre Dame is a Catholic research university located in South Bend, Indiana. It has a large undergraduate and graduate student body, with notable colleges such as Arts and Letters, Science, Engineering, Business, and the Architecture School. The university is known for its research institutes in various fields, including the Medieval Institute and the Kellogg Institute for International Studies. Notre Dame has a strong alumni network and is recognized for its intramural sports programs. The campus covers 1,250 acres and features landmarks like the Golden Dome and the Basilica.'),\n",
       "  HumanMessage(content='where is it located?'),\n",
       "  AIMessage(content='The University of Notre Dame is located in South Bend, Indiana.')],\n",
       " 'output': 'The sum of 30 and 20 is 50.'}"
      ]
     },
     "execution_count": 31,
     "metadata": {},
     "output_type": "execute_result"
    }
   ],
   "source": [
    "agent(\"what is 30+20?\")"
   ]
  },
  {
   "cell_type": "code",
   "execution_count": 32,
   "id": "48eb0257-6d16-4df1-95fd-e8586101de9c",
   "metadata": {},
   "outputs": [
    {
     "name": "stdout",
     "output_type": "stream",
     "text": [
      "\n",
      "\n",
      "\u001b[1m> Entering new AgentExecutor chain...\u001b[0m\n",
      "\u001b[32;1m\u001b[1;3m```json\n",
      "{\n",
      "    \"action\": \"Final Answer\",\n",
      "    \"action_input\": \"The University of Notre Dame is a Catholic research university located in South Bend, Indiana, established in 1842. The College of Engineering at the University of Notre Dame was established in 1920.\"\n",
      "}\n",
      "```\u001b[0m\n",
      "\n",
      "\u001b[1m> Finished chain.\u001b[0m\n"
     ]
    },
    {
     "data": {
      "text/plain": [
       "{'input': 'can you summarize these two facts in short?',\n",
       " 'chat_history': [HumanMessage(content='When was the college of engineering in the University of Notre Dame established?'),\n",
       "  AIMessage(content='The College of Engineering at the University of Notre Dame was established in 1920.'),\n",
       "  HumanMessage(content='can you tell me some facts about the University of Notre Dam?'),\n",
       "  AIMessage(content='The University of Notre Dame is a Catholic research university located in South Bend, Indiana. It has a large undergraduate and graduate student body, with notable colleges such as Arts and Letters, Science, Engineering, Business, and the Architecture School. The university is known for its research institutes in various fields, including the Medieval Institute and the Kellogg Institute for International Studies. Notre Dame has a strong alumni network and is recognized for its intramural sports programs. The campus covers 1,250 acres and features landmarks like the Golden Dome and the Basilica.'),\n",
       "  HumanMessage(content='where is it located?'),\n",
       "  AIMessage(content='The University of Notre Dame is located in South Bend, Indiana.'),\n",
       "  HumanMessage(content='what is 30+20?'),\n",
       "  AIMessage(content='The sum of 30 and 20 is 50.')],\n",
       " 'output': 'The University of Notre Dame is a Catholic research university located in South Bend, Indiana, established in 1842. The College of Engineering at the University of Notre Dame was established in 1920.'}"
      ]
     },
     "execution_count": 32,
     "metadata": {},
     "output_type": "execute_result"
    }
   ],
   "source": [
    "agent(\"can you summarize these two facts in short?\")"
   ]
  }
 ],
 "metadata": {
  "kernelspec": {
   "display_name": "Python 3 (ipykernel)",
   "language": "python",
   "name": "python3"
  },
  "language_info": {
   "codemirror_mode": {
    "name": "ipython",
    "version": 3
   },
   "file_extension": ".py",
   "mimetype": "text/x-python",
   "name": "python",
   "nbconvert_exporter": "python",
   "pygments_lexer": "ipython3",
   "version": "3.12.2"
  }
 },
 "nbformat": 4,
 "nbformat_minor": 5
}
