{
 "cells": [
  {
   "cell_type": "markdown",
   "id": "4295cc2b-eed3-4624-b0ef-2dd545ba53bc",
   "metadata": {},
   "source": [
    "### Inference using BufferedMemory provided by Langchain\n",
    "##### We are going to use ConversationBuffer provided by Langchain framework to have a chat with LLM that maintains a memory to store past conversation as context"
   ]
  },
  {
   "cell_type": "markdown",
   "id": "f689287b-350c-4b1f-b9bb-13ea376185a2",
   "metadata": {},
   "source": [
    "- Start by importing necessary libraries\n",
    "- read the api key from OpenAI\n",
    "- initialize openAI chat model\n",
    "- We will use different types of memory to test the inference\n",
    "  - ConversationBufferMemory\n",
    "  - ConversationBufferWindowMemory\n",
    "  - ConversationTokenBufferMemory\n",
    "  - ConversationSummaryMemory"
   ]
  },
  {
   "cell_type": "code",
   "execution_count": 1,
   "id": "d766be6c-fa07-4b9c-8398-aaea111fae22",
   "metadata": {},
   "outputs": [],
   "source": [
    "import os\n",
    "import openai\n",
    "import dotenv"
   ]
  },
  {
   "cell_type": "code",
   "execution_count": 2,
   "id": "f61f3b99-44fb-4eaa-b54a-6414806dd34e",
   "metadata": {},
   "outputs": [],
   "source": [
    "from dotenv import load_dotenv, find_dotenv"
   ]
  },
  {
   "cell_type": "code",
   "execution_count": 3,
   "id": "a1ca78d6-0a3c-4e59-945c-2b80a208b237",
   "metadata": {},
   "outputs": [],
   "source": [
    "_ = load_dotenv(find_dotenv())"
   ]
  },
  {
   "cell_type": "code",
   "execution_count": 4,
   "id": "d15b79c5-8847-451b-99c6-4f37cce3c12f",
   "metadata": {},
   "outputs": [],
   "source": [
    "import warnings\n",
    "warnings.filterwarnings('ignore')"
   ]
  },
  {
   "cell_type": "code",
   "execution_count": 5,
   "id": "1360d926-3468-452b-bcad-def0b225dc6c",
   "metadata": {},
   "outputs": [],
   "source": [
    "import datetime\n",
    "\n",
    "current_date = datetime.datetime.now()\n",
    "\n",
    "target_date = datetime.datetime(2024, 6, 12)\n",
    "\n",
    "if current_date>target_date:\n",
    "    llm_model = \"gpt-3.5-turbo\"\n",
    "else:\n",
    "    llm_model = \"gpt-3.5-turbo-0301\""
   ]
  },
  {
   "cell_type": "code",
   "execution_count": 6,
   "id": "ec99e73d-64ed-41a0-99c3-ac4dd6aa9421",
   "metadata": {},
   "outputs": [],
   "source": [
    "from langchain.chat_models import ChatOpenAI\n",
    "from langchain.prompts import ChatPromptTemplate\n",
    "from langchain.chains import ConversationChain\n",
    "from langchain.memory import ConversationBufferMemory"
   ]
  },
  {
   "cell_type": "code",
   "execution_count": 9,
   "id": "63c6e3af-1a79-4905-9c3c-fec2533945cc",
   "metadata": {},
   "outputs": [],
   "source": [
    "llm = ChatOpenAI(\n",
    "    temperature=0.0,\n",
    "    model=llm_model\n",
    ")"
   ]
  },
  {
   "cell_type": "code",
   "execution_count": 10,
   "id": "d163de0a-e0a3-4e45-9cd5-dd404ce1481f",
   "metadata": {},
   "outputs": [],
   "source": [
    "memory = ConversationBufferMemory()\n",
    "\n",
    "conversation = ConversationChain(\n",
    "    llm=llm,\n",
    "    memory=memory,\n",
    "    verbose=True\n",
    ")"
   ]
  },
  {
   "cell_type": "code",
   "execution_count": 12,
   "id": "d0b690d4-261a-4e91-a652-3e4b7c1db0c0",
   "metadata": {},
   "outputs": [
    {
     "name": "stdout",
     "output_type": "stream",
     "text": [
      "\n",
      "\n",
      "\u001b[1m> Entering new ConversationChain chain...\u001b[0m\n",
      "Prompt after formatting:\n",
      "\u001b[32;1m\u001b[1;3mThe following is a friendly conversation between a human and an AI. The AI is talkative and provides lots of specific details from its context. If the AI does not know the answer to a question, it truthfully says it does not know.\n",
      "\n",
      "Current conversation:\n",
      "\n",
      "Human: Hello, my name is Sana. What's your name?\n",
      "AI:\u001b[0m\n",
      "\n",
      "\u001b[1m> Finished chain.\u001b[0m\n"
     ]
    },
    {
     "data": {
      "text/plain": [
       "\"Hello Sana! My name is AI-9000. It's nice to meet you. How can I assist you today?\""
      ]
     },
     "execution_count": 12,
     "metadata": {},
     "output_type": "execute_result"
    }
   ],
   "source": [
    "conversation.predict(input=\"Hello, my name is Sana. What's your name?\")"
   ]
  },
  {
   "cell_type": "code",
   "execution_count": 13,
   "id": "5558b997-9db8-4a15-923e-19c2a1aab48d",
   "metadata": {},
   "outputs": [
    {
     "name": "stdout",
     "output_type": "stream",
     "text": [
      "\n",
      "\n",
      "\u001b[1m> Entering new ConversationChain chain...\u001b[0m\n",
      "Prompt after formatting:\n",
      "\u001b[32;1m\u001b[1;3mThe following is a friendly conversation between a human and an AI. The AI is talkative and provides lots of specific details from its context. If the AI does not know the answer to a question, it truthfully says it does not know.\n",
      "\n",
      "Current conversation:\n",
      "Human: Hello, my name is Sana. What's your name?\n",
      "AI: Hello Sana! My name is AI-9000. It's nice to meet you. How can I assist you today?\n",
      "Human: What do you think how many people have same name as mine?\n",
      "AI:\u001b[0m\n",
      "\n",
      "\u001b[1m> Finished chain.\u001b[0m\n"
     ]
    },
    {
     "data": {
      "text/plain": [
       "\"That's an interesting question, Sana! According to the latest data, the name Sana is not extremely common but it is also not too rare. In the United States, for example, there are approximately 0.02% of the population with the name Sana. However, this number can vary depending on the country and region. Unfortunately, I do not have the exact number of people with the name Sana worldwide, but it is definitely a unique and beautiful name!\""
      ]
     },
     "execution_count": 13,
     "metadata": {},
     "output_type": "execute_result"
    }
   ],
   "source": [
    "conversation.predict(input=\"What do you think how many people have same name as mine?\")"
   ]
  },
  {
   "cell_type": "code",
   "execution_count": 14,
   "id": "5463736a-9d0c-442f-8120-878bb79ecb96",
   "metadata": {},
   "outputs": [
    {
     "name": "stdout",
     "output_type": "stream",
     "text": [
      "\n",
      "\n",
      "\u001b[1m> Entering new ConversationChain chain...\u001b[0m\n",
      "Prompt after formatting:\n",
      "\u001b[32;1m\u001b[1;3mThe following is a friendly conversation between a human and an AI. The AI is talkative and provides lots of specific details from its context. If the AI does not know the answer to a question, it truthfully says it does not know.\n",
      "\n",
      "Current conversation:\n",
      "Human: Hello, my name is Sana. What's your name?\n",
      "AI: Hello Sana! My name is AI-9000. It's nice to meet you. How can I assist you today?\n",
      "Human: What do you think how many people have same name as mine?\n",
      "AI: That's an interesting question, Sana! According to the latest data, the name Sana is not extremely common but it is also not too rare. In the United States, for example, there are approximately 0.02% of the population with the name Sana. However, this number can vary depending on the country and region. Unfortunately, I do not have the exact number of people with the name Sana worldwide, but it is definitely a unique and beautiful name!\n",
      "Human: What is the most common name in United States then?\n",
      "AI:\u001b[0m\n",
      "\n",
      "\u001b[1m> Finished chain.\u001b[0m\n"
     ]
    },
    {
     "data": {
      "text/plain": [
       "\"The most common name in the United States is currently Liam for boys and Olivia for girls. These names have been popular for several years now and top the list of most common names in the country. Other popular names include Noah, Emma, Ava, and William. It's always interesting to see how naming trends change over time!\""
      ]
     },
     "execution_count": 14,
     "metadata": {},
     "output_type": "execute_result"
    }
   ],
   "source": [
    "conversation.predict(input=\"What is the most common name in United States then?\")"
   ]
  },
  {
   "cell_type": "code",
   "execution_count": 15,
   "id": "25843af9-0664-4bfa-89a5-cd3f772f972a",
   "metadata": {},
   "outputs": [
    {
     "name": "stdout",
     "output_type": "stream",
     "text": [
      "Human: Hello, my name is Sana. What's your name?\n",
      "AI: Hello Sana! My name is AI-9000. It's nice to meet you. How can I assist you today?\n",
      "Human: What do you think how many people have same name as mine?\n",
      "AI: That's an interesting question, Sana! According to the latest data, the name Sana is not extremely common but it is also not too rare. In the United States, for example, there are approximately 0.02% of the population with the name Sana. However, this number can vary depending on the country and region. Unfortunately, I do not have the exact number of people with the name Sana worldwide, but it is definitely a unique and beautiful name!\n",
      "Human: What is the most common name in United States then?\n",
      "AI: The most common name in the United States is currently Liam for boys and Olivia for girls. These names have been popular for several years now and top the list of most common names in the country. Other popular names include Noah, Emma, Ava, and William. It's always interesting to see how naming trends change over time!\n"
     ]
    }
   ],
   "source": [
    "print(memory.buffer)"
   ]
  },
  {
   "cell_type": "code",
   "execution_count": 16,
   "id": "4eb9fde8-c1a4-4d6c-aa44-f5a6e7fcef7d",
   "metadata": {},
   "outputs": [
    {
     "data": {
      "text/plain": [
       "{'history': \"Human: Hello, my name is Sana. What's your name?\\nAI: Hello Sana! My name is AI-9000. It's nice to meet you. How can I assist you today?\\nHuman: What do you think how many people have same name as mine?\\nAI: That's an interesting question, Sana! According to the latest data, the name Sana is not extremely common but it is also not too rare. In the United States, for example, there are approximately 0.02% of the population with the name Sana. However, this number can vary depending on the country and region. Unfortunately, I do not have the exact number of people with the name Sana worldwide, but it is definitely a unique and beautiful name!\\nHuman: What is the most common name in United States then?\\nAI: The most common name in the United States is currently Liam for boys and Olivia for girls. These names have been popular for several years now and top the list of most common names in the country. Other popular names include Noah, Emma, Ava, and William. It's always interesting to see how naming trends change over time!\"}"
      ]
     },
     "execution_count": 16,
     "metadata": {},
     "output_type": "execute_result"
    }
   ],
   "source": [
    "memory.load_memory_variables({})"
   ]
  },
  {
   "cell_type": "code",
   "execution_count": 17,
   "id": "97ed5405-e3fc-4406-a086-f6d5049106a2",
   "metadata": {},
   "outputs": [],
   "source": [
    "memory.save_context({\"input\":\"What's up?\"},\n",
    "                   {\"output\":\"Nothing much. What's with you?\"})"
   ]
  },
  {
   "cell_type": "code",
   "execution_count": 18,
   "id": "9958c79e-09f9-4e71-9dfb-5b77dcdf42dd",
   "metadata": {},
   "outputs": [
    {
     "data": {
      "text/plain": [
       "\"Human: Hello, my name is Sana. What's your name?\\nAI: Hello Sana! My name is AI-9000. It's nice to meet you. How can I assist you today?\\nHuman: What do you think how many people have same name as mine?\\nAI: That's an interesting question, Sana! According to the latest data, the name Sana is not extremely common but it is also not too rare. In the United States, for example, there are approximately 0.02% of the population with the name Sana. However, this number can vary depending on the country and region. Unfortunately, I do not have the exact number of people with the name Sana worldwide, but it is definitely a unique and beautiful name!\\nHuman: What is the most common name in United States then?\\nAI: The most common name in the United States is currently Liam for boys and Olivia for girls. These names have been popular for several years now and top the list of most common names in the country. Other popular names include Noah, Emma, Ava, and William. It's always interesting to see how naming trends change over time!\\nHuman: What's up?\\nAI: Nothing much. What's with you?\""
      ]
     },
     "execution_count": 18,
     "metadata": {},
     "output_type": "execute_result"
    }
   ],
   "source": [
    "memory.buffer"
   ]
  },
  {
   "cell_type": "code",
   "execution_count": 20,
   "id": "ab6c2a45-2a86-4557-87ee-906928e3a099",
   "metadata": {},
   "outputs": [
    {
     "data": {
      "text/plain": [
       "{'history': \"Human: Hello, my name is Sana. What's your name?\\nAI: Hello Sana! My name is AI-9000. It's nice to meet you. How can I assist you today?\\nHuman: What do you think how many people have same name as mine?\\nAI: That's an interesting question, Sana! According to the latest data, the name Sana is not extremely common but it is also not too rare. In the United States, for example, there are approximately 0.02% of the population with the name Sana. However, this number can vary depending on the country and region. Unfortunately, I do not have the exact number of people with the name Sana worldwide, but it is definitely a unique and beautiful name!\\nHuman: What is the most common name in United States then?\\nAI: The most common name in the United States is currently Liam for boys and Olivia for girls. These names have been popular for several years now and top the list of most common names in the country. Other popular names include Noah, Emma, Ava, and William. It's always interesting to see how naming trends change over time!\\nHuman: What's up?\\nAI: Nothing much. What's with you?\"}"
      ]
     },
     "execution_count": 20,
     "metadata": {},
     "output_type": "execute_result"
    }
   ],
   "source": [
    "memory.load_memory_variables({})"
   ]
  },
  {
   "cell_type": "markdown",
   "id": "30854538-016e-431f-ab4d-5a1c0ce3232b",
   "metadata": {},
   "source": [
    "### ConversationBufferedWindowMemory"
   ]
  },
  {
   "cell_type": "code",
   "execution_count": 21,
   "id": "a1c9878b-9d30-44cb-bed0-4ca45d033b11",
   "metadata": {},
   "outputs": [],
   "source": [
    "from langchain.memory import ConversationBufferWindowMemory"
   ]
  },
  {
   "cell_type": "code",
   "execution_count": 22,
   "id": "9e54afba-0084-45a7-bdba-c6ec87b7a45c",
   "metadata": {},
   "outputs": [],
   "source": [
    "memory = ConversationBufferWindowMemory(\n",
    "    k=1\n",
    ")"
   ]
  },
  {
   "cell_type": "code",
   "execution_count": 24,
   "id": "6d51191d-d745-4a44-97ce-91e8cafc267c",
   "metadata": {},
   "outputs": [],
   "source": [
    "memory.save_context(\n",
    "    {\"input\":\"I am listening to this Pakistani song called Nawazishe and it made me jump into another world. Are you fond of music?\"},\n",
    "    {\"output\":\"That's a good song. I am not fond of music but I can suggest you few songs as per your taste.\"}\n",
    ")\n",
    "\n",
    "memory.save_context(\n",
    "    {\"input\":\"Suggest me a good rock song then?\"},\n",
    "    {\"output\":\"How about Summer of 69?\"}\n",
    ")"
   ]
  },
  {
   "cell_type": "code",
   "execution_count": 27,
   "id": "3f9e5d17-0479-4372-822f-3ed345711d93",
   "metadata": {},
   "outputs": [],
   "source": [
    "llm = ChatOpenAI(\n",
    "    model=llm_model,\n",
    "    temperature=0.0\n",
    ")\n",
    "\n",
    "conversation = ConversationChain(\n",
    "    llm=llm,\n",
    "    memory=memory,\n",
    "    verbose=True\n",
    ")"
   ]
  },
  {
   "cell_type": "code",
   "execution_count": 28,
   "id": "bff5a0ef-be12-4aa4-a210-0f0384d55f2e",
   "metadata": {},
   "outputs": [
    {
     "data": {
      "text/plain": [
       "{'history': 'Human: Suggest me a good rock song then?\\nAI: How about Summer of 69?'}"
      ]
     },
     "execution_count": 28,
     "metadata": {},
     "output_type": "execute_result"
    }
   ],
   "source": [
    "memory.load_memory_variables({})"
   ]
  },
  {
   "cell_type": "code",
   "execution_count": 29,
   "id": "23a17f87-b702-408b-9566-d96560670a28",
   "metadata": {},
   "outputs": [
    {
     "name": "stdout",
     "output_type": "stream",
     "text": [
      "\n",
      "\n",
      "\u001b[1m> Entering new ConversationChain chain...\u001b[0m\n",
      "Prompt after formatting:\n",
      "\u001b[32;1m\u001b[1;3mThe following is a friendly conversation between a human and an AI. The AI is talkative and provides lots of specific details from its context. If the AI does not know the answer to a question, it truthfully says it does not know.\n",
      "\n",
      "Current conversation:\n",
      "Human: Suggest me a good rock song then?\n",
      "AI: How about Summer of 69?\n",
      "Human: It is good. Suggest me something else.\n",
      "AI:\u001b[0m\n",
      "\n",
      "\u001b[1m> Finished chain.\u001b[0m\n"
     ]
    },
    {
     "data": {
      "text/plain": [
       "'How about \"Livin\\' on a Prayer\" by Bon Jovi? It\\'s a classic rock anthem with a catchy chorus and energetic guitar riffs. I think you\\'ll enjoy it!'"
      ]
     },
     "execution_count": 29,
     "metadata": {},
     "output_type": "execute_result"
    }
   ],
   "source": [
    "conversation.predict(input=\"It is good. Suggest me something else.\")"
   ]
  },
  {
   "cell_type": "code",
   "execution_count": null,
   "id": "dd3e6de9-9a66-422e-92d9-d6833cb1f8e6",
   "metadata": {},
   "outputs": [],
   "source": []
  },
  {
   "cell_type": "markdown",
   "id": "3f9a6dd8-9fb6-4b9e-b671-e740f5e351d8",
   "metadata": {},
   "source": [
    "## ConversationTokenBufferedMemory"
   ]
  },
  {
   "cell_type": "code",
   "execution_count": 31,
   "id": "36760bbe-4fb5-4548-8b0b-a482662b9374",
   "metadata": {},
   "outputs": [
    {
     "name": "stdout",
     "output_type": "stream",
     "text": [
      "Defaulting to user installation because normal site-packages is not writeable\n",
      "Requirement already satisfied: tiktoken in /Users/sana/Library/Python/3.12/lib/python/site-packages (0.7.0)\n",
      "Requirement already satisfied: regex>=2022.1.18 in /Library/Frameworks/Python.framework/Versions/3.12/lib/python3.12/site-packages (from tiktoken) (2024.5.15)\n",
      "Requirement already satisfied: requests>=2.26.0 in /Library/Frameworks/Python.framework/Versions/3.12/lib/python3.12/site-packages (from tiktoken) (2.31.0)\n",
      "Requirement already satisfied: charset-normalizer<4,>=2 in /Library/Frameworks/Python.framework/Versions/3.12/lib/python3.12/site-packages (from requests>=2.26.0->tiktoken) (3.3.2)\n",
      "Requirement already satisfied: idna<4,>=2.5 in /Library/Frameworks/Python.framework/Versions/3.12/lib/python3.12/site-packages (from requests>=2.26.0->tiktoken) (3.6)\n",
      "Requirement already satisfied: urllib3<3,>=1.21.1 in /Library/Frameworks/Python.framework/Versions/3.12/lib/python3.12/site-packages (from requests>=2.26.0->tiktoken) (2.2.1)\n",
      "Requirement already satisfied: certifi>=2017.4.17 in /Library/Frameworks/Python.framework/Versions/3.12/lib/python3.12/site-packages (from requests>=2.26.0->tiktoken) (2023.11.17)\n"
     ]
    }
   ],
   "source": [
    "!pip install tiktoken"
   ]
  },
  {
   "cell_type": "code",
   "execution_count": 32,
   "id": "47da8f33-7ea8-4561-b6b6-8d3ee606596a",
   "metadata": {},
   "outputs": [],
   "source": [
    "from langchain.memory import ConversationTokenBufferMemory\n",
    "\n",
    "from langchain.llms import OpenAI\n",
    "\n",
    "llm = ChatOpenAI(\n",
    "    temperature=0.0,\n",
    "    model=llm_model\n",
    "\n",
    "    \n",
    ")"
   ]
  },
  {
   "cell_type": "code",
   "execution_count": 34,
   "id": "9d3fd266-80b9-49e3-a5fd-571943f1fd9a",
   "metadata": {},
   "outputs": [],
   "source": [
    "memory = ConversationTokenBufferMemory(\n",
    "    llm=llm,\n",
    "    max_token_limit=50\n",
    ")\n",
    "\n",
    "memory.save_context({\"input\":\"Hi I am John, what do you think how old I am?\"},\n",
    "                   {\"output\":\"Hi John. I am not sure about your age, could you give me some hint for a guess?\"})\n",
    "memory.save_context({\"input\":\"Hmm I am a big fan of Tom Cruise and I love playing Mario.\"},\n",
    "                   {\"output\":\"That's a good hint. From your likings, you could be a person born in 80s. Am I close?\"})"
   ]
  },
  {
   "cell_type": "code",
   "execution_count": 35,
   "id": "75346b0a-28ef-47b6-a59f-2fcfa48e64f2",
   "metadata": {},
   "outputs": [
    {
     "data": {
      "text/plain": [
       "{'history': \"AI: That's a good hint. From your likings, you could be a person born in 80s. Am I close?\"}"
      ]
     },
     "execution_count": 35,
     "metadata": {},
     "output_type": "execute_result"
    }
   ],
   "source": [
    "memory.load_memory_variables({})"
   ]
  },
  {
   "cell_type": "markdown",
   "id": "9ce17f9f-ea55-4c22-80d3-d72967c0f324",
   "metadata": {},
   "source": [
    "## ConversationSummaryMemory"
   ]
  },
  {
   "cell_type": "code",
   "execution_count": 36,
   "id": "fe088912-3bd5-4359-91b2-e2dbe8c716f5",
   "metadata": {},
   "outputs": [],
   "source": [
    "from langchain.memory import ConversationSummaryMemory\n",
    "\n",
    "memory = ConversationSummaryMemory(\n",
    "    llm=llm,\n",
    "    max_token_limit=100\n",
    ")"
   ]
  },
  {
   "cell_type": "code",
   "execution_count": 37,
   "id": "eca49a59-5451-41cb-854c-d5cf60ceb6fc",
   "metadata": {},
   "outputs": [],
   "source": [
    "memory.save_context({\"input\":\"Hi I am John, what do you think how old I am?\"},\n",
    "                   {\"output\":\"Hi John. I am not sure about your age, could you give me some hint for a guess?\"})\n",
    "memory.save_context({\"input\":\"Hmm I am a big fan of Tom Cruise and I love playing Mario.\"},\n",
    "                   {\"output\":\"That's a good hint. From your likings, you could be a person born in 80s. Am I close?\"})"
   ]
  },
  {
   "cell_type": "code",
   "execution_count": 38,
   "id": "84dc35d2-8157-4d6c-9fbe-dd43472e5e3d",
   "metadata": {},
   "outputs": [
    {
     "data": {
      "text/plain": [
       "{'history': 'John introduces himself and asks the AI to guess his age. The AI asks for a hint, and John reveals he is a fan of Tom Cruise and loves playing Mario. The AI makes a guess that John could be a person born in the 80s.'}"
      ]
     },
     "execution_count": 38,
     "metadata": {},
     "output_type": "execute_result"
    }
   ],
   "source": [
    "memory.load_memory_variables({})"
   ]
  },
  {
   "cell_type": "code",
   "execution_count": null,
   "id": "dc5ed269-31a4-441e-bbbe-939da2b24e5a",
   "metadata": {},
   "outputs": [],
   "source": []
  },
  {
   "cell_type": "code",
   "execution_count": null,
   "id": "9b096b15-26c8-4dc8-bdee-0f1c05921070",
   "metadata": {},
   "outputs": [],
   "source": []
  },
  {
   "cell_type": "code",
   "execution_count": null,
   "id": "637c5470-6929-402a-892b-917b098794da",
   "metadata": {},
   "outputs": [],
   "source": []
  },
  {
   "cell_type": "code",
   "execution_count": null,
   "id": "ccdc15cf-c4e9-43cc-b8e7-518a9aea72cb",
   "metadata": {},
   "outputs": [],
   "source": []
  },
  {
   "cell_type": "code",
   "execution_count": null,
   "id": "2b7388c3-0c26-4859-85c0-a0d140574cbc",
   "metadata": {},
   "outputs": [],
   "source": []
  }
 ],
 "metadata": {
  "kernelspec": {
   "display_name": "Python 3 (ipykernel)",
   "language": "python",
   "name": "python3"
  },
  "language_info": {
   "codemirror_mode": {
    "name": "ipython",
    "version": 3
   },
   "file_extension": ".py",
   "mimetype": "text/x-python",
   "name": "python",
   "nbconvert_exporter": "python",
   "pygments_lexer": "ipython3",
   "version": "3.12.2"
  }
 },
 "nbformat": 4,
 "nbformat_minor": 5
}
