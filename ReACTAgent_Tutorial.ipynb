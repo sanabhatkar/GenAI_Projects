{
 "cells": [
  {
   "cell_type": "markdown",
   "id": "466b92ba-e8a7-4976-84b0-c9ff9bdb86dc",
   "metadata": {},
   "source": [
    "## Illustration of ReACT agent using PythonREPL tool and our own ReACT tool using langchain framework.\n",
    "- I have used PythonREPL tool to instruct the llm model to sort a list of customers and perform some basic calculation.\n",
    "- I have defined my own agent to call my user define function to return today's date."
   ]
  },
  {
   "cell_type": "code",
   "execution_count": 12,
   "id": "30788ee1-39b9-4737-8a2a-7afa5c53d02c",
   "metadata": {},
   "outputs": [],
   "source": [
    "import os\n",
    "from dotenv import load_dotenv, find_dotenv\n",
    "import datetime"
   ]
  },
  {
   "cell_type": "code",
   "execution_count": 13,
   "id": "5d5dcb61-dab8-4e52-82e7-97a997042ba0",
   "metadata": {},
   "outputs": [],
   "source": [
    "current_date = datetime.datetime.now()\n",
    "target_date = datetime.datetime(2024,6,12)\n",
    "\n",
    "if current_date>target_date:\n",
    "    model_name = \"gpt-3.5-turbo\"\n",
    "else:\n",
    "    model_name = \"gpt-3.5-turbo-0301\""
   ]
  },
  {
   "cell_type": "code",
   "execution_count": 14,
   "id": "c7a3dd06-8922-4d68-8871-e732990c0231",
   "metadata": {},
   "outputs": [],
   "source": [
    "_ = load_dotenv(find_dotenv())"
   ]
  },
  {
   "cell_type": "code",
   "execution_count": 15,
   "id": "674e9e9f-1fe1-4557-b257-a159e49446ca",
   "metadata": {},
   "outputs": [],
   "source": [
    "#pip install --upgrade --quiet langchain langchainhub"
   ]
  },
  {
   "cell_type": "code",
   "execution_count": 16,
   "id": "f253001c-a01d-4cae-b8d4-1ac44ccf8726",
   "metadata": {},
   "outputs": [],
   "source": [
    "#pip install --upgrade --quiet langchain_community"
   ]
  },
  {
   "cell_type": "code",
   "execution_count": 17,
   "id": "e47b0fb7-4350-4bb2-8a3e-e3863d8c5e49",
   "metadata": {},
   "outputs": [],
   "source": [
    "#pip install --upgrade --quiet langchain-experimental"
   ]
  },
  {
   "cell_type": "code",
   "execution_count": 22,
   "id": "d3775f81-7966-4c88-8060-05431ecb0d26",
   "metadata": {},
   "outputs": [
    {
     "name": "stdout",
     "output_type": "stream",
     "text": [
      "Note: you may need to restart the kernel to use updated packages.\n"
     ]
    }
   ],
   "source": [
    "#pip install --upgrade --quiet langchain-openai"
   ]
  },
  {
   "cell_type": "code",
   "execution_count": 26,
   "id": "88d9e67d-16d7-40d1-bda2-65930edf9ef4",
   "metadata": {},
   "outputs": [
    {
     "name": "stdout",
     "output_type": "stream",
     "text": [
      "Note: you may need to restart the kernel to use updated packages.\n"
     ]
    }
   ],
   "source": [
    "#pip install --upgrade --quiet wikipedia"
   ]
  },
  {
   "cell_type": "code",
   "execution_count": 18,
   "id": "6bb2bec4-b27c-4a09-90ca-159a39977f8d",
   "metadata": {
    "scrolled": true
   },
   "outputs": [],
   "source": [
    "from langchain_experimental.agents.agent_toolkits import create_python_agent\n",
    "from langchain.agents import load_tools, initialize_agent\n",
    "from langchain.agents import AgentType\n",
    "from langchain_experimental.tools.python.tool import PythonREPLTool\n",
    "from langchain_experimental.utilities import PythonREPL\n",
    "from langchain.chat_models import ChatOpenAI"
   ]
  },
  {
   "cell_type": "code",
   "execution_count": 19,
   "id": "c08dfe58-9dc3-4286-b313-091407fcf653",
   "metadata": {},
   "outputs": [],
   "source": [
    "#llm = ChatOpenAI(model=model_name, temperature=0.1)"
   ]
  },
  {
   "cell_type": "code",
   "execution_count": 23,
   "id": "ec181c4d-f12c-4b58-baa9-42543e20d4ad",
   "metadata": {},
   "outputs": [],
   "source": [
    "from langchain_openai import ChatOpenAI"
   ]
  },
  {
   "cell_type": "code",
   "execution_count": 24,
   "id": "17a934be-07c8-4fb5-a5b2-039aaca8754e",
   "metadata": {},
   "outputs": [],
   "source": [
    "llm = ChatOpenAI(model=model_name, temperature=0.1)"
   ]
  },
  {
   "cell_type": "code",
   "execution_count": 27,
   "id": "188b62e1-3e22-4d9c-8639-43ba754654fc",
   "metadata": {},
   "outputs": [],
   "source": [
    "tools = load_tools(['llm-math','wikipedia'], llm=llm)"
   ]
  },
  {
   "cell_type": "code",
   "execution_count": 28,
   "id": "24345d7b-5af1-4d6c-8afc-d21490005b1b",
   "metadata": {},
   "outputs": [
    {
     "name": "stderr",
     "output_type": "stream",
     "text": [
      "/opt/anaconda3/lib/python3.12/site-packages/langchain_core/_api/deprecation.py:139: LangChainDeprecationWarning: The function `initialize_agent` was deprecated in LangChain 0.1.0 and will be removed in 0.3.0. Use Use new agent constructor methods like create_react_agent, create_json_agent, create_structured_chat_agent, etc. instead.\n",
      "  warn_deprecated(\n"
     ]
    }
   ],
   "source": [
    "l_agent = initialize_agent(\n",
    "    tools=tools,\n",
    "    llm=llm,\n",
    "    agent=AgentType.ZERO_SHOT_REACT_DESCRIPTION,\n",
    "    verbose=True,\n",
    "    handle_parsing_error=True\n",
    ")"
   ]
  },
  {
   "cell_type": "code",
   "execution_count": 29,
   "id": "60f93b91-2da7-48ed-bfc3-86d254c8bb0d",
   "metadata": {},
   "outputs": [
    {
     "name": "stderr",
     "output_type": "stream",
     "text": [
      "/opt/anaconda3/lib/python3.12/site-packages/langchain_core/_api/deprecation.py:139: LangChainDeprecationWarning: The method `Chain.__call__` was deprecated in langchain 0.1.0 and will be removed in 0.3.0. Use invoke instead.\n",
      "  warn_deprecated(\n"
     ]
    },
    {
     "name": "stdout",
     "output_type": "stream",
     "text": [
      "\n",
      "\n",
      "\u001b[1m> Entering new AgentExecutor chain...\u001b[0m\n",
      "\u001b[32;1m\u001b[1;3mI should use the Calculator tool to solve this math problem.\n",
      "Action: Calculator\n",
      "Action Input: 1+1\u001b[0m\n",
      "Observation: \u001b[36;1m\u001b[1;3mAnswer: 2\u001b[0m\n",
      "Thought:\u001b[32;1m\u001b[1;3mI now know the final answer\n",
      "Final Answer: 2\u001b[0m\n",
      "\n",
      "\u001b[1m> Finished chain.\u001b[0m\n"
     ]
    },
    {
     "data": {
      "text/plain": [
       "{'input': 'What is 1+1?', 'output': '2'}"
      ]
     },
     "execution_count": 29,
     "metadata": {},
     "output_type": "execute_result"
    }
   ],
   "source": [
    "l_agent(\"What is 1+1?\")"
   ]
  },
  {
   "cell_type": "code",
   "execution_count": 30,
   "id": "5886aed6-df12-4847-84f7-a024be295314",
   "metadata": {},
   "outputs": [
    {
     "name": "stdout",
     "output_type": "stream",
     "text": [
      "\n",
      "\n",
      "\u001b[1m> Entering new AgentExecutor chain...\u001b[0m\n",
      "\u001b[32;1m\u001b[1;3mI should use Wikipedia to find the answer to this historical question.\n",
      "Action: wikipedia\n",
      "Action Input: India independence date\u001b[0m\n",
      "Observation: \u001b[33;1m\u001b[1;3mPage: Independence Day (India)\n",
      "Summary: Independence Day is celebrated annually on 15 August as a public holiday in India commemorating the nation's independence from the United Kingdom on 15 August 1947, the day when the provisions of the Indian Independence Act, which transferred legislative sovereignty to the Indian Constituent Assembly, came into effect. India retained King George VI as head of state until its transition to a republic, when the Constitution of India came into effect on 26 January 1950 (celebrated as Indian Republic Day) and replaced the dominion prefix, Dominion of India, with the enactment of the sovereign law Constitution of India. India attained independence following the independence movement noted for largely non-violent resistance and civil disobedience led by Indian National Congress under the leadership of Mahatma Gandhi who adopted these values from one of the early movements in India led by Ram Singh Kuka (quoted in one of the letters by Shaheed Bhagat Singh referring Guru Ram Singh as his Dada Guru).\n",
      "Independence coincided with the partition of India, in which British India was divided into the Dominions of India and Pakistan; the partition was accompanied by violent riots and mass casualties, and the displacement of nearly 15 million people due to religious violence. On 15 August 1947, the first Prime Minister of India, Jawaharlal Nehru raised the Indian national flag above the Lahori Gate of the Red Fort in Delhi. On each subsequent Independence Day, the incumbent Prime Minister customarily raises the flag and gives an address to the nation. The entire event is broadcast by Doordarshan, India's national broadcaster, and usually begins with the shehnai music of Ustad Bismillah Khan. Independence Day is observed throughout India with flag-hoisting ceremonies, parades and cultural events. It is a national holiday.\n",
      "\n",
      "Page: Interim Government of India\n",
      "Summary: The Interim Government of India, also known as the Provisional Government of India, formed on 2  September 1946 from the newly elected Constituent Assembly of India, had the task of assisting the transition of British India to independence. It remained in place until 15 August 1947, the date of the independence (and partition) of British India, and the creation of the dominions of India and Pakistan.\n",
      "\n",
      "Page: List of sovereign states by date of formation\n",
      "Summary: Below is a list of sovereign states with the dates of their formation (date of their independence or of their constitution), sorted by continent.\n",
      "This list includes the 195 states which are currently member states of the United Nations or non-member observer states with the United Nations General Assembly. This does not include extinct states, but does include several states with limited recognition.\n",
      "For proposed states or various indigenous nations which consider themselves still under occupation, see list of active autonomist and secessionist movements.\n",
      "Nation-building is a long evolutionary process, and in most cases the date of a country's \"formation\" cannot be objectively determined; e.g., the fact that England and France were sovereign kingdoms on equal footing in the medieval period does not prejudice the fact that England is not now a sovereign state (having passed sovereignty to Great Britain in 1707), while France is a Republic founded in 1870 (though the term France generally refers to the current French Fifth Republic government, formed in 1958).\n",
      "Around 60 countries gained independence from the United Kingdom throughout its history, the most in the world, followed by with around 40 countries that gained independence from France throughout its history. Over 50% of the world's borders today, were drawn as a result of British and French imperialism.\n",
      "An unambiguous measure is the date of national constitutions; but as constitutions are an almost entirely modern concept, all formation dates by that criterion are modern or early modern (the oldest extant constitution being that of\u001b[0m\n",
      "Thought:\u001b[32;1m\u001b[1;3mBased on the information from Wikipedia, India was given independence from the United Kingdom on August 15, 1947.\n",
      "Final Answer: India was given independence on August 15, 1947.\u001b[0m\n",
      "\n",
      "\u001b[1m> Finished chain.\u001b[0m\n"
     ]
    },
    {
     "data": {
      "text/plain": [
       "{'input': 'When was india given independance?',\n",
       " 'output': 'India was given independence on August 15, 1947.'}"
      ]
     },
     "execution_count": 30,
     "metadata": {},
     "output_type": "execute_result"
    }
   ],
   "source": [
    "l_agent(\"When was india given independance?\")"
   ]
  },
  {
   "cell_type": "code",
   "execution_count": null,
   "id": "8675e6a9-029b-4900-81db-4a32a4c4bd27",
   "metadata": {},
   "outputs": [],
   "source": [
    "#from langchain_experimental.utilities import PythonREPL\n",
    "#from langchain.tools import Tool"
   ]
  },
  {
   "cell_type": "code",
   "execution_count": 31,
   "id": "59611b28-5a11-4624-9592-eabad9a15917",
   "metadata": {},
   "outputs": [],
   "source": [
    "agent = create_python_agent(\n",
    "    llm,\n",
    "    tool=PythonREPLTool(),\n",
    "    verbose=True\n",
    ")"
   ]
  },
  {
   "cell_type": "code",
   "execution_count": 32,
   "id": "2ab87db8-fe68-4be3-8e70-03a47d38c97d",
   "metadata": {},
   "outputs": [],
   "source": [
    "customer_list = [[\"Harrison\", \"Chase\"], \n",
    "                 [\"Lang\", \"Chain\"],\n",
    "                 [\"Dolly\", \"Too\"],\n",
    "                 [\"Elle\", \"Elem\"], \n",
    "                 [\"Geoff\",\"Fusion\"], \n",
    "                 [\"Trance\",\"Former\"],\n",
    "                 [\"Jen\",\"Ayai\"]\n",
    "                ]"
   ]
  },
  {
   "cell_type": "code",
   "execution_count": 33,
   "id": "2dcec06c-a55e-4328-a830-8b2f891781a9",
   "metadata": {},
   "outputs": [
    {
     "name": "stderr",
     "output_type": "stream",
     "text": [
      "/opt/anaconda3/lib/python3.12/site-packages/langchain_core/_api/deprecation.py:139: LangChainDeprecationWarning: The method `Chain.run` was deprecated in langchain 0.1.0 and will be removed in 0.3.0. Use invoke instead.\n",
      "  warn_deprecated(\n"
     ]
    },
    {
     "name": "stdout",
     "output_type": "stream",
     "text": [
      "\n",
      "\n",
      "\u001b[1m> Entering new AgentExecutor chain...\u001b[0m\n"
     ]
    },
    {
     "name": "stderr",
     "output_type": "stream",
     "text": [
      "Python REPL can execute arbitrary code. Use with caution.\n"
     ]
    },
    {
     "name": "stdout",
     "output_type": "stream",
     "text": [
      "\u001b[32;1m\u001b[1;3mWe can use the `sorted()` function in Python to sort the list of customers based on last name first and then first name.\n",
      "Action: Python_REPL\n",
      "Action Input: customers = [['Harrison', 'Chase'], ['Lang', 'Chain'], ['Dolly', 'Too'], ['Elle', 'Elem'], ['Geoff', 'Fusion'], ['Trance', 'Former'], ['Jen', 'Ayai']]\n",
      "sorted_customers = sorted(customers, key=lambda x: (x[1], x[0]))\n",
      "print(sorted_customers)\u001b[0m\n",
      "Observation: \u001b[36;1m\u001b[1;3m[['Jen', 'Ayai'], ['Lang', 'Chain'], ['Harrison', 'Chase'], ['Elle', 'Elem'], ['Trance', 'Former'], ['Geoff', 'Fusion'], ['Dolly', 'Too']]\n",
      "\u001b[0m\n",
      "Thought:\u001b[32;1m\u001b[1;3mThe customers are now sorted by last name and then first name.\n",
      "Final Answer: [['Jen', 'Ayai'], ['Lang', 'Chain'], ['Harrison', 'Chase'], ['Elle', 'Elem'], ['Trance', 'Former'], ['Geoff', 'Fusion'], ['Dolly', 'Too']]\u001b[0m\n",
      "\n",
      "\u001b[1m> Finished chain.\u001b[0m\n"
     ]
    },
    {
     "data": {
      "text/plain": [
       "\"[['Jen', 'Ayai'], ['Lang', 'Chain'], ['Harrison', 'Chase'], ['Elle', 'Elem'], ['Trance', 'Former'], ['Geoff', 'Fusion'], ['Dolly', 'Too']]\""
      ]
     },
     "execution_count": 33,
     "metadata": {},
     "output_type": "execute_result"
    }
   ],
   "source": [
    "agent.run(f\"\"\"Sort these customers by \\\n",
    "last name and then first name \\\n",
    "and print the output: {customer_list}\"\"\") "
   ]
  },
  {
   "cell_type": "code",
   "execution_count": 34,
   "id": "e98c40f0-2b80-4b2c-b436-0cf859f6b9bf",
   "metadata": {},
   "outputs": [
    {
     "name": "stdout",
     "output_type": "stream",
     "text": [
      "\n",
      "\n",
      "\u001b[1m> Entering new AgentExecutor chain...\u001b[0m\n",
      "\u001b[32;1m\u001b[1;3mWe can use the `sorted()` function in Python to sort the list of book names alphabetically in ascending order. Let's do that.\n",
      "Action: Python_REPL\n",
      "Action Input: sorted(['Postscript', 'Python for Beginners', 'Generative Ai Guide', 'Life is beautiful!', 'Rainbow of hope'])\u001b[0m\n",
      "Observation: \u001b[36;1m\u001b[1;3m\u001b[0m\n",
      "Thought:\u001b[32;1m\u001b[1;3mThe output shows the list of book names sorted alphabetically in ascending order.\n",
      "Final Answer: ['Generative Ai Guide', 'Life is beautiful!', 'Postscript', 'Python for Beginners', 'Rainbow of hope']\u001b[0m\n",
      "\n",
      "\u001b[1m> Finished chain.\u001b[0m\n"
     ]
    },
    {
     "data": {
      "text/plain": [
       "\"['Generative Ai Guide', 'Life is beautiful!', 'Postscript', 'Python for Beginners', 'Rainbow of hope']\""
      ]
     },
     "execution_count": 34,
     "metadata": {},
     "output_type": "execute_result"
    }
   ],
   "source": [
    "book_list = [\"Postscript\",\"Python for Beginners\",\"Generative Ai Guide\",\"Life is beautiful!\",\"Rainbow of hope\"]\n",
    "\n",
    "prompt = f\"\"\"Sort the given list of book names alphabetically in ascending order and print them.\\\n",
    "{book_list} \\\n",
    "\"\"\"\n",
    "agent.run(prompt)\n"
   ]
  },
  {
   "cell_type": "markdown",
   "id": "43ea89cb-def3-4d77-9069-97f589c61d04",
   "metadata": {},
   "source": [
    "## Define your own tool"
   ]
  },
  {
   "cell_type": "code",
   "execution_count": 36,
   "id": "757c59ae-e3ee-428d-b417-77ffbf7ba2fd",
   "metadata": {},
   "outputs": [],
   "source": [
    "from langchain.agents import tool"
   ]
  },
  {
   "cell_type": "code",
   "execution_count": 41,
   "id": "74f3fe8b-5c13-41ea-a992-10fd5c9331a8",
   "metadata": {
    "scrolled": true
   },
   "outputs": [],
   "source": [
    "@tool\n",
    "def today(text:str) -> str:\n",
    "    \"\"\"this function is used to return today's date as a string. use this for any \\\n",
    "    questions related to knowing todays date. \\\n",
    "    The input should always be an empty string, \\\n",
    "    and this function will always return todays \\\n",
    "    date - any date mathmatics should occur \\\n",
    "    outside this function.\n",
    "    \"\"\"\n",
    "    return str(datetime.datetime.now())"
   ]
  },
  {
   "cell_type": "code",
   "execution_count": 44,
   "id": "306d7c79-3028-4a42-81a7-adb0c7929226",
   "metadata": {},
   "outputs": [],
   "source": [
    "agent = initialize_agent(\n",
    "    tools + [today],\n",
    "    llm=llm,\n",
    "    agent=AgentType.ZERO_SHOT_REACT_DESCRIPTION,\n",
    "    handle_parsing_error=True,\n",
    "    verbose = True\n",
    ")"
   ]
  },
  {
   "cell_type": "code",
   "execution_count": 46,
   "id": "150c15be-c993-42f2-be81-f7ec9f8467ac",
   "metadata": {},
   "outputs": [
    {
     "name": "stdout",
     "output_type": "stream",
     "text": [
      "\n",
      "\n",
      "\u001b[1m> Entering new AgentExecutor chain...\u001b[0m\n",
      "\u001b[32;1m\u001b[1;3mI should use the today function to get today's date.\n",
      "Action: today\n",
      "Action Input: \"\"\u001b[0m\n",
      "Observation: \u001b[38;5;200m\u001b[1;3m2024-07-09 10:48:06.794274\u001b[0m\n",
      "Thought:\u001b[32;1m\u001b[1;3mI now know today's date.\n",
      "Final Answer: Today is July 9, 2024.\u001b[0m\n",
      "\n",
      "\u001b[1m> Finished chain.\u001b[0m\n"
     ]
    }
   ],
   "source": [
    "try:\n",
    "    agent.run(\"What is day today?\")\n",
    "except:\n",
    "    print(\"Exception occured\")"
   ]
  },
  {
   "cell_type": "code",
   "execution_count": null,
   "id": "6e90214c-4a6a-4914-9b63-056f6168a73a",
   "metadata": {},
   "outputs": [],
   "source": []
  },
  {
   "cell_type": "code",
   "execution_count": null,
   "id": "167fa7b6-4030-4d70-abb3-11c6fdacec2c",
   "metadata": {},
   "outputs": [],
   "source": []
  },
  {
   "cell_type": "code",
   "execution_count": null,
   "id": "2f33c51f-29d6-42e0-a326-1bd7ad0714b3",
   "metadata": {},
   "outputs": [],
   "source": []
  },
  {
   "cell_type": "code",
   "execution_count": null,
   "id": "10031092-d5ff-4cc4-8e9e-75d70127fe7c",
   "metadata": {},
   "outputs": [],
   "source": []
  },
  {
   "cell_type": "code",
   "execution_count": null,
   "id": "0543f5b8-019a-4ec1-b9fa-a9fa128e9039",
   "metadata": {},
   "outputs": [],
   "source": []
  },
  {
   "cell_type": "code",
   "execution_count": null,
   "id": "a5685b6a-35a3-482f-a7f5-04492b916043",
   "metadata": {},
   "outputs": [],
   "source": []
  }
 ],
 "metadata": {
  "kernelspec": {
   "display_name": "Python 3 (ipykernel)",
   "language": "python",
   "name": "python3"
  },
  "language_info": {
   "codemirror_mode": {
    "name": "ipython",
    "version": 3
   },
   "file_extension": ".py",
   "mimetype": "text/x-python",
   "name": "python",
   "nbconvert_exporter": "python",
   "pygments_lexer": "ipython3",
   "version": "3.12.4"
  }
 },
 "nbformat": 4,
 "nbformat_minor": 5
}
