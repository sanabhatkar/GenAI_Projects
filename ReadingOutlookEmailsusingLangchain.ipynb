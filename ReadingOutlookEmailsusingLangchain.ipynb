{
 "cells": [
  {
   "cell_type": "code",
   "execution_count": 1,
   "id": "0e8ebdad-6d53-4afb-b70c-55507601476e",
   "metadata": {},
   "outputs": [],
   "source": [
    "from langchain_community.document_loaders import UnstructuredEmailLoader"
   ]
  },
  {
   "cell_type": "code",
   "execution_count": null,
   "id": "c9f3c5c6-4726-478d-903d-a16b872b6088",
   "metadata": {},
   "outputs": [],
   "source": [
    "import os\n",
    "os.chdir(\"OutlookEmails/\")"
   ]
  },
  {
   "cell_type": "code",
   "execution_count": 11,
   "id": "b1b061d0-d6d6-4d36-b9cb-bc906a53f949",
   "metadata": {},
   "outputs": [],
   "source": [
    "emails = []\n",
    "for file in os.listdir():\n",
    "    if file.endswith(\".eml\"):\n",
    "        loader = UnstructuredEmailLoader(file, mode=\"elements\")\n",
    "        data = loader.load()\n",
    "        emails.append(data)"
   ]
  },
  {
   "cell_type": "code",
   "execution_count": 13,
   "id": "c6fb6928-380d-4745-8e40-580a195ae073",
   "metadata": {},
   "outputs": [
    {
     "name": "stdout",
     "output_type": "stream",
     "text": [
      "5\n"
     ]
    }
   ],
   "source": [
    "print(len(emails))"
   ]
  },
  {
   "cell_type": "code",
   "execution_count": 35,
   "id": "cfb0ccb2-39f7-4eb9-82e1-53cc02bb7459",
   "metadata": {},
   "outputs": [
    {
     "name": "stdout",
     "output_type": "stream",
     "text": [
      "********************\n",
      " \n",
      "********************\n",
      "Manage your subscription today.\n",
      "********************\n",
      "  Your Microsoft 365 Personal recurring billing has been turned off Your Microsoft 365 Personal subscription has been cancelled and will expire on 26 June 2024 . After this date, you'll lose access to the latest AI-powered Microsoft 365 apps, 1 TB of cloud storage, and more. If you've exceeded your Microsoft storage quota, you won't be able to send or receive email in Outlook.com and you won’t be able to upload, edit, or sync new files (such as Camera Roll) to your OneDrive. We’re sorry to see you go. If you change your mind, you can turn on recurring billing or manage your subscription at any time by signing in to your Microsoft account for uninterrupted access to your favorite Microsoft 365 apps and cloud storage. Review subscription >   Account information Subscription: Microsoft 365 Personal Expiration date: 26 June 2024 Payment method: Visa **4996   Did you find this email helpful? Yes No  \n",
      "                                            \n",
      "\n",
      "       Privacy Statement   Microsoft Corporation, One Microsoft Way, ​Redmond, WA 98052​\n",
      "********************\n",
      "   \n",
      "    Verify your email to start using Stripe\n",
      "  \n",
      "\n",
      "          \n",
      "          ‌ ‌ ‌ ‌ ‌ ‌ ‌ ‌ ‌ ‌ ‌ ‌ ‌ ‌ ‌ ‌ ‌ ‌ ‌ ‌ ‌ ‌ ‌ ‌ ‌ ‌ ‌ ‌ ‌ ‌ ‌ ‌ ‌ ‌ ‌ ‌ ‌ ‌ ‌ ‌ ‌ ‌ ‌ ‌ ‌ ‌ ‌ ‌ ‌ ‌ ‌ ‌ ‌ ‌ ‌ ‌ ‌ ‌ ‌ ‌ ‌ ‌ ‌ ‌ ‌ ‌ ‌ ‌ ‌ ‌ ‌ ‌ ‌ ‌ ‌ ‌ ‌ ‌ ‌ ‌ ‌ ‌ ‌ ‌ ‌ ‌ ‌ ‌ ‌ ‌ ‌ ‌ ‌ ‌ ‌ ‌ ‌ ‌ ‌ ‌ ‌ ‌ ‌ ‌ ‌ ‌ ‌ ‌ ‌ ‌ ‌ ‌ ‌ ‌ ‌ ‌ ‌ ‌ ‌ ‌ ‌ ‌ ‌ ‌ ‌ ‌ ‌ ‌ ‌ ‌ ‌ ‌ ‌ ‌ ‌ ‌ ‌ ‌ ‌ ‌ ‌ ‌ ‌ ‌ ‌ ‌ ‌ ‌ ‌ ‌ ‌ ‌ ‌ ‌ ‌ ‌ ‌ ‌ ‌ ‌ ‌ ‌ ‌ ‌ ‌ ‌ ‌ ‌ ‌ ‌ ‌ ‌ ‌ ‌ ‌ ‌ ‌ ‌ ‌ ‌ ‌ ‌ ‌ ‌ ‌ ‌ ‌ ‌ ‌ ‌ ‌ ‌ ‌ ‌ ‌ ‌ ‌ ‌ ‌ ‌ ‌ ‌ ‌ ‌ ‌ ‌ ‌ ‌ ‌ ‌ ‌ ‌ ‌ ‌ ‌ ‌ ‌ ‌ ‌ ‌ ‌ ‌ ‌ ‌ ‌ ‌ ‌ ‌ ‌ ‌ ‌ ‌ ‌ ‌ ‌ ‌ ‌ ‌ ‌ ‌ ‌ ‌ ‌ ‌ ‌ ‌ ‌ ‌ ‌ ‌ ‌ ‌ ‌ ‌ ‌ ‌ ‌ ‌ ‌ ‌ ‌ ‌ ‌ ‌ ‌ ‌ ‌ ‌ ‌ ‌ ‌ ‌ ‌ ‌ ‌ ‌ ‌ ‌ ‌ ‌ ‌ ‌ ‌ ‌ ‌ ‌ ‌ ‌ ‌ ‌ ‌ ‌ ‌ ‌ ‌ ‌ ‌ ‌ ‌ ‌ ‌ ‌ ‌ ‌ ‌ ‌ ‌ ‌ ‌ ‌ ‌ ‌ ‌ ‌ ‌ ‌ ‌ ‌ ‌ ‌ ‌ ‌ ‌ ‌ Verify your email address so we know it’s really you – and so we can send you important information about your Stripe account. Verify email address Have any questions so far? Visit Stripe Support or contact us .  \n",
      "    Thanks, Stripe\n",
      "   Stripe, 354 Oyster Point Blvd, South San Francisco, CA 94080 Email ID: em_zzpaodbjxjqbeobvahtc3ey2gibl0n\n",
      "********************\n",
      "   \n",
      "  You’re almost ready to start using Stripe\n",
      "\n",
      "\n",
      "          \n",
      "          ‌ ‌ ‌ ‌ ‌ ‌ ‌ ‌ ‌ ‌ ‌ ‌ ‌ ‌ ‌ ‌ ‌ ‌ ‌ ‌ ‌ ‌ ‌ ‌ ‌ ‌ ‌ ‌ ‌ ‌ ‌ ‌ ‌ ‌ ‌ ‌ ‌ ‌ ‌ ‌ ‌ ‌ ‌ ‌ ‌ ‌ ‌ ‌ ‌ ‌ ‌ ‌ ‌ ‌ ‌ ‌ ‌ ‌ ‌ ‌ ‌ ‌ ‌ ‌ ‌ ‌ ‌ ‌ ‌ ‌ ‌ ‌ ‌ ‌ ‌ ‌ ‌ ‌ ‌ ‌ ‌ ‌ ‌ ‌ ‌ ‌ ‌ ‌ ‌ ‌ ‌ ‌ ‌ ‌ ‌ ‌ ‌ ‌ ‌ ‌ ‌ ‌ ‌ ‌ ‌ ‌ ‌ ‌ ‌ ‌ ‌ ‌ ‌ ‌ ‌ ‌ ‌ ‌ ‌ ‌ ‌ ‌ ‌ ‌ ‌ ‌ ‌ ‌ ‌ ‌ ‌ ‌ ‌ ‌ ‌ ‌ ‌ ‌ ‌ ‌ ‌ ‌ ‌ ‌ ‌ ‌ ‌ ‌ ‌ ‌ ‌ ‌ ‌ ‌ ‌ ‌ ‌ ‌ ‌ ‌ ‌ ‌ ‌ ‌ ‌ ‌ ‌ ‌ ‌ ‌ ‌ ‌ ‌ ‌ ‌ ‌ ‌ ‌ ‌ ‌ ‌ ‌ ‌ ‌ ‌ ‌ ‌ ‌ ‌ ‌ ‌ ‌ ‌ ‌ ‌ ‌ ‌ ‌ ‌ ‌ ‌ ‌ ‌ ‌ ‌ ‌ ‌ ‌ ‌ ‌ ‌ ‌ ‌ ‌ ‌ ‌ ‌ ‌ ‌ ‌ ‌ ‌ ‌ ‌ ‌ ‌ ‌ ‌ ‌ ‌ ‌ ‌ ‌ ‌ ‌ ‌ ‌ ‌ ‌ ‌ ‌ ‌ ‌ ‌ ‌ ‌ ‌ ‌ ‌ ‌ ‌ ‌ ‌ ‌ ‌ ‌ ‌ ‌ ‌ ‌ ‌ ‌ ‌ ‌ ‌ ‌ ‌ ‌ ‌ ‌ ‌ ‌ ‌ ‌ ‌ ‌ ‌ ‌ ‌ ‌ ‌ ‌ ‌ ‌ ‌ ‌ ‌ ‌ ‌ ‌ ‌ ‌ ‌ ‌ ‌ ‌ ‌ ‌ ‌ ‌ ‌ ‌ ‌ ‌ ‌ ‌ ‌ ‌ ‌ ‌ ‌ ‌ ‌ ‌ ‌ ‌ ‌ ‌ ‌ ‌ ‌ ‌ ‌ ‌ Thank you for starting your account application with Stripe! We’re excited to help you start accepting payments online. You’re nearly ready to get started – we just need a little more information about your business:    \n",
      "    Business structure\n",
      "    \n",
      "      Business details\n",
      "      \n",
      "      Support details\n",
      "      \n",
      "    Bank details\n",
      "   Complete my application Need more help to get started? Take a look at this checklist to learn more about next steps or find a Stripe partner to quickly deliver the solution or service you need. If you have any questions, we’re available 24/7 . —The Stripe team  \n",
      "     This email relates to your Stripe account for acct_1MyXbOSDyImzJROi . Account ID: acct_1MyXbOSDyImzJROi Email ID: em_pyaakso9zgsffg7ikv46g0vaz6r1qn Stripe India Private Limited | No. 32, Next to Satvik Apartment, Near National Convent, Vittal Nagar, ISRO LYT, Bangalore-560078, Karnataka, India | CIN  U72200KA2016FTC096320\n",
      "********************\n",
      "See our community's stories, tips and tricks ...\n",
      "********************\n",
      "POPULAR BLOG | \n",
      "\t\t\t\t\t\t\t\t\t\t\t\t\t19th of April, 2023, by Sandraviolla My Dreamstime journey This was my first sale on Dreamstime. During that period of time, most photographers used classic wooden backgrounds in white or brown colors. But somehow, I found the courage to go against the norm and use my beloved... Read more... POPULAR BLOG | \n",
      "\t\t\t\t\t\t\t\t\t\t\t\t\t18th of April, 2023, by Wisconsinart April 29 National Dance Day - How to Capture the Energy of Dance in Photos Dance has been an important human social activity for millennia. It`s a means for two people to meet both formally and informally. Sometimes we dance just to have fun or to explore possibilities of something deeper... Read more... POPULAR BLOG | \n",
      "\t\t\t\t\t\t\t\t\t\t\t\t\t12th of April, 2023, by Ronniechua Turning a Woeful Crisis into a Wonderful Opportunity Crisis Comes CallingArmed with a medical mask, protective face shield and pair of rubber gloves, I scurried through the supermarket aisle searching for the elusive toilet paper,... Read more... WORLD'S LARGEST STOCK PHOTOGRAPHY COMMUNITY You've received this email because you signed up to receive emails from Dreamstime.com: Contributor`s newsletters - Newsletters created for contributors, like Assignments, Blogs and more. . If you do not want to receive these emails in the\n",
      "future, you can manage email preferences here . View this in your browser. Copyright 2000-2023 Dreamstime.com\n",
      "********************\n",
      "Hello, You’re receiving this email because we are updating the Microsoft Services Agreement, which applies to one or more Microsoft products or services you use. We’re making these updates to clarify our terms and ensure that they remain transparent for you, as well as to cover new Microsoft products, services and features. Your Services Agreement made clearer Hello, You’re receiving this email because we are updating the Microsoft Services Agreement, which applies to one or more Microsoft products or services you use. We’re making these updates to clarify our terms and ensure that they remain transparent for you, as well as to cover new Microsoft products, services and features. The Microsoft Services Agreement is an agreement between you and Microsoft (or one of its affiliates) that governs your use of Microsoft consumer online products and services. You can read the entire Microsoft Services Agreement here . You can also learn more about these updates on our FAQs page here , including a summary of the most notable changes. The updates to the Microsoft Services Agreement will take effect on 30 September 2024. If you continue to use our products and services on or after 30 September 2024, you are agreeing to the updated Microsoft Services Agreement. If you do not agree, you can choose to discontinue using the products and services, and close your Microsoft account before these terms become effective. If you are a parent or guardian, you are responsible for your child’s or teenager’s use of Microsoft products and services, including purchases. Thank you for using Microsoft products and services. Microsoft Services Agreement > Microsoft Privacy Statement > Frequently Asked Questions > This email was sent from an unmonitored mailbox. Privacy Statement Microsoft Corporation, O‍ne Mi‍crosoft Wa‍y, Redm‍ond, WA 98052 U‍SA\n"
     ]
    }
   ],
   "source": [
    "from langchain_core.documents.base import Document\n",
    "for e in emails:\n",
    "    for items in e:\n",
    "        d = items\n",
    "        #print(d.metadata.keys())\n",
    "        #print(d.metadata[\"subject\"])\n",
    "        if d.page_content:\n",
    "            print(f'{'*' * 20}')\n",
    "            print(d.page_content)"
   ]
  },
  {
   "cell_type": "code",
   "execution_count": null,
   "id": "a0b02bcc-0cf6-4826-97ed-232bce668b75",
   "metadata": {},
   "outputs": [],
   "source": []
  },
  {
   "cell_type": "code",
   "execution_count": null,
   "id": "6ece38bd-9232-4885-ac96-8bb59ec0244c",
   "metadata": {},
   "outputs": [],
   "source": []
  }
 ],
 "metadata": {
  "kernelspec": {
   "display_name": "Python 3 (ipykernel)",
   "language": "python",
   "name": "python3"
  },
  "language_info": {
   "codemirror_mode": {
    "name": "ipython",
    "version": 3
   },
   "file_extension": ".py",
   "mimetype": "text/x-python",
   "name": "python",
   "nbconvert_exporter": "python",
   "pygments_lexer": "ipython3",
   "version": "3.12.2"
  }
 },
 "nbformat": 4,
 "nbformat_minor": 5
}
