{
 "cells": [
  {
   "cell_type": "markdown",
   "id": "e5189f05-c366-4c2b-bc3c-a4f30486d905",
   "metadata": {},
   "source": [
    "## Build a RAG agent that reads the internal data from CSV and is used to query LLM to answer questions pertaining to this data"
   ]
  },
  {
   "cell_type": "markdown",
   "id": "7cdf4ec7-2835-4eff-a60b-e3a671ba90f5",
   "metadata": {},
   "source": [
    "- We are going to start by importing basic and langchain libraries\n",
    "- We will use CSVLoader provided by langchain framework to read the CSV\n",
    "- Create embeddings for data using OpenAI\n",
    "- Docarray for creating vectorstore\n",
    "- providing the vectors index to LLM for getting answers to questions\n",
    "- building a conversational agent using langchain.tools.Tool class by Langchain framework."
   ]
  },
  {
   "cell_type": "code",
   "execution_count": 43,
   "id": "bf7f91d9-08d2-4f5a-b4cd-63d8a5cf08a8",
   "metadata": {},
   "outputs": [],
   "source": [
    "import dotenv\n",
    "import os\n",
    "import openai\n",
    "import warnings\n",
    "warnings.filterwarnings('ignore')"
   ]
  },
  {
   "cell_type": "code",
   "execution_count": 44,
   "id": "1a25a5f1-90e2-48a3-9159-aa287b741f61",
   "metadata": {},
   "outputs": [],
   "source": [
    "from dotenv import load_dotenv, find_dotenv\n",
    "_ = load_dotenv(find_dotenv())\n",
    "\n",
    "#to avoid using deprecated openai chat model\n",
    "import datetime\n",
    "current_date = datetime.datetime.now()\n",
    "target_date = datetime.datetime(2024, 6, 12)\n",
    "\n",
    "if current_date>target_date:\n",
    "    llm_model = 'gpt-3.5-turbo'\n",
    "else:\n",
    "    llm_model = 'gpt-3.5-turbo-0301'"
   ]
  },
  {
   "cell_type": "code",
   "execution_count": 45,
   "id": "8a46d331-e224-4443-8e0e-c56ac20eedc0",
   "metadata": {},
   "outputs": [],
   "source": [
    "from langchain.chat_models import ChatOpenAI\n",
    "from langchain.chains import RetrievalQA\n",
    "from langchain.document_loaders import CSVLoader\n",
    "from langchain.vectorstores import DocArrayInMemorySearch\n",
    "from langchain.llms import OpenAI\n",
    "from IPython.display import Markdown, display"
   ]
  },
  {
   "cell_type": "code",
   "execution_count": 46,
   "id": "b13490bb-1a67-4544-8608-5ccf8ee3e55f",
   "metadata": {},
   "outputs": [],
   "source": [
    "loader = CSVLoader(file_path=\"OutdoorClothingCatalog_1000.csv\")"
   ]
  },
  {
   "cell_type": "code",
   "execution_count": 47,
   "id": "f10c6e22-1fe2-4120-80a0-553d9b54f6f0",
   "metadata": {},
   "outputs": [],
   "source": [
    "from langchain.embeddings import OpenAIEmbeddings\n",
    "embeddings = OpenAIEmbeddings()\n",
    "\n",
    "from langchain.indexes import VectorstoreIndexCreator\n",
    "#help(VectorstoreIndexCreator)"
   ]
  },
  {
   "cell_type": "code",
   "execution_count": 48,
   "id": "9f793253-cee8-4cf1-862a-52224fc71487",
   "metadata": {},
   "outputs": [
    {
     "name": "stdout",
     "output_type": "stream",
     "text": [
      "Note: you may need to restart the kernel to use updated packages.\n"
     ]
    }
   ],
   "source": [
    "pip install --quiet -U docarray"
   ]
  },
  {
   "cell_type": "code",
   "execution_count": 49,
   "id": "9ce4d8f0-5647-42fc-9c8f-a77d937c8784",
   "metadata": {},
   "outputs": [],
   "source": [
    "index = VectorstoreIndexCreator(\n",
    "    vectorstore_cls=DocArrayInMemorySearch,\n",
    "embedding=embeddings).from_loaders([loader])"
   ]
  },
  {
   "cell_type": "code",
   "execution_count": 50,
   "id": "3d50dda4-8993-4b8f-993f-5269cb03b17b",
   "metadata": {},
   "outputs": [],
   "source": [
    "query=\"Please list all your shirts with sun protection \\\n",
    "in a table in markdown and summarize each one.\""
   ]
  },
  {
   "cell_type": "code",
   "execution_count": 51,
   "id": "d0a08c4d-f1dd-46d4-81e5-19d0452720a8",
   "metadata": {},
   "outputs": [],
   "source": [
    "llm_replacement_model = OpenAI(\n",
    "    model=\"gpt-3.5-turbo-instruct\",\n",
    "    temperature=0.2\n",
    ")"
   ]
  },
  {
   "cell_type": "code",
   "execution_count": 52,
   "id": "cc289771-b99c-42ee-b30f-c19399f440d8",
   "metadata": {},
   "outputs": [],
   "source": [
    "response = index.query(query, llm=llm_replacement_model)"
   ]
  },
  {
   "cell_type": "code",
   "execution_count": 53,
   "id": "01243ecd-d1db-41a7-8900-012e2b515df1",
   "metadata": {},
   "outputs": [
    {
     "data": {
      "text/markdown": [
       "\n",
       "\n",
       "| Name | Description | Sun Protection Rating |\n",
       "| --- | --- | --- |\n",
       "| Men's Tropical Plaid Short-Sleeve Shirt | Made of 100% polyester, UPF 50+ rating, front and back cape venting, two front bellows pockets, imported | SPF 50+, blocks 98% of harmful UV rays |\n",
       "| Men's Plaid Tropic Shirt, Short-Sleeve | Made of 52% polyester and 48% nylon, UPF 50+ rating, front and back cape venting, two front bellows pockets, machine washable and dryable, imported | SPF 50+, blocks 98% of harmful UV rays |\n",
       "| Men's TropicVibe Shirt, Short-Sleeve | Made of 71% nylon and 29% polyester, UPF 50+ rating, front and back cape venting, two front bellows pockets, machine washable and dryable, imported | SPF 50+, blocks 98% of harmful UV rays |\n",
       "| Sun Shield Shirt | Made of 78% nylon and 22% Lycra Xtra Life fiber, UPF 50+ rating, wicks moisture, fits comfortably over swimsuit, abrasion resistant, imported | SPF 50"
      ],
      "text/plain": [
       "<IPython.core.display.Markdown object>"
      ]
     },
     "metadata": {},
     "output_type": "display_data"
    }
   ],
   "source": [
    "display(Markdown(response))"
   ]
  },
  {
   "cell_type": "code",
   "execution_count": 54,
   "id": "22c00341-e3f1-45dd-9c91-c6aea0b22273",
   "metadata": {
    "scrolled": true
   },
   "outputs": [
    {
     "name": "stdout",
     "output_type": "stream",
     "text": [
      "\n",
      "\n",
      "| Name | Description | Sun Protection Rating |\n",
      "| --- | --- | --- |\n",
      "| Men's Tropical Plaid Short-Sleeve Shirt | Made of 100% polyester, UPF 50+ rating, front and back cape venting, two front bellows pockets, imported | SPF 50+, blocks 98% of harmful UV rays |\n",
      "| Men's Plaid Tropic Shirt, Short-Sleeve | Made of 52% polyester and 48% nylon, UPF 50+ rating, front and back cape venting, two front bellows pockets, machine washable and dryable, imported | SPF 50+, blocks 98% of harmful UV rays |\n",
      "| Men's TropicVibe Shirt, Short-Sleeve | Made of 71% nylon and 29% polyester, UPF 50+ rating, front and back cape venting, two front bellows pockets, machine washable and dryable, imported | SPF 50+, blocks 98% of harmful UV rays |\n",
      "| Sun Shield Shirt | Made of 78% nylon and 22% Lycra Xtra Life fiber, UPF 50+ rating, wicks moisture, fits comfortably over swimsuit, abrasion resistant, imported | SPF 50\n"
     ]
    }
   ],
   "source": [
    "print(response)"
   ]
  },
  {
   "cell_type": "code",
   "execution_count": 55,
   "id": "22daca65-ec6a-441d-a720-78f882889e80",
   "metadata": {},
   "outputs": [
    {
     "data": {
      "text/plain": [
       "'OutdoorClothingCatalog_1000.csv'"
      ]
     },
     "execution_count": 55,
     "metadata": {},
     "output_type": "execute_result"
    }
   ],
   "source": [
    "loader.file_path"
   ]
  },
  {
   "cell_type": "code",
   "execution_count": 56,
   "id": "a5e6bd99-43f5-427f-ad24-2de3a3039682",
   "metadata": {},
   "outputs": [
    {
     "name": "stdout",
     "output_type": "stream",
     "text": [
      "<class 'pandas.core.frame.DataFrame'>\n",
      "RangeIndex: 1000 entries, 0 to 999\n",
      "Data columns (total 3 columns):\n",
      " #   Column       Non-Null Count  Dtype \n",
      "---  ------       --------------  ----- \n",
      " 0   Unnamed: 0   1000 non-null   int64 \n",
      " 1   name         1000 non-null   object\n",
      " 2   description  1000 non-null   object\n",
      "dtypes: int64(1), object(2)\n",
      "memory usage: 23.6+ KB\n"
     ]
    }
   ],
   "source": [
    "import pandas as pd\n",
    "\n",
    "csv_data = pd.read_csv(\"OutdoorClothingCatalog_1000.csv\")\n",
    "csv_data.info()"
   ]
  },
  {
   "cell_type": "code",
   "execution_count": 57,
   "id": "a88ac733-20d5-4210-8dae-61295627ffe7",
   "metadata": {},
   "outputs": [
    {
     "data": {
      "text/html": [
       "<div>\n",
       "<style scoped>\n",
       "    .dataframe tbody tr th:only-of-type {\n",
       "        vertical-align: middle;\n",
       "    }\n",
       "\n",
       "    .dataframe tbody tr th {\n",
       "        vertical-align: top;\n",
       "    }\n",
       "\n",
       "    .dataframe thead th {\n",
       "        text-align: right;\n",
       "    }\n",
       "</style>\n",
       "<table border=\"1\" class=\"dataframe\">\n",
       "  <thead>\n",
       "    <tr style=\"text-align: right;\">\n",
       "      <th></th>\n",
       "      <th>Unnamed: 0</th>\n",
       "      <th>name</th>\n",
       "      <th>description</th>\n",
       "    </tr>\n",
       "  </thead>\n",
       "  <tbody>\n",
       "    <tr>\n",
       "      <th>0</th>\n",
       "      <td>0</td>\n",
       "      <td>Women's Campside Oxfords</td>\n",
       "      <td>This ultracomfortable lace-to-toe Oxford boast...</td>\n",
       "    </tr>\n",
       "    <tr>\n",
       "      <th>1</th>\n",
       "      <td>1</td>\n",
       "      <td>Recycled Waterhog Dog Mat, Chevron Weave</td>\n",
       "      <td>Protect your floors from spills and splashing ...</td>\n",
       "    </tr>\n",
       "    <tr>\n",
       "      <th>2</th>\n",
       "      <td>2</td>\n",
       "      <td>Infant and Toddler Girls' Coastal Chill Swimsu...</td>\n",
       "      <td>She'll love the bright colors, ruffles and exc...</td>\n",
       "    </tr>\n",
       "    <tr>\n",
       "      <th>3</th>\n",
       "      <td>3</td>\n",
       "      <td>Refresh Swimwear, V-Neck Tankini Contrasts</td>\n",
       "      <td>Whether you're going for a swim or heading out...</td>\n",
       "    </tr>\n",
       "    <tr>\n",
       "      <th>4</th>\n",
       "      <td>4</td>\n",
       "      <td>EcoFlex 3L Storm Pants</td>\n",
       "      <td>Our new TEK O2 technology makes our four-seaso...</td>\n",
       "    </tr>\n",
       "  </tbody>\n",
       "</table>\n",
       "</div>"
      ],
      "text/plain": [
       "   Unnamed: 0                                               name  \\\n",
       "0           0                           Women's Campside Oxfords   \n",
       "1           1           Recycled Waterhog Dog Mat, Chevron Weave   \n",
       "2           2  Infant and Toddler Girls' Coastal Chill Swimsu...   \n",
       "3           3         Refresh Swimwear, V-Neck Tankini Contrasts   \n",
       "4           4                             EcoFlex 3L Storm Pants   \n",
       "\n",
       "                                         description  \n",
       "0  This ultracomfortable lace-to-toe Oxford boast...  \n",
       "1  Protect your floors from spills and splashing ...  \n",
       "2  She'll love the bright colors, ruffles and exc...  \n",
       "3  Whether you're going for a swim or heading out...  \n",
       "4  Our new TEK O2 technology makes our four-seaso...  "
      ]
     },
     "execution_count": 57,
     "metadata": {},
     "output_type": "execute_result"
    }
   ],
   "source": [
    "csv_data.head()"
   ]
  },
  {
   "cell_type": "code",
   "execution_count": 58,
   "id": "38a545a5-647c-47a8-b984-e1b4aa5bb217",
   "metadata": {},
   "outputs": [],
   "source": [
    "query = \"\"\"What are the different products available based on the names?\"\"\"\n",
    "response = index.query(query, llm=llm_replacement_model)"
   ]
  },
  {
   "cell_type": "code",
   "execution_count": 59,
   "id": "c31cd33b-167f-4a59-be1c-9bd18fd859ce",
   "metadata": {},
   "outputs": [
    {
     "data": {
      "text/markdown": [
       " The first product is called Microsilk and the second product is called NanoFoamPlus."
      ],
      "text/plain": [
       "<IPython.core.display.Markdown object>"
      ]
     },
     "metadata": {},
     "output_type": "display_data"
    }
   ],
   "source": [
    "display(Markdown(response))"
   ]
  },
  {
   "cell_type": "code",
   "execution_count": 60,
   "id": "30726cfb-60ce-4bb4-889b-233c6643e65c",
   "metadata": {},
   "outputs": [],
   "source": [
    "query = \"\"\"How many products are there in the file in total and name them?\"\"\"\n",
    "response = index.query(query, llm=llm_replacement_model)"
   ]
  },
  {
   "cell_type": "code",
   "execution_count": 61,
   "id": "a6e1c198-3d06-4535-a0b0-6c0ff46048a5",
   "metadata": {},
   "outputs": [
    {
     "data": {
      "text/markdown": [
       " There are three products in the file: Microsilk, Microblocks, and Microbot."
      ],
      "text/plain": [
       "<IPython.core.display.Markdown object>"
      ]
     },
     "metadata": {},
     "output_type": "display_data"
    }
   ],
   "source": [
    "display(Markdown(response))"
   ]
  },
  {
   "cell_type": "code",
   "execution_count": 62,
   "id": "71113b83-7782-47d9-a0b8-6df9948f3989",
   "metadata": {},
   "outputs": [],
   "source": [
    "doc = loader.load()"
   ]
  },
  {
   "cell_type": "code",
   "execution_count": 63,
   "id": "3cd59e26-3394-4495-bfc1-a75a7331be84",
   "metadata": {},
   "outputs": [
    {
     "data": {
      "text/plain": [
       "list"
      ]
     },
     "execution_count": 63,
     "metadata": {},
     "output_type": "execute_result"
    }
   ],
   "source": [
    "type(doc)"
   ]
  },
  {
   "cell_type": "code",
   "execution_count": 64,
   "id": "c36f6ec8-2a88-4345-b17b-bf768179ce0b",
   "metadata": {},
   "outputs": [],
   "source": [
    "#library to create embeddings\n",
    "from langchain.embeddings import OpenAIEmbeddings\n",
    "\n",
    "embeddings = OpenAIEmbeddings()\n",
    "\n",
    "embedded_vector = embeddings.embed_query(\"Sanakausar Kazi\")"
   ]
  },
  {
   "cell_type": "code",
   "execution_count": 65,
   "id": "aab5127d-7bb1-4ed3-aeb1-c8f407fad9fc",
   "metadata": {},
   "outputs": [
    {
     "name": "stdout",
     "output_type": "stream",
     "text": [
      "1536\n"
     ]
    }
   ],
   "source": [
    "print(len(embedded_vector)) #length or size of the vector for above"
   ]
  },
  {
   "cell_type": "code",
   "execution_count": 66,
   "id": "12beb657-ce10-417c-8fab-908a0f58e6c7",
   "metadata": {},
   "outputs": [],
   "source": [
    "db = DocArrayInMemorySearch.from_documents(doc, embeddings)"
   ]
  },
  {
   "cell_type": "code",
   "execution_count": 67,
   "id": "caf3d6f6-a351-49e8-a938-7191ed2a50aa",
   "metadata": {},
   "outputs": [],
   "source": [
    "query = \"Suggest me some sunblocking shirts.\"\n",
    "\n",
    "result = db.similarity_search(query)"
   ]
  },
  {
   "cell_type": "code",
   "execution_count": 68,
   "id": "5c8c93e3-9de7-4c40-a9eb-7b5d59e45445",
   "metadata": {},
   "outputs": [
    {
     "name": "stdout",
     "output_type": "stream",
     "text": [
      "[Document(metadata={'source': 'OutdoorClothingCatalog_1000.csv', 'row': 255}, page_content=': 255\\nname: Sun Shield Shirt by\\ndescription: \"Block the sun, not the fun – our high-performance sun shirt is guaranteed to protect from harmful UV rays. \\n\\nSize & Fit: Slightly Fitted: Softly shapes the body. Falls at hip.\\n\\nFabric & Care: 78% nylon, 22% Lycra Xtra Life fiber. UPF 50+ rated – the highest rated sun protection possible. Handwash, line dry.\\n\\nAdditional Features: Wicks moisture for quick-drying comfort. Fits comfortably over your favorite swimsuit. Abrasion resistant for season after season of wear. Imported.\\n\\nSun Protection That Won\\'t Wear Off\\nOur high-performance fabric provides SPF 50+ sun protection, blocking 98% of the sun\\'s harmful rays. This fabric is recommended by The Skin Cancer Foundation as an effective UV protectant.'), Document(metadata={'source': 'OutdoorClothingCatalog_1000.csv', 'row': 374}, page_content=\": 374\\nname: Men's Plaid Tropic Shirt, Short-Sleeve\\ndescription: Our Ultracomfortable sun protection is rated to UPF 50+, helping you stay cool and dry. Originally designed for fishing, this lightest hot-weather shirt offers UPF 50+ coverage and is great for extended travel. SunSmart technology blocks 98% of the sun's harmful UV rays, while the high-performance fabric is wrinkle-free and quickly evaporates perspiration. Made with 52% polyester and 48% nylon, this shirt is machine washable and dryable. Additional features include front and back cape venting, two front bellows pockets and an imported design. With UPF 50+ coverage, you can limit sun exposure and feel secure with the highest rated sun protection available.\"), Document(metadata={'source': 'OutdoorClothingCatalog_1000.csv', 'row': 535}, page_content=\": 535\\nname: Men's TropicVibe Shirt, Short-Sleeve\\ndescription: This Men’s sun-protection shirt with built-in UPF 50+ has the lightweight feel you want and the coverage you need when the air is hot and the UV rays are strong. Size & Fit: Traditional Fit: Relaxed through the chest, sleeve and waist. Fabric & Care: Shell: 71% Nylon, 29% Polyester. Lining: 100% Polyester knit mesh. UPF 50+ rated – the highest rated sun protection possible. Machine wash and dry. Additional Features: Wrinkle resistant. Front and back cape venting lets in cool breezes. Two front bellows pockets. Imported.\\n\\nSun Protection That Won't Wear Off: Our high-performance fabric provides SPF 50+ sun protection, blocking 98% of the sun's harmful rays.\"), Document(metadata={'source': 'OutdoorClothingCatalog_1000.csv', 'row': 618}, page_content=\": 618\\nname: Men's Tropical Plaid Short-Sleeve Shirt\\ndescription: Our lightest hot-weather shirt is rated UPF 50+ for superior protection from the sun's UV rays. With a traditional fit that is relaxed through the chest, sleeve, and waist, this fabric is made of 100% polyester and is wrinkle-resistant. With front and back cape venting that lets in cool breezes and two front bellows pockets, this shirt is imported and provides the highest rated sun protection possible. \\n\\nSun Protection That Won't Wear Off. Our high-performance fabric provides SPF 50+ sun protection, blocking 98% of the sun's harmful rays.\")]\n"
     ]
    }
   ],
   "source": [
    "print(result)"
   ]
  },
  {
   "cell_type": "code",
   "execution_count": 69,
   "id": "9fdbf55a-3f24-4c2f-bdf1-83b35d7c8a46",
   "metadata": {},
   "outputs": [
    {
     "name": "stdout",
     "output_type": "stream",
     "text": [
      ": 255\n",
      "name: Sun Shield Shirt by\n",
      "description: \"Block the sun, not the fun – our high-performance sun shirt is guaranteed to protect from harmful UV rays. \n",
      "\n",
      "Size & Fit: Slightly Fitted: Softly shapes the body. Falls at hip.\n",
      "\n",
      "Fabric & Care: 78% nylon, 22% Lycra Xtra Life fiber. UPF 50+ rated – the highest rated sun protection possible. Handwash, line dry.\n",
      "\n",
      "Additional Features: Wicks moisture for quick-drying comfort. Fits comfortably over your favorite swimsuit. Abrasion resistant for season after season of wear. Imported.\n",
      "\n",
      "Sun Protection That Won't Wear Off\n",
      "Our high-performance fabric provides SPF 50+ sun protection, blocking 98% of the sun's harmful rays. This fabric is recommended by The Skin Cancer Foundation as an effective UV protectant.: 374\n",
      "name: Men's Plaid Tropic Shirt, Short-Sleeve\n",
      "description: Our Ultracomfortable sun protection is rated to UPF 50+, helping you stay cool and dry. Originally designed for fishing, this lightest hot-weather shirt offers UPF 50+ coverage and is great for extended travel. SunSmart technology blocks 98% of the sun's harmful UV rays, while the high-performance fabric is wrinkle-free and quickly evaporates perspiration. Made with 52% polyester and 48% nylon, this shirt is machine washable and dryable. Additional features include front and back cape venting, two front bellows pockets and an imported design. With UPF 50+ coverage, you can limit sun exposure and feel secure with the highest rated sun protection available.: 535\n",
      "name: Men's TropicVibe Shirt, Short-Sleeve\n",
      "description: This Men’s sun-protection shirt with built-in UPF 50+ has the lightweight feel you want and the coverage you need when the air is hot and the UV rays are strong. Size & Fit: Traditional Fit: Relaxed through the chest, sleeve and waist. Fabric & Care: Shell: 71% Nylon, 29% Polyester. Lining: 100% Polyester knit mesh. UPF 50+ rated – the highest rated sun protection possible. Machine wash and dry. Additional Features: Wrinkle resistant. Front and back cape venting lets in cool breezes. Two front bellows pockets. Imported.\n",
      "\n",
      "Sun Protection That Won't Wear Off: Our high-performance fabric provides SPF 50+ sun protection, blocking 98% of the sun's harmful rays.: 618\n",
      "name: Men's Tropical Plaid Short-Sleeve Shirt\n",
      "description: Our lightest hot-weather shirt is rated UPF 50+ for superior protection from the sun's UV rays. With a traditional fit that is relaxed through the chest, sleeve, and waist, this fabric is made of 100% polyester and is wrinkle-resistant. With front and back cape venting that lets in cool breezes and two front bellows pockets, this shirt is imported and provides the highest rated sun protection possible. \n",
      "\n",
      "Sun Protection That Won't Wear Off. Our high-performance fabric provides SPF 50+ sun protection, blocking 98% of the sun's harmful rays.\n"
     ]
    }
   ],
   "source": [
    "llm_db = ChatOpenAI(model=llm_model, temperature=0.2)\n",
    "\n",
    "qdocs = \"\".join(result[i].page_content for i in range(len(result)))\n",
    "print(qdocs)"
   ]
  },
  {
   "cell_type": "code",
   "execution_count": 70,
   "id": "bee70ed9-8259-481e-b25d-c65886177647",
   "metadata": {},
   "outputs": [
    {
     "data": {
      "text/plain": [
       "str"
      ]
     },
     "execution_count": 70,
     "metadata": {},
     "output_type": "execute_result"
    }
   ],
   "source": [
    "type(qdocs)"
   ]
  },
  {
   "cell_type": "code",
   "execution_count": 71,
   "id": "ff971d49-33ca-4e0e-ad69-6c6738edb85a",
   "metadata": {},
   "outputs": [],
   "source": [
    "response = llm_db.call_as_llm(\n",
    "    f\"{qdocs} Question: Please list all the shirts from the list provided above in a table in markdown and summarize each one.\"\n",
    ")"
   ]
  },
  {
   "cell_type": "code",
   "execution_count": 72,
   "id": "f8967601-8ed5-4d7b-90ba-aa504fd60fda",
   "metadata": {},
   "outputs": [
    {
     "data": {
      "text/markdown": [
       "| Name                           | Description                                                                                                                                                                                                                                                                                                                                                                                                                                                                                                                                                                                                                                                                                                                                                                                                                                                                                                                                                                                                                                                                                                                                                                                                                                                                                                                                                                                                                                                                                                                                                                                                                                                                                                                                                                                                                                                                                                                                                                                                                                                                                                                                                                                                                                                                                                                                                                                                                                                                                                                                                                                                                                                                                                                                                                                                                                                                                                                                                                                                                                                                                                                                                                                                                                                                                                                                                                                                                                                                                                                                                                                                                                                                                                                                                                                                                                                                                                                                                                                                                                                                                                                                                                                                                                                                                                                                                                                                                                                                                                                                                                                                                                                                                                                                                                                                                                                                                                                                                                                                                                                                                                                                                                                                                                                                                                                                                                                                                                                                                                                                                                                                                                                                                                                                                                                                                                                                                                                                                                                                                                                                                                                                                                                                                                                                                                                                                                                                                                                                                                                                                                                                                                                                                                                                                                                                                                                                                                                                                                                                                                                                                                                                                                                                                                                                                                                                                                                                                                                                                                                                                                                                                                                                                                                                                                                                                                                                                                                                                                                                                                                                                                                                                                                                                                                                                                                                                                                                                                                                                                                                                                                                                                                                                                                                                                                                                                                                                                                                                                                                                                                                                                                                                                                                                                                                                                                                                                                                                                                                                                                                                                                                                                                                                                                                                                                                                                                                                                                                                                                                                                                                                                                                                                                                                                                                                                                                                                                                                                                                                                                                                                                                                                                                                                                                                                                                                                                                                                                                                                                                                                                                                                                                                                                                                                                                                                                                                                                                                                                                                                                                                                                                                                                                                                                                                                                                                                                                                                                                                                                                                                                                                                                                                                                                                                                                                                                                                                                                                                                                                                                                                                                                                                                                                                                                                                                                                                                                                                                                                                                                                                                                                                                                                                                                                                                                                                                                "
      ],
      "text/plain": [
       "<IPython.core.display.Markdown object>"
      ]
     },
     "metadata": {},
     "output_type": "display_data"
    },
    {
     "name": "stdout",
     "output_type": "stream",
     "text": [
      "None\n"
     ]
    }
   ],
   "source": [
    "print(display(Markdown(response)))"
   ]
  },
  {
   "cell_type": "code",
   "execution_count": 73,
   "id": "a2281d76-8a28-473b-8fc7-e3e14242cbb4",
   "metadata": {},
   "outputs": [],
   "source": [
    "retriever = db.as_retriever()\n",
    "qa_stuff = RetrievalQA.from_chain_type(\n",
    "    llm=llm_db,\n",
    "    retriever=retriever,\n",
    "    chain_type=\"stuff\",\n",
    "    verbose = True\n",
    ")"
   ]
  },
  {
   "cell_type": "code",
   "execution_count": 74,
   "id": "c29cafec-168c-4b23-a694-5bba05d9d4a6",
   "metadata": {},
   "outputs": [
    {
     "name": "stdout",
     "output_type": "stream",
     "text": [
      "\n",
      "\n",
      "\u001b[1m> Entering new RetrievalQA chain...\u001b[0m\n",
      "\n",
      "\u001b[1m> Finished chain.\u001b[0m\n"
     ]
    },
    {
     "data": {
      "text/markdown": [
       "| **Name**                                | **Description**                                                                                                                                                                                                                                        |\n",
       "|-----------------------------------------|-------------------------------------------------------------------------------------------------------------------------------------------------------------------------------------------------------------------------------------------------------|\n",
       "| Men's Plaid Tropic Shirt, Short-Sleeve | Ultracomfortable shirt with UPF 50+ sun protection, designed for fishing and extended travel. Made of 52% polyester and 48% nylon, wrinkle-free, and quick-drying. Features front and back cape venting, two front bellows pockets. Imported design.            |\n",
       "| Men's Tropical Plaid Short-Sleeve Shirt | Lightest hot-weather shirt with UPF 50+ protection. Made of 100% polyester, wrinkle-resistant, with front and back cape venting, and two front bellows pockets. Provides superior sun protection. Imported.                                                |\n",
       "| Sun Shield Shirt by                     | High-performance sun shirt with SPF 50+ sun protection, blocking 98% of harmful UV rays. Made of 78% nylon and 22% Lycra Xtra Life fiber. Handwash, line dry. Moisture-wicking, fits comfortably over swimsuit, abrasion-resistant. Recommended by The Skin Cancer Foundation. |\n",
       "| Men's TropicVibe Shirt, Short-Sleeve    | Sun-protection shirt with built-in UPF 50+, lightweight and comfortable. Made of 71% nylon and 29% polyester shell, 100% polyester knit mesh lining. Wrinkle-resistant, front and back cape venting, two front bellows pockets. Provides SPF 50+ sun protection.        |"
      ],
      "text/plain": [
       "<IPython.core.display.Markdown object>"
      ]
     },
     "metadata": {},
     "output_type": "display_data"
    },
    {
     "name": "stdout",
     "output_type": "stream",
     "text": [
      "None\n"
     ]
    }
   ],
   "source": [
    "query = \"List down all your shirts which provide sun blocking and format them in a tabular format in a markdown and summarize each item.\"\n",
    "\n",
    "search_result = qa_stuff.run(query)\n",
    "\n",
    "print(display(Markdown(search_result)))\n"
   ]
  },
  {
   "cell_type": "code",
   "execution_count": 75,
   "id": "a6c20fcb-7e1b-49a7-90c6-ef0ce35fcd9d",
   "metadata": {},
   "outputs": [],
   "source": [
    "index = VectorstoreIndexCreator(\n",
    "    vectorstore_cls=DocArrayInMemorySearch,\n",
    "    embedding=embeddings\n",
    ").from_loaders([loader])"
   ]
  },
  {
   "cell_type": "code",
   "execution_count": 76,
   "id": "3ee83cb8-4392-4ac6-9b15-f0a0e146b636",
   "metadata": {
    "scrolled": true
   },
   "outputs": [
    {
     "data": {
      "text/markdown": [
       "| Name                                | Description                                                                                                                                                                                                                                                                                                                                                                                                                                                                                                                                                                                                                                                                                                                                                                                                                                                                                                                                                                                                                                                                                                                                                                                                                                                                                                                                                                                                                                                                                                                                                                                                                                                                                                                                                                                                                                                                                                                                                                                                                                                                                                                                                                                                                                                                                                                                                                                                                                                                                                                                                                                                                                                                                                                                                                                                                                                                                                                                                                                                                                                                                                                                                                                                                                                                                                                                                                                                                                                                                                                                                                                                                                                                                                                                                                                                                                                                                                                                                                                                                                                                                                                                                                                                                                                                                                                                                                                                                                                                                                                                                                                                                                                                                                                                                                                                                                                                                                                                                                                                                                                                                                                                                                                                                                                                                                                                                                                                                                                                                                                                                                                                                                                                                                                                                                                                                                                                                                                                                                                                                                                                                                                                                                                                                                                                                                                                                                                                                                                                                                                                                                                                                                                                                                                                                                                                                                                                                                                                                                                                                                                                                                                                                                                                                                                                                                                                                                                                                                                                                                                                                                                                                                                                                                                                                                                                                                                                                                                                                                                                                                                                                                                                                                                                                                                                                                                                                                                                                                                                                                                                                                                                                                                                                                                                                                                                                                                                                                                                                                                                                                                                                                                                                                                                                                                                                                                                                                                                                                                                                                                                                                                                                                                                                                                                                                                                                                                                                                                                                                                                                                                                                                                                                                                                                                                                                                                                                                                                                                                                                                                                                                                                                                                                                                                                                                                                                                                                                                                                                                                                                                                                                                                                                                                                                                                                                                                                                                                                                                                                                                                                                                                                                                                                                                                                                                                                                                                                                                                                                                                                                                                                                                                                                                                                                                                                                                                                                                                                                                                                                                                                                                                                                                                                                                                                                                                                                                                                                                                                                                                                                                                                                                                                                                                                                                                                                                                                "
      ],
      "text/plain": [
       "<IPython.core.display.Markdown object>"
      ]
     },
     "metadata": {},
     "output_type": "display_data"
    },
    {
     "name": "stdout",
     "output_type": "stream",
     "text": [
      "None\n"
     ]
    }
   ],
   "source": [
    "response = index.query(query, llm=llm_db)\n",
    "print(display(Markdown(response)))"
   ]
  },
  {
   "cell_type": "markdown",
   "id": "e326588a-c723-476d-87c7-4582e139f40e",
   "metadata": {},
   "source": [
    "#### Let us build a conversational agent to help user query the data"
   ]
  },
  {
   "cell_type": "code",
   "execution_count": 77,
   "id": "92218294-1c19-4ecc-a6e9-ef83fa6568e5",
   "metadata": {},
   "outputs": [],
   "source": [
    "from langchain.tools import Tool\n",
    "tools = [\n",
    "    Tool(\n",
    "        name=\"Knowledge Base\",\n",
    "        func=qa_stuff,\n",
    "        description=\"Use this tool to anser questions about the listed products.\"\n",
    "    )\n",
    "]"
   ]
  },
  {
   "cell_type": "code",
   "execution_count": 78,
   "id": "d712eefc-0c3a-45bc-a5f5-8698290f2574",
   "metadata": {},
   "outputs": [],
   "source": [
    "from langchain.agents import initialize_agent\n",
    "from langchain.chains.conversation.memory import ConversationBufferWindowMemory\n",
    "\n",
    "conversation_memory = ConversationBufferWindowMemory(\n",
    "    memory_key=\"chat_history\",\n",
    "    k=5,\n",
    "    return_messages=True\n",
    ")\n",
    "\n",
    "agent = initialize_agent(\n",
    "    tools=tools,\n",
    "    agent='chat-conversational-react-description',\n",
    "    llm=llm_db,\n",
    "    verbose=True,\n",
    "    max_iterations=3,\n",
    "    early_stopping_method=\"generate\",\n",
    "    memory=conversation_memory\n",
    ")"
   ]
  },
  {
   "cell_type": "code",
   "execution_count": 79,
   "id": "988813c4-bdcd-45f1-9f6c-5a2f430c89a1",
   "metadata": {},
   "outputs": [
    {
     "name": "stdout",
     "output_type": "stream",
     "text": [
      "\n",
      "\n",
      "\u001b[1m> Entering new AgentExecutor chain...\u001b[0m\n",
      "\u001b[32;1m\u001b[1;3m```json\n",
      "{\n",
      "    \"action\": \"Knowledge Base\",\n",
      "    \"action_input\": \"List of shirts with sun blocking feature\"\n",
      "}\n",
      "```\u001b[0m\n",
      "\n",
      "\u001b[1m> Entering new RetrievalQA chain...\u001b[0m\n",
      "\n",
      "\u001b[1m> Finished chain.\u001b[0m\n",
      "\n",
      "Observation: \u001b[36;1m\u001b[1;3m{'query': 'List of shirts with sun blocking feature', 'result': \"1. Sun Shield Shirt by [Brand Name]\\n2. Men's Plaid Tropic Shirt, Short-Sleeve\\n3. Men's TropicVibe Shirt, Short-Sleeve\\n4. Men's Tropical Plaid Short-Sleeve Shirt\"}\u001b[0m\n",
      "Thought:\u001b[32;1m\u001b[1;3m```json\n",
      "{\n",
      "    \"action\": \"Final Answer\",\n",
      "    \"action_input\": \"The shirts that provide sun blocking feature are: \\n\\n1. Sun Shield Shirt by [Brand Name] - This shirt offers excellent sun protection with its special fabric.\\n\\n2. Men's Plaid Tropic Shirt, Short-Sleeve - A stylish short-sleeve shirt that blocks harmful UV rays.\\n\\n3. Men's TropicVibe Shirt, Short-Sleeve - This shirt is designed to keep you protected from the sun while keeping you cool and comfortable.\\n\\n4. Men's Tropical Plaid Short-Sleeve Shirt - A fashionable shirt that also provides sun protection.\"\n",
      "}\n",
      "```\u001b[0m\n",
      "\n",
      "\u001b[1m> Finished chain.\u001b[0m\n"
     ]
    },
    {
     "data": {
      "text/plain": [
       "{'input': 'List down all your shirts which provide sun blocking and format them in a tabular format in a markdown and summarize each item.',\n",
       " 'chat_history': [],\n",
       " 'output': \"The shirts that provide sun blocking feature are: \\n\\n1. Sun Shield Shirt by [Brand Name] - This shirt offers excellent sun protection with its special fabric.\\n\\n2. Men's Plaid Tropic Shirt, Short-Sleeve - A stylish short-sleeve shirt that blocks harmful UV rays.\\n\\n3. Men's TropicVibe Shirt, Short-Sleeve - This shirt is designed to keep you protected from the sun while keeping you cool and comfortable.\\n\\n4. Men's Tropical Plaid Short-Sleeve Shirt - A fashionable shirt that also provides sun protection.\"}"
      ]
     },
     "execution_count": 79,
     "metadata": {},
     "output_type": "execute_result"
    }
   ],
   "source": [
    "agent(query)"
   ]
  },
  {
   "cell_type": "code",
   "execution_count": 80,
   "id": "09b0714d-0674-4b4e-87e4-a1a9c63a6d5e",
   "metadata": {},
   "outputs": [
    {
     "name": "stdout",
     "output_type": "stream",
     "text": [
      "\n",
      "\n",
      "\u001b[1m> Entering new AgentExecutor chain...\u001b[0m\n",
      "\u001b[32;1m\u001b[1;3m```json\n",
      "{\n",
      "    \"action\": \"Final Answer\",\n",
      "    \"action_input\": \"Sun Shield Shirt, Men's Plaid Tropic Shirt, Men's TropicVibe Shirt, Men's Tropical Plaid Short-Sleeve Shirt\"\n",
      "}\n",
      "```\u001b[0m\n",
      "\n",
      "\u001b[1m> Finished chain.\u001b[0m\n"
     ]
    },
    {
     "data": {
      "text/plain": [
       "{'input': 'can you list down only the names of shirts from the above?',\n",
       " 'chat_history': [HumanMessage(content='List down all your shirts which provide sun blocking and format them in a tabular format in a markdown and summarize each item.'),\n",
       "  AIMessage(content=\"The shirts that provide sun blocking feature are: \\n\\n1. Sun Shield Shirt by [Brand Name] - This shirt offers excellent sun protection with its special fabric.\\n\\n2. Men's Plaid Tropic Shirt, Short-Sleeve - A stylish short-sleeve shirt that blocks harmful UV rays.\\n\\n3. Men's TropicVibe Shirt, Short-Sleeve - This shirt is designed to keep you protected from the sun while keeping you cool and comfortable.\\n\\n4. Men's Tropical Plaid Short-Sleeve Shirt - A fashionable shirt that also provides sun protection.\")],\n",
       " 'output': \"Sun Shield Shirt, Men's Plaid Tropic Shirt, Men's TropicVibe Shirt, Men's Tropical Plaid Short-Sleeve Shirt\"}"
      ]
     },
     "execution_count": 80,
     "metadata": {},
     "output_type": "execute_result"
    }
   ],
   "source": [
    "agent(\"can you list down only the names of shirts from the above?\")"
   ]
  },
  {
   "cell_type": "code",
   "execution_count": 82,
   "id": "a0b07695-0e68-4eea-8e53-e8b2ce486398",
   "metadata": {},
   "outputs": [
    {
     "name": "stdout",
     "output_type": "stream",
     "text": [
      "\n",
      "\n",
      "\u001b[1m> Entering new AgentExecutor chain...\u001b[0m\n",
      "\u001b[32;1m\u001b[1;3m```json\n",
      "{\n",
      "    \"action\": \"Knowledge Base\",\n",
      "    \"action_input\": \"Sun Shield Shirt UPF protection\"\n",
      "}\n",
      "```\u001b[0m\n",
      "\n",
      "\u001b[1m> Entering new RetrievalQA chain...\u001b[0m\n",
      "\n",
      "\u001b[1m> Finished chain.\u001b[0m\n",
      "\n",
      "Observation: \u001b[36;1m\u001b[1;3m{'query': 'Sun Shield Shirt UPF protection', 'result': \"The Sun Shield Shirt provides UPF 50+ sun protection, which blocks 98% of the sun's harmful rays. This fabric is recommended by The Skin Cancer Foundation as an effective UV protectant.\"}\u001b[0m\n",
      "Thought:\u001b[32;1m\u001b[1;3m```json\n",
      "{\n",
      "    \"action\": \"Final Answer\",\n",
      "    \"action_input\": \"The Sun Shield Shirt provides UPF 50+ sun protection, which blocks 98% of the sun's harmful rays. This fabric is recommended by The Skin Cancer Foundation as an effective UV protectant.\"\n",
      "}\n",
      "```\u001b[0m\n",
      "\n",
      "\u001b[1m> Finished chain.\u001b[0m\n"
     ]
    }
   ],
   "source": [
    "response=agent(\"which shirt provides the maximum UPF protection?\")"
   ]
  },
  {
   "cell_type": "code",
   "execution_count": 87,
   "id": "d006ae10-2da3-487d-ad03-07ebc6b4b41b",
   "metadata": {},
   "outputs": [
    {
     "name": "stdout",
     "output_type": "stream",
     "text": [
      "[HumanMessage(content='List down all your shirts which provide sun blocking and format them in a tabular format in a markdown and summarize each item.'),\n",
      " AIMessage(content=\"The shirts that provide sun blocking feature are: \\n\\n1. Sun Shield Shirt by [Brand Name] - This shirt offers excellent sun protection with its special fabric.\\n\\n2. Men's Plaid Tropic Shirt, Short-Sleeve - A stylish short-sleeve shirt that blocks harmful UV rays.\\n\\n3. Men's TropicVibe Shirt, Short-Sleeve - This shirt is designed to keep you protected from the sun while keeping you cool and comfortable.\\n\\n4. Men's Tropical Plaid Short-Sleeve Shirt - A fashionable shirt that also provides sun protection.\"),\n",
      " HumanMessage(content='can you list down only the names of shirts from the above?'),\n",
      " AIMessage(content=\"Sun Shield Shirt, Men's Plaid Tropic Shirt, Men's TropicVibe Shirt, Men's Tropical Plaid Short-Sleeve Shirt\"),\n",
      " HumanMessage(content='which shirt provides the maximum UPF protection?'),\n",
      " AIMessage(content=\"The shirt named 'Sun Shield Shirt' provides the maximum UPF protection with a rating of UPF 50+ which blocks 98% of the sun's harmful rays.\")]\n"
     ]
    }
   ],
   "source": [
    "from pprint import pprint\n",
    "pprint(response['chat_history'])"
   ]
  },
  {
   "cell_type": "code",
   "execution_count": 89,
   "id": "02b090b4-ebd0-4951-b33a-4b0ef0aaa97a",
   "metadata": {},
   "outputs": [
    {
     "name": "stdout",
     "output_type": "stream",
     "text": [
      "--------------------------------------------------\n",
      "input\n",
      "--------------------------------------------------\n",
      "chat_history\n",
      "--------------------------------------------------\n",
      "output\n"
     ]
    }
   ],
   "source": [
    "for item in response:\n",
    "    print(f'{'-' * 50}')\n",
    "    print(item)"
   ]
  },
  {
   "cell_type": "code",
   "execution_count": 90,
   "id": "41317b65-26ca-4728-9a7d-83e8db66a20c",
   "metadata": {},
   "outputs": [
    {
     "name": "stdout",
     "output_type": "stream",
     "text": [
      "The Sun Shield Shirt provides UPF 50+ sun protection, which blocks 98% of the sun's harmful rays. This fabric is recommended by The Skin Cancer Foundation as an effective UV protectant.\n"
     ]
    }
   ],
   "source": [
    "print(response['output'])"
   ]
  },
  {
   "cell_type": "code",
   "execution_count": null,
   "id": "468ddc7e-4dcf-4f75-a82e-0f4baae05812",
   "metadata": {},
   "outputs": [],
   "source": []
  },
  {
   "cell_type": "code",
   "execution_count": null,
   "id": "532d7e14-e083-4f04-890e-3d89c05747ce",
   "metadata": {},
   "outputs": [],
   "source": []
  },
  {
   "cell_type": "code",
   "execution_count": null,
   "id": "cdcfe36a-7e44-4ff3-bd7d-ee4e9cbc5efe",
   "metadata": {},
   "outputs": [],
   "source": []
  },
  {
   "cell_type": "code",
   "execution_count": null,
   "id": "cfaace14-8e76-4a2a-839c-a180bf4b0f15",
   "metadata": {},
   "outputs": [],
   "source": []
  }
 ],
 "metadata": {
  "kernelspec": {
   "display_name": "Python 3 (ipykernel)",
   "language": "python",
   "name": "python3"
  },
  "language_info": {
   "codemirror_mode": {
    "name": "ipython",
    "version": 3
   },
   "file_extension": ".py",
   "mimetype": "text/x-python",
   "name": "python",
   "nbconvert_exporter": "python",
   "pygments_lexer": "ipython3",
   "version": "3.12.2"
  }
 },
 "nbformat": 4,
 "nbformat_minor": 5
}
