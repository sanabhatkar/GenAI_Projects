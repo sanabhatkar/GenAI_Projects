{
 "cells": [
  {
   "cell_type": "markdown",
   "id": "c66560d9-f060-4225-bda0-64472724ea04",
   "metadata": {},
   "source": [
    "## Text and Document Splitting using langchain"
   ]
  },
  {
   "cell_type": "markdown",
   "id": "0015162e",
   "metadata": {},
   "source": [
    "- Character text splitting\n",
    "- Recursive Character text splitting\n",
    "- Token text splitting\n",
    "- Document splitting\n",
    "- Metadata splitting"
   ]
  },
  {
   "cell_type": "code",
   "execution_count": 1,
   "id": "2161cb19-26f6-4582-8ba8-657a110c2afe",
   "metadata": {},
   "outputs": [],
   "source": [
    "import os\n",
    "from dotenv import load_dotenv, find_dotenv\n",
    "from langchain.chat_models import ChatOpenAI\n",
    "import openai"
   ]
  },
  {
   "cell_type": "code",
   "execution_count": 2,
   "id": "beedbf61-72d3-4825-b167-dd930e31b338",
   "metadata": {},
   "outputs": [],
   "source": [
    "_ = load_dotenv(find_dotenv())\n",
    "openai.api_key = os.environ['OPENAI_API_KEY']"
   ]
  },
  {
   "cell_type": "code",
   "execution_count": 3,
   "id": "9b3d9d11-737a-4ec4-87fb-babf4d293bc0",
   "metadata": {},
   "outputs": [],
   "source": [
    "from langchain.text_splitter import RecursiveCharacterTextSplitter, CharacterTextSplitter"
   ]
  },
  {
   "cell_type": "code",
   "execution_count": 4,
   "id": "ddbf4001-a6ed-4bac-b7f2-c3af20287ad1",
   "metadata": {},
   "outputs": [],
   "source": [
    "chunk_size = 24\n",
    "chunk_overlap=4"
   ]
  },
  {
   "cell_type": "code",
   "execution_count": 5,
   "id": "03e9d423-3886-4ddc-879e-b805961862fa",
   "metadata": {},
   "outputs": [],
   "source": [
    "rc_splitter = RecursiveCharacterTextSplitter(\n",
    "    chunk_size=chunk_size,\n",
    "    chunk_overlap = chunk_overlap\n",
    ")"
   ]
  },
  {
   "cell_type": "code",
   "execution_count": 6,
   "id": "247fee49-6ba7-4db9-875e-75917f521177",
   "metadata": {},
   "outputs": [],
   "source": [
    "c_splitter = CharacterTextSplitter(chunk_size=chunk_size,\n",
    "    chunk_overlap = chunk_overlap\n",
    ")"
   ]
  },
  {
   "cell_type": "code",
   "execution_count": 7,
   "id": "5a2d174f-3c9a-46c8-8138-530d482262dc",
   "metadata": {},
   "outputs": [],
   "source": [
    "text1=\"abcdefghijklmnopqrstuvwxyz\"\n",
    "splits = rc_splitter.split_text(text1)"
   ]
  },
  {
   "cell_type": "code",
   "execution_count": 8,
   "id": "ece6ec7c-d23c-4801-bbbb-0bd5dd03f675",
   "metadata": {},
   "outputs": [
    {
     "name": "stdout",
     "output_type": "stream",
     "text": [
      "24\t6\n"
     ]
    }
   ],
   "source": [
    "print(f\"{len(splits[0])}\\t{len(splits[1])}\")\n"
   ]
  },
  {
   "cell_type": "code",
   "execution_count": 9,
   "id": "2be12a0f-e616-4b9b-b7b0-9ede79fdbaef",
   "metadata": {},
   "outputs": [
    {
     "data": {
      "text/plain": [
       "['abcdefghijklmnopqrstuvwx', 'uvwxyz']"
      ]
     },
     "execution_count": 9,
     "metadata": {},
     "output_type": "execute_result"
    }
   ],
   "source": [
    "splits"
   ]
  },
  {
   "cell_type": "code",
   "execution_count": 11,
   "id": "4c2ce0e4-2f64-4ee5-8613-d16b244da1c5",
   "metadata": {},
   "outputs": [
    {
     "name": "stdout",
     "output_type": "stream",
     "text": [
      "1\n",
      "['abcdefghijklmnopqrstuvwxyz']\n"
     ]
    }
   ],
   "source": [
    "splits = c_splitter.split_text(text1)\n",
    "print(f\"{len(splits)}\")\n",
    "print(f\"{splits}\")"
   ]
  },
  {
   "cell_type": "code",
   "execution_count": 12,
   "id": "fe4f951e-130d-47f4-a751-0b4389de1eb4",
   "metadata": {},
   "outputs": [],
   "source": [
    "chunk_size = 12\n",
    "chunk_overlap=4"
   ]
  },
  {
   "cell_type": "code",
   "execution_count": 13,
   "id": "6112ec10-8e5c-43ae-a85b-310ac5315d1f",
   "metadata": {},
   "outputs": [],
   "source": [
    "rc_splitter = RecursiveCharacterTextSplitter(\n",
    "    chunk_size=chunk_size,\n",
    "    chunk_overlap = chunk_overlap\n",
    ")\n",
    "\n",
    "c_splitter = CharacterTextSplitter(\n",
    "    chunk_size=chunk_size,\n",
    "    chunk_overlap = chunk_overlap\n",
    ")"
   ]
  },
  {
   "cell_type": "code",
   "execution_count": 14,
   "id": "05131451-85c3-409d-b025-18ba59032ccf",
   "metadata": {},
   "outputs": [
    {
     "name": "stdout",
     "output_type": "stream",
     "text": [
      "['abcdefghijkl', 'ijklmnopqrst', 'qrstuvwxyz']\n"
     ]
    }
   ],
   "source": [
    "splits = rc_splitter.split_text(text1)\n",
    "print(splits)"
   ]
  },
  {
   "cell_type": "code",
   "execution_count": 15,
   "id": "172fb024-9861-45a5-a0c4-de8778be0fe6",
   "metadata": {},
   "outputs": [
    {
     "name": "stdout",
     "output_type": "stream",
     "text": [
      "['abcdefghijklmnopqrstuvwxyz']\n"
     ]
    }
   ],
   "source": [
    "splits = c_splitter.split_text(text1)\n",
    "print(splits)"
   ]
  },
  {
   "cell_type": "code",
   "execution_count": 16,
   "id": "499acfc7-8ce5-434c-9b50-7ccc2958bf67",
   "metadata": {},
   "outputs": [
    {
     "name": "stdout",
     "output_type": "stream",
     "text": [
      "32\n"
     ]
    }
   ],
   "source": [
    "text2=\"abcdefghijklmnopqrstuvwxyzabcdef\"\n",
    "print(len(text2))"
   ]
  },
  {
   "cell_type": "code",
   "execution_count": 17,
   "id": "2dbfb1e3-df85-4049-842d-5b4be565d397",
   "metadata": {},
   "outputs": [
    {
     "name": "stdout",
     "output_type": "stream",
     "text": [
      "['abcdefghijklmnopqrstuvwxyzabcdef']\n"
     ]
    }
   ],
   "source": [
    "splits = c_splitter.split_text(text2)\n",
    "print(splits)"
   ]
  },
  {
   "cell_type": "code",
   "execution_count": 18,
   "id": "ac71caa8-a57d-4b8c-a2e2-5f3db95f10cd",
   "metadata": {},
   "outputs": [],
   "source": [
    "text3 = \"a b c d e f g h i j k l m n o p q r s t u v w x y z\""
   ]
  },
  {
   "cell_type": "code",
   "execution_count": 19,
   "id": "65422259-0623-47b4-bcdf-5a6720e5eaf3",
   "metadata": {},
   "outputs": [
    {
     "name": "stdout",
     "output_type": "stream",
     "text": [
      "['a b c d e f', 'e f g h i j', 'i j k l m n', 'm n o p q r', 'q r s t u v', 'u v w x y z']\n"
     ]
    }
   ],
   "source": [
    "splits = rc_splitter.split_text(text3)\n",
    "print(splits)"
   ]
  },
  {
   "cell_type": "code",
   "execution_count": 20,
   "id": "626513af-d88c-45f3-b601-9571f8460bbf",
   "metadata": {},
   "outputs": [
    {
     "name": "stdout",
     "output_type": "stream",
     "text": [
      "11\n"
     ]
    }
   ],
   "source": [
    "print(len(splits[0]))"
   ]
  },
  {
   "cell_type": "code",
   "execution_count": 21,
   "id": "586629c5-d9cf-4296-864c-32b16bbd672e",
   "metadata": {},
   "outputs": [
    {
     "name": "stdout",
     "output_type": "stream",
     "text": [
      "['a b c d e f g h i j k l m n o p q r s t u v w x y z']\n"
     ]
    }
   ],
   "source": [
    "splits = c_splitter.split_text(text3)\n",
    "print(splits)"
   ]
  },
  {
   "cell_type": "code",
   "execution_count": 22,
   "id": "8d9bf711-e225-44a3-98da-3eb5e8ea0cf5",
   "metadata": {},
   "outputs": [
    {
     "data": {
      "text/plain": [
       "['a b c d e f',\n",
       " 'e f g h i j',\n",
       " 'i j k l m n',\n",
       " 'm n o p q r',\n",
       " 'q r s t u v',\n",
       " 'u v w x y z']"
      ]
     },
     "execution_count": 22,
     "metadata": {},
     "output_type": "execute_result"
    }
   ],
   "source": [
    "c_splitter = CharacterTextSplitter(\n",
    "    chunk_size=chunk_size,\n",
    "    chunk_overlap=chunk_overlap,\n",
    "    separator = ' '\n",
    ")\n",
    "c_splitter.split_text(text3)"
   ]
  },
  {
   "cell_type": "markdown",
   "id": "f4d94d72-ddb9-4a6a-87d7-0b25c3a70788",
   "metadata": {},
   "source": [
    "## Recursive Text Splitting"
   ]
  },
  {
   "cell_type": "code",
   "execution_count": 25,
   "id": "2928a544-a389-435b-883b-1132ae385291",
   "metadata": {},
   "outputs": [],
   "source": [
    "some_text = \"\"\"Once upon a time there was a king and queen who lived in a golden\n",
    "castle with their beautiful daughter. One night an ugly ogre captured\n",
    "the beautiful princess and locked her up in his tall, dark tower.\n",
    "‘Help me!’\n",
    "‘Roar!’\n",
    "The king and queen were very sad. They promised to give a bag of\n",
    "gold to the knight that rescued the princess.\n",
    "‘Please save our princess!’\n",
    "‘We’ll save the princess!’\n",
    "All the knights in the land wanted to rescue the princess. They rode to the tower as fast as they\n",
    "could.\n",
    "‘Help me!’\n",
    "‘Roar!’\n",
    "The ugly ogre roared with anger when he saw the knights. His roar was so scary that they rode away\n",
    "as fast as they could.\n",
    "One day a friendly dragon was flying over the ogre’s tower when he heard the princess cry for help.\n",
    "‘Help me!’\n",
    "The dragon flew down to the tower, took a big fiery breath and blew the ogre far away over the\n",
    "mountains and into the ocean.\n",
    "‘Come with me, princess. Don’t be scared!’\n",
    "‘Thank you for saving me.’\n",
    "‘My pleasure, princess.’\n",
    "\"\"\""
   ]
  },
  {
   "cell_type": "code",
   "execution_count": 26,
   "id": "71e4ce94-f0f4-4b07-8c88-f692f7584317",
   "metadata": {},
   "outputs": [],
   "source": [
    "rc_splitter = RecursiveCharacterTextSplitter(\n",
    "    chunk_size = 450,\n",
    "    chunk_overlap = 0,\n",
    "    separators = [\"\\n\",\"\\n\\n\",\" \"]\n",
    ")"
   ]
  },
  {
   "cell_type": "code",
   "execution_count": 27,
   "id": "3d310225-ae05-40b5-a9b0-a80bda5b538f",
   "metadata": {},
   "outputs": [
    {
     "name": "stdout",
     "output_type": "stream",
     "text": [
      "3\n",
      "['Once upon a time there was a king and queen who lived in a golden\\ncastle with their beautiful daughter. One night an ugly ogre captured\\nthe beautiful princess and locked her up in his tall, dark tower.\\n‘Help me!’\\n‘Roar!’\\nThe king and queen were very sad. They promised to give a bag of\\ngold to the knight that rescued the princess.\\n‘Please save our princess!’\\n‘We’ll save the princess!’', 'All the knights in the land wanted to rescue the princess. They rode to the tower as fast as they\\ncould.\\n‘Help me!’\\n‘Roar!’\\nThe ugly ogre roared with anger when he saw the knights. His roar was so scary that they rode away\\nas fast as they could.\\nOne day a friendly dragon was flying over the ogre’s tower when he heard the princess cry for help.\\n‘Help me!’', 'The dragon flew down to the tower, took a big fiery breath and blew the ogre far away over the\\nmountains and into the ocean.\\n‘Come with me, princess. Don’t be scared!’\\n‘Thank you for saving me.’\\n‘My pleasure, princess.’']\n"
     ]
    }
   ],
   "source": [
    "splits = rc_splitter.split_text(some_text)\n",
    "print(len(splits))\n",
    "print(f\"{splits}\")"
   ]
  },
  {
   "cell_type": "code",
   "execution_count": 28,
   "id": "f5282c59-bc7f-470e-a221-0018c2562e47",
   "metadata": {},
   "outputs": [
    {
     "name": "stdout",
     "output_type": "stream",
     "text": [
      "964\n"
     ]
    }
   ],
   "source": [
    "print(len(some_text))"
   ]
  },
  {
   "cell_type": "code",
   "execution_count": 29,
   "id": "d8cfb4c5-ad02-4db7-bf80-75fedb262b05",
   "metadata": {},
   "outputs": [],
   "source": [
    "c_splitter = CharacterTextSplitter(\n",
    "    chunk_size = 450,\n",
    "    chunk_overlap = 0,\n",
    "    separator = \" \"\n",
    ")"
   ]
  },
  {
   "cell_type": "code",
   "execution_count": 30,
   "id": "e2429411-ed1a-4507-a45d-fb6f73efc423",
   "metadata": {},
   "outputs": [
    {
     "name": "stdout",
     "output_type": "stream",
     "text": [
      "3\n",
      "['Once upon a time there was a king and queen who lived in a golden\\ncastle with their beautiful daughter. One night an ugly ogre captured\\nthe beautiful princess and locked her up in his tall, dark tower.\\n‘Help me!’\\n‘Roar!’\\nThe king and queen were very sad. They promised to give a bag of\\ngold to the knight that rescued the princess.\\n‘Please save our princess!’\\n‘We’ll save the princess!’\\nAll the knights in the land wanted to rescue the princess. They', 'rode to the tower as fast as they\\ncould.\\n‘Help me!’\\n‘Roar!’\\nThe ugly ogre roared with anger when he saw the knights. His roar was so scary that they rode away\\nas fast as they could.\\nOne day a friendly dragon was flying over the ogre’s tower when he heard the princess cry for help.\\n‘Help me!’\\nThe dragon flew down to the tower, took a big fiery breath and blew the ogre far away over the\\nmountains and into the ocean.\\n‘Come with me, princess. Don’t', 'be scared!’\\n‘Thank you for saving me.’\\n‘My pleasure, princess.’']\n"
     ]
    }
   ],
   "source": [
    "splits = c_splitter.split_text(some_text)\n",
    "print(len(splits))\n",
    "print(f\"{splits}\")"
   ]
  },
  {
   "cell_type": "code",
   "execution_count": 31,
   "id": "177aa1eb-877b-479d-ae4d-5126e10b3464",
   "metadata": {},
   "outputs": [],
   "source": [
    "rc_splitter = RecursiveCharacterTextSplitter(\n",
    "    chunk_size = 150,\n",
    "    chunk_overlap = 0,\n",
    "    separators = [\"\\n\\n\", \"\\n\", \"(?<=. )\", \" \", \"\"]\n",
    ")"
   ]
  },
  {
   "cell_type": "code",
   "execution_count": 32,
   "id": "65cd3d09-e3af-494c-9653-0d2c10f75a70",
   "metadata": {},
   "outputs": [
    {
     "name": "stdout",
     "output_type": "stream",
     "text": [
      "8\n",
      "['Once upon a time there was a king and queen who lived in a golden\\ncastle with their beautiful daughter. One night an ugly ogre captured', 'the beautiful princess and locked her up in his tall, dark tower.\\n‘Help me!’\\n‘Roar!’\\nThe king and queen were very sad. They promised to give a bag of', 'gold to the knight that rescued the princess.\\n‘Please save our princess!’\\n‘We’ll save the princess!’', 'All the knights in the land wanted to rescue the princess. They rode to the tower as fast as they\\ncould.\\n‘Help me!’\\n‘Roar!’', 'The ugly ogre roared with anger when he saw the knights. His roar was so scary that they rode away\\nas fast as they could.', 'One day a friendly dragon was flying over the ogre’s tower when he heard the princess cry for help.\\n‘Help me!’', 'The dragon flew down to the tower, took a big fiery breath and blew the ogre far away over the\\nmountains and into the ocean.', '‘Come with me, princess. Don’t be scared!’\\n‘Thank you for saving me.’\\n‘My pleasure, princess.’']\n"
     ]
    }
   ],
   "source": [
    "splits = rc_splitter.split_text(some_text)\n",
    "print(len(splits))\n",
    "print(f\"{splits}\")"
   ]
  },
  {
   "cell_type": "markdown",
   "id": "3a54cefd-3787-43f5-ac85-4c547e74a7bb",
   "metadata": {},
   "source": [
    "## Document Splitter"
   ]
  },
  {
   "cell_type": "code",
   "execution_count": 33,
   "id": "27ec335d-9f06-4ee8-a055-1baca88975d7",
   "metadata": {},
   "outputs": [],
   "source": [
    "from langchain.document_loaders import PyPDFLoader"
   ]
  },
  {
   "cell_type": "code",
   "execution_count": 37,
   "id": "2ee61f41-c982-4937-82bd-d9da1be26c6d",
   "metadata": {},
   "outputs": [],
   "source": [
    "loader = PyPDFLoader(file_path=\"docs/MachineLearning-Lecture01.pdf\")\n",
    "pages = loader.load()"
   ]
  },
  {
   "cell_type": "code",
   "execution_count": 38,
   "id": "b7735b7e-e626-45b1-b1ea-e93f63abe6d8",
   "metadata": {},
   "outputs": [
    {
     "name": "stdout",
     "output_type": "stream",
     "text": [
      "22\n"
     ]
    }
   ],
   "source": [
    "print(len(pages))"
   ]
  },
  {
   "cell_type": "code",
   "execution_count": 39,
   "id": "0da9f8d0-3a00-46ff-98f6-bf68fa820b1a",
   "metadata": {},
   "outputs": [],
   "source": [
    "c_splitter = CharacterTextSplitter(chunk_size=1080, chunk_overlap = 100, separator = \"\\n\", length_function=len)\n",
    "docs = c_splitter.split_documents(pages)"
   ]
  },
  {
   "cell_type": "code",
   "execution_count": 40,
   "id": "026e682b-53e1-4b44-9b77-a647b3ed719f",
   "metadata": {},
   "outputs": [
    {
     "name": "stdout",
     "output_type": "stream",
     "text": [
      "75\n"
     ]
    }
   ],
   "source": [
    "print(len(docs))"
   ]
  },
  {
   "cell_type": "code",
   "execution_count": 41,
   "id": "90cfb2b5-4259-4f50-9c1c-8546c9e198e9",
   "metadata": {},
   "outputs": [
    {
     "name": "stdout",
     "output_type": "stream",
     "text": [
      "robot to do often pretty amazing things.  \n",
      "Okay. So that was most of what I wanted to say today. Just a couple more last things, but \n",
      "let me just check what questions you have righ t now. So if there are no questions, I'll just \n",
      "close with two reminders, which are after class today or as you start to talk with other \n",
      "people in this class, I just encourage you again to start to form project partners, to try to \n",
      "find project partners to do your project with. And also, this is a good time to start forming \n",
      "study groups, so either talk to your friends  or post in the newsgroup, but we just \n",
      "encourage you to try to star t to do both of those today, okay? Form study groups, and try \n",
      "to find two other project partners.  \n",
      "So thank you. I'm looking forward to teaching this class, and I'll see you in a couple of \n",
      "days.\n"
     ]
    }
   ],
   "source": [
    "print(docs[73].page_content)"
   ]
  },
  {
   "cell_type": "code",
   "execution_count": 42,
   "id": "5b098a58-349c-4814-a35b-ebf9dff649d6",
   "metadata": {},
   "outputs": [
    {
     "data": {
      "text/plain": [
       "Document(metadata={'source': 'docs/MachineLearning-Lecture01.pdf', 'page': 0}, page_content=\"MachineLearning-Lecture01  \\nInstructor (Andrew Ng):  Okay. Good morning. Welcome to CS229, the machine \\nlearning class. So what I wanna do today is ju st spend a little time going over the logistics \\nof the class, and then we'll start to  talk a bit about machine learning.  \\nBy way of introduction, my name's  Andrew Ng and I'll be instru ctor for this class. And so \\nI personally work in machine learning, and I' ve worked on it for about 15 years now, and \\nI actually think that machine learning is th e most exciting field of all the computer \\nsciences. So I'm actually always excited about  teaching this class. Sometimes I actually \\nthink that machine learning is not only the most exciting thin g in computer science, but \\nthe most exciting thing in all of human e ndeavor, so maybe a little bias there.  \\nI also want to introduce the TAs, who are all graduate students doing research in or \\nrelated to the machine learni ng and all aspects of machin e learning. Paul Baumstarck \\nworks in machine learning and computer vision.  Catie Chang is actually a neuroscientist\")"
      ]
     },
     "execution_count": 42,
     "metadata": {},
     "output_type": "execute_result"
    }
   ],
   "source": [
    "docs[0]"
   ]
  },
  {
   "cell_type": "code",
   "execution_count": 43,
   "id": "8e752a46-6ffa-4a92-b10c-01826782fad8",
   "metadata": {},
   "outputs": [
    {
     "data": {
      "text/plain": [
       "Document(metadata={'source': 'docs/MachineLearning-Lecture01.pdf', 'page': 0}, page_content=\"works in machine learning and computer vision.  Catie Chang is actually a neuroscientist \\nwho applies machine learning algorithms to try to understand the human brain. Tom Do \\nis another PhD student, works in computa tional biology and in sort of the basic \\nfundamentals of human learning. Zico Kolter is  the head TA — he's head TA two years \\nin a row now — works in machine learning a nd applies them to a bunch of robots. And \\nDaniel Ramage is — I guess he's not here  — Daniel applies l earning algorithms to \\nproblems in natural language processing.  \\nSo you'll get to know the TAs and me much be tter throughout this quarter, but just from \\nthe sorts of things the TA's do, I hope you can  already tell that machine learning is a \\nhighly interdisciplinary topic in which just the TAs find l earning algorithms to problems \\nin computer vision and biology and robots a nd language. And machine learning is one of \\nthose things that has and is having a large impact on many applications.  \\nSo just in my own daily work, I actually frequently end up talking to people like\")"
      ]
     },
     "execution_count": 43,
     "metadata": {},
     "output_type": "execute_result"
    }
   ],
   "source": [
    "docs[1]"
   ]
  },
  {
   "cell_type": "markdown",
   "id": "26676223-ed7d-4940-9962-031a0c487a5d",
   "metadata": {},
   "source": [
    "## Token Splitting"
   ]
  },
  {
   "cell_type": "code",
   "execution_count": 44,
   "id": "dd8ac539-c4a1-4cae-ae71-21b7eeeee2c0",
   "metadata": {},
   "outputs": [],
   "source": [
    "from langchain.text_splitter import TokenTextSplitter, MarkdownHeaderTextSplitter, MarkdownTextSplitter"
   ]
  },
  {
   "cell_type": "code",
   "execution_count": 45,
   "id": "6e0a952d-477c-430c-a183-d954f8f7c660",
   "metadata": {},
   "outputs": [],
   "source": [
    "token_splitter = TokenTextSplitter(chunk_size=1, chunk_overlap=0)"
   ]
  },
  {
   "cell_type": "code",
   "execution_count": 46,
   "id": "554bbfaa-1158-41ef-8232-a0efcaf9088f",
   "metadata": {},
   "outputs": [],
   "source": [
    "text1=\"foo bar bazzy boo\""
   ]
  },
  {
   "cell_type": "code",
   "execution_count": 47,
   "id": "19d06d4d-61c3-44e4-bf85-18f286dbd0bf",
   "metadata": {},
   "outputs": [
    {
     "data": {
      "text/plain": [
       "['foo', ' bar', ' b', 'az', 'zy', ' boo']"
      ]
     },
     "execution_count": 47,
     "metadata": {},
     "output_type": "execute_result"
    }
   ],
   "source": [
    "token_splitter.split_text(text1)"
   ]
  },
  {
   "cell_type": "code",
   "execution_count": 48,
   "id": "fb059b46-5a3f-4705-a9e6-dcfe6658a956",
   "metadata": {},
   "outputs": [],
   "source": [
    "token_splitter = TokenTextSplitter(chunk_size=10, chunk_overlap=0)\n",
    "docs = token_splitter.split_documents(pages)"
   ]
  },
  {
   "cell_type": "code",
   "execution_count": 49,
   "id": "d3ccf3f5-3f38-4eea-8976-ca11b9788c4f",
   "metadata": {},
   "outputs": [
    {
     "name": "stdout",
     "output_type": "stream",
     "text": [
      "1557\n"
     ]
    }
   ],
   "source": [
    "print(len(docs))"
   ]
  },
  {
   "cell_type": "code",
   "execution_count": 50,
   "id": "78fdfa7d-8094-4aeb-94d9-0f2f1da97f95",
   "metadata": {},
   "outputs": [
    {
     "name": "stdout",
     "output_type": "stream",
     "text": [
      "page_content='MachineLearning-Lecture01  \n",
      "' metadata={'source': 'docs/MachineLearning-Lecture01.pdf', 'page': 0}\n"
     ]
    }
   ],
   "source": [
    "print(docs[0])"
   ]
  },
  {
   "cell_type": "code",
   "execution_count": 51,
   "id": "8fbf4999-030b-4ec1-b9e7-2107c35a4be2",
   "metadata": {},
   "outputs": [
    {
     "name": "stdout",
     "output_type": "stream",
     "text": [
      "page_content='Instructor (Andrew Ng):  Okay. Good' metadata={'source': 'docs/MachineLearning-Lecture01.pdf', 'page': 0}\n"
     ]
    }
   ],
   "source": [
    "print(docs[1])"
   ]
  },
  {
   "cell_type": "code",
   "execution_count": 52,
   "id": "85336a32-1505-4481-8185-0f591598d726",
   "metadata": {},
   "outputs": [
    {
     "name": "stdout",
     "output_type": "stream",
     "text": [
      "page_content='MachineLearning-Lecture01  \n",
      "' metadata={'source': 'docs/MachineLearning-Lecture01.pdf', 'page': 0}\n",
      "page_content='Instructor (Andrew Ng):  Okay. Good' metadata={'source': 'docs/MachineLearning-Lecture01.pdf', 'page': 0}\n",
      "page_content=' morning. Welcome to CS229, the machine ' metadata={'source': 'docs/MachineLearning-Lecture01.pdf', 'page': 0}\n",
      "page_content='\n",
      "learning class. So what I wanna do today' metadata={'source': 'docs/MachineLearning-Lecture01.pdf', 'page': 0}\n",
      "page_content=' is ju st spend a little time going over the' metadata={'source': 'docs/MachineLearning-Lecture01.pdf', 'page': 0}\n",
      "page_content=' logistics \n",
      "of the class, and then we' metadata={'source': 'docs/MachineLearning-Lecture01.pdf', 'page': 0}\n",
      "page_content=''ll start to  talk a bit about machine learning' metadata={'source': 'docs/MachineLearning-Lecture01.pdf', 'page': 0}\n",
      "page_content='.  \n",
      "By way of introduction, my' metadata={'source': 'docs/MachineLearning-Lecture01.pdf', 'page': 0}\n",
      "page_content=' name's  Andrew Ng and I'll be inst' metadata={'source': 'docs/MachineLearning-Lecture01.pdf', 'page': 0}\n",
      "page_content='ru ctor for this class. And so ' metadata={'source': 'docs/MachineLearning-Lecture01.pdf', 'page': 0}\n"
     ]
    }
   ],
   "source": [
    "for i in range(10):\n",
    "    print(docs[i])"
   ]
  },
  {
   "cell_type": "markdown",
   "id": "a6551fc6-b865-4727-871f-7f2f5c354569",
   "metadata": {},
   "source": [
    "#### As you can see in the above output, the metadata is attached to each doc object or chunk"
   ]
  },
  {
   "cell_type": "code",
   "execution_count": 53,
   "id": "ed76386f-f654-4042-9da6-bb49a1a65abe",
   "metadata": {},
   "outputs": [],
   "source": [
    "markdown_document = \"\"\"# Title\\n\\n \\\n",
    "## Chapter 1\\n\\n \\\n",
    "Hi this is Jim\\n\\n Hi this is Joe\\n\\n \\\n",
    "### Section \\n\\n \\\n",
    "Hi this is Lance \\n\\n \n",
    "## Chapter 2\\n\\n \\\n",
    "Hi this is Molly\"\"\""
   ]
  },
  {
   "cell_type": "code",
   "execution_count": 54,
   "id": "47fd3bfd-fe5c-44c7-a4f9-725acd8899c2",
   "metadata": {},
   "outputs": [],
   "source": [
    "headers_to_split_on = [\n",
    "    (\"#\",\"Header 1\"),\n",
    "    (\"##\",\"Header 2\"),\n",
    "    (\"###\",\"Header 3\")\n",
    "]"
   ]
  },
  {
   "cell_type": "code",
   "execution_count": 55,
   "id": "42360017-20b0-4a8e-9d17-88fbe40803a0",
   "metadata": {},
   "outputs": [],
   "source": [
    "markdown_text_splitter = MarkdownHeaderTextSplitter(\n",
    "    headers_to_split_on= headers_to_split_on\n",
    ")"
   ]
  },
  {
   "cell_type": "code",
   "execution_count": 56,
   "id": "d75410cd-caf5-4846-a3bc-8cfe265f20f1",
   "metadata": {},
   "outputs": [
    {
     "name": "stdout",
     "output_type": "stream",
     "text": [
      "[Document(metadata={'Header 1': 'Title', 'Header 2': 'Chapter 1'}, page_content='Hi this is Jim  \\nHi this is Joe'), Document(metadata={'Header 1': 'Title', 'Header 2': 'Chapter 1', 'Header 3': 'Section'}, page_content='Hi this is Lance'), Document(metadata={'Header 1': 'Title', 'Header 2': 'Chapter 2'}, page_content='Hi this is Molly')]\n"
     ]
    }
   ],
   "source": [
    "texts = markdown_text_splitter.split_text(markdown_document)\n",
    "print(texts)"
   ]
  },
  {
   "cell_type": "code",
   "execution_count": 57,
   "id": "c5e3f9be-2a0a-4fda-b8e7-164f2fab21ec",
   "metadata": {},
   "outputs": [
    {
     "name": "stdout",
     "output_type": "stream",
     "text": [
      "['Hi this is Jim  \\nHi this is', ' Joe']\n"
     ]
    }
   ],
   "source": [
    "tokens = token_splitter.split_text(texts[0].page_content)\n",
    "print(tokens)"
   ]
  },
  {
   "cell_type": "code",
   "execution_count": null,
   "id": "9a459234-5a19-4614-ad30-e083f477933f",
   "metadata": {},
   "outputs": [],
   "source": []
  },
  {
   "cell_type": "code",
   "execution_count": null,
   "id": "b6120e89-d075-406b-8f1b-d42ce9c2857c",
   "metadata": {},
   "outputs": [],
   "source": []
  },
  {
   "cell_type": "code",
   "execution_count": null,
   "id": "220f433a-5237-4a4b-a904-c4363ea5611c",
   "metadata": {},
   "outputs": [],
   "source": []
  },
  {
   "cell_type": "code",
   "execution_count": null,
   "id": "a563ddf0-0815-48e9-9f57-7f5743390cdf",
   "metadata": {},
   "outputs": [],
   "source": []
  },
  {
   "cell_type": "code",
   "execution_count": null,
   "id": "c5977400-c096-418c-ae77-10c01c538a77",
   "metadata": {},
   "outputs": [],
   "source": []
  },
  {
   "cell_type": "code",
   "execution_count": null,
   "id": "9df122cd-2f08-429b-a5eb-0ef1c7ea7979",
   "metadata": {},
   "outputs": [],
   "source": []
  }
 ],
 "metadata": {
  "kernelspec": {
   "display_name": "Python 3 (ipykernel)",
   "language": "python",
   "name": "python3"
  },
  "language_info": {
   "codemirror_mode": {
    "name": "ipython",
    "version": 3
   },
   "file_extension": ".py",
   "mimetype": "text/x-python",
   "name": "python",
   "nbconvert_exporter": "python",
   "pygments_lexer": "ipython3",
   "version": "3.12.2"
  }
 },
 "nbformat": 4,
 "nbformat_minor": 5
}
