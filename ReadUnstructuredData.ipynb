{
 "cells": [
  {
   "cell_type": "markdown",
   "id": "0b940aff-b3ba-4d3f-860c-7db0a1ec9ce1",
   "metadata": {},
   "source": [
    "## Document Loader using Langchain for Unstructured data \n",
    "- Reading PDF files\n",
    "- Reading video files from youtube url, converting it to audio file and transcribing into text\n",
    "- Reading websites\n"
   ]
  },
  {
   "cell_type": "code",
   "execution_count": 1,
   "id": "3641f60b-7433-4c09-8085-d0c212155c23",
   "metadata": {},
   "outputs": [],
   "source": [
    "import os\n",
    "import datetime\n",
    "from dotenv import load_dotenv, find_dotenv\n",
    "import openai"
   ]
  },
  {
   "cell_type": "code",
   "execution_count": 2,
   "id": "a8a8c9dc-2faf-4f19-b8e6-31ca05c93989",
   "metadata": {},
   "outputs": [],
   "source": [
    "_ = load_dotenv(find_dotenv())"
   ]
  },
  {
   "cell_type": "code",
   "execution_count": 3,
   "id": "8b9fc653-2e80-45ee-91e4-5f9ec8b8f6c7",
   "metadata": {},
   "outputs": [],
   "source": [
    "openai.api_key = os.environ['OPENAI_API_KEY']"
   ]
  },
  {
   "cell_type": "code",
   "execution_count": 4,
   "id": "0ede6d6f-dc50-40b6-b452-0604a9b592be",
   "metadata": {},
   "outputs": [],
   "source": [
    "from langchain.document_loaders import PyPDFLoader"
   ]
  },
  {
   "cell_type": "code",
   "execution_count": 5,
   "id": "86fdba48-6562-4a4f-ae55-88cb53d2fc49",
   "metadata": {},
   "outputs": [
    {
     "name": "stdout",
     "output_type": "stream",
     "text": [
      "Requirement already satisfied: pypdf in /opt/anaconda3/lib/python3.12/site-packages (4.2.0)\n",
      "Note: you may need to restart the kernel to use updated packages.\n"
     ]
    }
   ],
   "source": [
    "pip install pypdf"
   ]
  },
  {
   "cell_type": "code",
   "execution_count": 6,
   "id": "f6b30f6f-8596-40b0-a377-20f68dacb35d",
   "metadata": {},
   "outputs": [
    {
     "name": "stdout",
     "output_type": "stream",
     "text": [
      "22\n"
     ]
    }
   ],
   "source": [
    "loader = PyPDFLoader(\"docs/MachineLearning-Lecture01.pdf\")\n",
    "pages = loader.load()\n",
    "print(len(pages))"
   ]
  },
  {
   "cell_type": "code",
   "execution_count": 7,
   "id": "3db679f2-a58b-4525-9dba-41b71593e0c9",
   "metadata": {},
   "outputs": [
    {
     "data": {
      "text/plain": [
       "'MachineLearning-Lecture01  \\nInstructor (Andrew Ng):  Okay. Good morning. Welcome to CS229, the machine \\nlearning class. So what I wanna do today is ju st spend a little time going over the logistics \\nof the class, and then we\\'ll start to  talk a bit about machine learning.  \\nBy way of introduction, my name\\'s  Andrew Ng and I\\'ll be instru ctor for this class. And so \\nI personally work in machine learning, and I\\' ve worked on it for about 15 years now, and \\nI actually think that machine learning is th e most exciting field of all the computer \\nsciences. So I\\'m actually always excited about  teaching this class. Sometimes I actually \\nthink that machine learning is not only the most exciting thin g in computer science, but \\nthe most exciting thing in all of human e ndeavor, so maybe a little bias there.  \\nI also want to introduce the TAs, who are all graduate students doing research in or \\nrelated to the machine learni ng and all aspects of machin e learning. Paul Baumstarck \\nworks in machine learning and computer vision.  Catie Chang is actually a neuroscientist \\nwho applies machine learning algorithms to try to understand the human brain. Tom Do \\nis another PhD student, works in computa tional biology and in sort of the basic \\nfundamentals of human learning. Zico Kolter is  the head TA — he\\'s head TA two years \\nin a row now — works in machine learning a nd applies them to a bunch of robots. And \\nDaniel Ramage is — I guess he\\'s not here  — Daniel applies l earning algorithms to \\nproblems in natural language processing.  \\nSo you\\'ll get to know the TAs and me much be tter throughout this quarter, but just from \\nthe sorts of things the TA\\'s do, I hope you can  already tell that machine learning is a \\nhighly interdisciplinary topic in which just the TAs find l earning algorithms to problems \\nin computer vision and biology and robots a nd language. And machine learning is one of \\nthose things that has and is having a large impact on many applications.  \\nSo just in my own daily work, I actually frequently end up talking to people like \\nhelicopter pilots to biologists to people in  computer systems or databases to economists \\nand sort of also an unending stream of  people from industry coming to Stanford \\ninterested in applying machine learni ng methods to their own problems.  \\nSo yeah, this is fun. A couple of weeks ago, a student actually forwar ded to me an article \\nin \"Computer World\" about the 12 IT skills th at employers can\\'t say no to. So it\\'s about \\nsort of the 12 most desirabl e skills in all of IT and all of information technology, and \\ntopping the list was actually machine lear ning. So I think this is a good time to be \\nlearning this stuff and learning algorithms and having a large impact on many segments \\nof science and industry.  \\nI\\'m actually curious about something. Learni ng algorithms is one of the things that \\ntouches many areas of science and industrie s, and I\\'m just kind of curious. How many \\npeople here are computer science majors, are in the computer science department? Okay. \\nAbout half of you. How many people are from  EE? Oh, okay, maybe about a fifth. How '"
      ]
     },
     "execution_count": 7,
     "metadata": {},
     "output_type": "execute_result"
    }
   ],
   "source": [
    "pages[0].page_content"
   ]
  },
  {
   "cell_type": "code",
   "execution_count": 8,
   "id": "b3ed8938-77a9-4b82-9b56-f2a13beaebfc",
   "metadata": {},
   "outputs": [
    {
     "data": {
      "text/plain": [
       "{'source': 'docs/MachineLearning-Lecture01.pdf', 'page': 0}"
      ]
     },
     "execution_count": 8,
     "metadata": {},
     "output_type": "execute_result"
    }
   ],
   "source": [
    "pages[0].metadata"
   ]
  },
  {
   "cell_type": "code",
   "execution_count": 9,
   "id": "62470635-77e2-4063-bd34-d188ba533e43",
   "metadata": {},
   "outputs": [],
   "source": [
    "from langchain.document_loaders.generic import GenericLoader\n",
    "from langchain.document_loaders.parsers import OpenAIWhisperParser\n",
    "from langchain.document_loaders.blob_loaders.youtube_audio import YoutubeAudioLoader"
   ]
  },
  {
   "cell_type": "code",
   "execution_count": 10,
   "id": "56cce517-a534-4b0f-a5fa-5707eb3c06ed",
   "metadata": {},
   "outputs": [],
   "source": [
    "#pip install --quiet --upgrade yt_dlp;"
   ]
  },
  {
   "cell_type": "code",
   "execution_count": 11,
   "id": "68ae8a16-176a-4bf1-91b6-da9830fcc6ae",
   "metadata": {},
   "outputs": [],
   "source": [
    "#pip install --quiet --upgrade pydub"
   ]
  },
  {
   "cell_type": "code",
   "execution_count": 12,
   "id": "747034b2-7bd5-466a-b893-f29a4898f1fb",
   "metadata": {},
   "outputs": [],
   "source": [
    "#pip install --quiet --upgrade ffmpeg"
   ]
  },
  {
   "cell_type": "code",
   "execution_count": 13,
   "id": "9237858e-57dc-4c9c-94a0-a01d0126f2ec",
   "metadata": {},
   "outputs": [],
   "source": [
    "#pip install --quiet --upgrade ffprobe"
   ]
  },
  {
   "cell_type": "code",
   "execution_count": 14,
   "id": "3b59900e-466c-4294-8dc0-2965ff85ae0d",
   "metadata": {},
   "outputs": [
    {
     "name": "stdout",
     "output_type": "stream",
     "text": [
      "[youtube] Extracting URL: https://youtu.be/DlxiE-BMLRQ?si=96W5IrfQhxLCNqFj\n",
      "[youtube] DlxiE-BMLRQ: Downloading webpage\n",
      "[youtube] DlxiE-BMLRQ: Downloading ios player API JSON\n"
     ]
    },
    {
     "name": "stderr",
     "output_type": "stream",
     "text": [
      "WARNING: [youtube] DlxiE-BMLRQ: nsig extraction failed: Some formats may be missing\n",
      "         Install PhantomJS to workaround the issue. Please download it from https://phantomjs.org/download.html\n",
      "         n = eVXbJTmEFVLX7sPUX ; player = https://www.youtube.com/s/player/b22ef6e7/player_ias.vflset/en_US/base.js\n",
      "WARNING: [youtube] DlxiE-BMLRQ: nsig extraction failed: Some formats may be missing\n",
      "         Install PhantomJS to workaround the issue. Please download it from https://phantomjs.org/download.html\n",
      "         n = qjQFhiP2YAclL7pGt ; player = https://www.youtube.com/s/player/b22ef6e7/player_ias.vflset/en_US/base.js\n"
     ]
    },
    {
     "name": "stdout",
     "output_type": "stream",
     "text": [
      "[youtube] DlxiE-BMLRQ: Downloading m3u8 information\n",
      "[info] DlxiE-BMLRQ: Downloading 1 format(s): 140\n",
      "[download] docs/youtube_converted_Audio/Divine Warnings and Human Skepticism - Surah Qaf - Nouman Ali Khan.m4a has already been downloaded\n",
      "[download] 100% of   22.22MiB\n",
      "[ExtractAudio] Not converting audio docs/youtube_converted_Audio/Divine Warnings and Human Skepticism - Surah Qaf - Nouman Ali Khan.m4a; file is already in target format m4a\n",
      "Transcribing part 1!\n",
      "Transcribing part 2!\n"
     ]
    }
   ],
   "source": [
    "yt_url = \"https://youtu.be/DlxiE-BMLRQ?si=96W5IrfQhxLCNqFj\"\n",
    "save_dir = \"docs/youtube_converted_Audio\"\n",
    "loader = GenericLoader(\n",
    "    YoutubeAudioLoader([yt_url], save_dir=save_dir),\n",
    "    OpenAIWhisperParser()\n",
    ")\n",
    "files = loader.load()"
   ]
  },
  {
   "cell_type": "code",
   "execution_count": 15,
   "id": "87eef9c7-2547-4fe5-b82d-423ed7f47c97",
   "metadata": {},
   "outputs": [
    {
     "name": "stdout",
     "output_type": "stream",
     "text": [
      "2\n"
     ]
    }
   ],
   "source": [
    "print(len(files))"
   ]
  },
  {
   "cell_type": "code",
   "execution_count": 16,
   "id": "669b0d93-a78d-4ab7-89dc-7ace18465baa",
   "metadata": {},
   "outputs": [
    {
     "name": "stdout",
     "output_type": "stream",
     "text": [
      "page_content='Messengers warn about two things. One, worldly destruction of nations. Two, the worst destruction than that, the resurrection, punishment that's coming thereafter. So it's two parts. And you'll see in Meccan surahs, they interplay with each other. As far as Allah is concerned, one is just a preview to the next. So the fact that Nuh's nation was flooded is a preview to what's going to happen when they are raised. So they're not one or the other, it's one then the other. أَعُوذُ بِاللَّهِ مِنَ الشَّيْطَانِ الرَّجِيمِ بِسْمِ اللَّهِ الرَّحْمَنِ الرَّحِيمِ قَافُوا الْقُرْآنِ الْمَجِيدِ بَلْ عَجِبُوا أَنْ جَاءَهُم مُنذِرٌ مِّنْهُمْ فَقَالَ الْكَافِرُونَ هَذَا شَيْءٌ عَجِيبٌ رَبِّ الشَّحْلِ صَدْرِي وَيَسِّرْ لِي أَمْرِي وَحْلُ الْعُقْدَةَ مِنْ لِسَانِي يَفْقَهُ قَوْلِي آمِنِ يَرَبِّ الْعَالَمِينَ ثُمَّ أَمَّا بَعَدْ Once again, everyone, assalamu alaikum wa rahmatullahi wa barakatuh. Allah has given this incredible, noble Qur'an, and He called upon it as evidence. You make your own conclusions, but instead of pondering upon this Qur'an, and instead of thinking about the majesty that it's giving you, instead the word بَلْ is used. In other words, they didn't give it a chance, they didn't ponder upon it, they didn't think about it. And instead, عَجِيبُوا أَنْ جَاءَهُم مُنذِرٌ مِنْهُمْ They found it strange that a warner came to them from among themselves. مُنذِرٌ مِنْ جِنْسِهِمْ لَا مِنْ جِنْسِ الْمَلَكِ One of the ways it's interpreted is, how come no angel came? How come a warner came from among ourselves? It needs to be understood here that they didn't use the word messenger. How come a messenger came to them from among ourselves? Or from among themselves. Rather, a warner came, a منذر came from among themselves. This sets the tone for the rest of this surah. A warning is about an imminent threat, a danger that is coming. And the danger that is coming, first of all is their own death, and what is gonna transpire thereafter. But there are two... In the Qur'an, when you talk about nations being preached to, when they're being given a message by any messenger, messengers always talk about two different dangers. Two different dangers. One danger is long-term, which is the Day of Judgment, and whatever happens thereafter. Which means Day of Judgment connected with Hellfire. Right, that's the danger. But the other danger is, a messenger is here, which means you guys are on the brink of worldly destruction as well. The formula in the Qur'an is as follows. It's, you know, if you don't study it carefully, you get the opposite conclusion of what I'm gonna say. And I'll start with the opposite conclusion. Messengers came, people didn't listen, nations got destroyed. That means, when messengers come, what's coming soon? Destruction is coming soon. So messengers might as well be the angels of death and destruction, because once they come, you know things are gonna go bad. And even Sunday school kids know. Yeah, yeah, we know Nuh came and they drowned. Yeah, yeah, we know Hud came and they looted, you know. Messenger, doom. Messenger, doom. Messenger, doom. Isn't it? And you get this picture where you associate messengers with what? With doom. And that's a really big problem. The right way of looking at it, the way the Qur'an paints this picture, is that Allah gave all societies a chance to flourish. And then societies took an evil turn. Societies glorified bad things. زَيَّنَ لَهُمْ وَشَيْطَانَ أَعْمَالَهُمْ Their evil deeds were beautified to them by the shaitan, by the devil. And they would embrace those evil deeds, encourage each other to those evil deeds, to the point where that society is on the brink of destruction. They're gonna fall apart anyway. And it is when they reach that brink of destruction, is when Allah sends a messenger in hopes of turning the tide and saying, Guys, you're heading towards destruction. I'm here to try to stop you. I'm here to try to help you. Pretty much every time, did they listen to those messengers or no? They didn't, and they ended up where they were gonna end up. The point that's being made in the Qur'an is not messengers came and they were destroyed. It's messengers came and even though they came, they were destroyed. The point being made is they tried to stop the destruction from happening. The fact that they're telling you that this building is falling apart is not their fault. You're the one not taking care of the building. When you don't listen to their warnings, and it falls apart, you don't say, Well, the last thing I remember is the guy was telling us the building's gonna fall apart, and then it fell apart. You know, like how people blame the weather forecaster. You know, I'm just telling you what's coming. I'm giving you ample time to prepare yourselves and fix the problem. That's what messengers came to do. So once again, summarizing. Messengers warn about two things. One, worldly destruction of nations. Two, the worst destruction than that, the resurrection, punishment that's coming thereafter. So it's two parts. And you'll see in Meccan surahs, they interplay with each other. As far as Allah is concerned, one is just a preview to the next. So the fact that Nuh's nation was flooded is a preview to what's gonna happen when they are raised. Right? So they're not one or the other. It's one then the other. So when Allah talks, if He talks in some surah about a nation being destroyed in this world, then He doesn't even have to say what happened to them afterwards. That's already understood. That's already لازم and ملزوم. It just necessarily leads to it. Okay? بَلْعَجِبُوا They found it strange. Allah doesn't say who. When you use a pronoun like they, then you're saying, you didn't say the disbelievers found it strange. He just says they found it strange. So it's actually a comment about all of Mecca. First of all, it's a comment about all of Mecca. Everybody found it weird that a man from among them, who's lived among them 40 years, who they know so well, all of a sudden comes and gives them warnings. مُنذِرٌ He's among us. You know, look at it generally, warnings have to come from the outside. You have to tune into some broadcast, some announcement that you don't have access to to get a warning. Back in the day, if you were going to get a warning about a tribe attacking, or some enemy coming, it would have to be someone who was outside, who saw the enemy coming, and then they came running back in, and said, by the way guys, there's an enemy coming. If you notice the Prophet صلى الله عليه وسلم did this, he stood on the top of the mount, and in one of his first preaching sermons, he said, وَصَبَاحًا I swear by the morning that's coming. And when they heard that, they thought, man, other side of the mountain, by morning the enemy will be here. They all gathered, and even the Prophet صلى الله عليه وسلم asked that rhetorical question, if I was to tell you, there's an emerging army on the other side of this mountain, would you believe me? And they said, yes we would. You know why? Because if he's on top of the mountain, he sees it. He sees it. But then he preached to them about something entirely different. The point is, if one of you, with no phone devices, because now we have things that connect us to the outside world. But imagine there aren't those things. And you're sitting in this room, and one of you says, by the way, there's an army coming this way. Where did you get this news? Is it on your phone, somebody text you? No. I just know. Who are you to warn? You're sitting among us. So the idea that there's someone warning us, who's from among us is weird. That's naturally strange. How could he, either he went out, or someone from the outside came to him. That's the only two possibilities. There's no third possibility. So now the question is, someone from the outside did come to him? And of course the angel Jibreel came to him. When the angel Jibreel came to him, whether you believe it or not, it is actually pretty amazing to, that's happening in our town? For real? And that's why even the jinn who believed, even those who believed in the Qur'an, they said, إِنَّا سَمِعْنَا قُرْآنًا عَجَبًا We heard a Qur'an that's strange. And so if you look at the definition of عجب in the Arabic language, إِنكَارُ مَا يَرُدَّ عَلَيْكَ لِقِلَّةِ اِعْتِيَادِهِ It is actually denying something that has happened to you, because it rarely ever happens. It's so unlikely that it would happen. Guys, sorry for the interruption in the middle of this lecture. Just before you continue, I want to let you know and encourage you, that I want you to sign up for bayyinatv.com and help others sign up, or even sponsor students for bayyinatv.com, so we can create worldwide communities of students that are studying the meanings and the benefit and the wisdom of the Qur'an, and are inshaAllah ta'ala spreading that in their own circles. Thanks so much. This is the idea of something strange to the Arabs. How could it be? This is completely not normal, right? Now, by saying عَجِبُ, Allah is saying that it sent shockwaves across all of the region. Everybody is saying, he's saying that he gets a message, he gets an angel talking to him. Now that message is made up of three things that are hard to believe. What are those three things? Allah, afterlife, and actually of them, the hardest to believe is revelation. Believing in God, pretty common. Believing in some afterlife, pretty common. Believing that you, receiving that you get an angel talking to you, from the sky, that's kind of hard to accept. You understand? So that third part is actually what everything else hinges on. It's actually belief in revelation that sets the tone for our belief in God and belief in the afterlife. It is the one that people are skeptical about the most. That's the one that people are skeptical about the most. For example, if somebody believes, somebody doesn't believe in the afterlife, you should not be arguing about the afterlife. That's actually a consequence of something before it. What is before it is, do you believe in God? Well if you believe in a God, do you believe in an all-powerful God? Okay, well if you believe in an all-powerful God, then at the very least you believe that an afterlife is possible. We got that far. Now there's still a step missing. Well how do you know, even if there is a God, fine, I believe in a God, and I believe he's all-powerful, he can create an afterlife if he wants. How do you know there's a heaven, he created a heaven or a hell? How do I know he didn't just create a different planet and he's just going to move us from here to there? Or we're going to come back as cockroaches or cats, reincarnation? How do you know that your concept of what's going to happen is right and my imagination of what's going to happen is wrong? Well the only thing that can solve that problem is if God himself tells me what's going to happen. So there's afterlife, I'm not sure, well maybe there is a God, fine. If there is a God, there's a possibility of an afterlife. Well the only way you'll know what that afterlife looks like is through what? Revelation. The only thing that can solve that problem is revelation. I can have some concept of what that afterlife looks like, somebody else can have some other concept. Hindus have their concept of afterlife too. The Christian concept of afterlife is very different from the Jewish concept of the afterlife. It is, they're two very different views. وَهُمْ يَتْلُونَ الْكِتَابِ Even though they read the same book. And that's very different from the Muslim concept of the afterlife. So it's going to have to be solved by revelation. So now they find it strange that a warner came to them from among themselves. So of the things that he's talking about, the thing they find the most strange is the warning. They're not so much worried about belief in God. Why is he giving us warnings? Now is the Qur'an only full of warnings? And did it come originally just to warn? Actually the Qur'an says, بَشِيرًا وَنَذِيرًا You came to give good news and to give warning. So the Qur'an originally came to do what? Give good news. To give good news. Now, and we already read that the Qur'an came to dignify people. The thing is, does it include warning? Yes. They reduced all of the message of the Qur'an to what? Warning. Allah is saying, I was trying to talk to you with dignity and part of that dignity was warning you. Not the only thing but part of it was warning you. By the way, how is warning someone dignifying someone? Listen, I respect you and out of respect for you, I'm telling you that you need to file your taxes soon because they're pretty tough in Texas. You're gonna end up in court. I wouldn't want you to be in court. So, I mean, I'm a lawyer, I'm a tax accountant, I'm just letting you know. I noticed that you haven't filed. Just letting you... When somebody warns you, are they humiliating you or saving you from humiliation? They're saving you from humiliation. Even the warnings in the Qur'an are there to save you from humiliation. But when somebody is narrow-minded and they don't want to listen, they say, you know, I felt really insulted when he talked to me about me getting my taxes straightened out or this and that. You're like, all you can think about is the fact that you were warned. You dismiss everything else. So notice the Qur'an is full of majd, but they've reduced it to just imdar, just warning. It's so strange that he warns us. Why does he warn us? You know, I was... And you would think the Qur'an, if you warn someone and they're offended, then the Qur'an should change its stance. Okay, okay. Let me be softer on you. Let me not give you warnings. Because that's what we do. When we talk to someone, we think about, well, if I tell them straight what it is they need to hear, they might get offended. So maybe I should not talk to them directly. But part of you respecting someone is you being clear and transparent and open with them. You tell them what they need to hear. You know the thought that crosses our mind, maybe I shouldn't say anything. And we think, maybe I shouldn't say anything out of respect. The Qur'an flips that equation and says, it's because Allah respects the human being, He says it like it is. Part of me respecting you is me being open with you. That's part of me respecting you. Even if I have to tell you the ugly truth. It is out of respect for you that I'm sincerely telling you like it is. That's how I see it. We have this superfluous, superficial, kind of let's just not say something or let's ignore the warning side or the ugly truth side of it, because we wouldn't want to hurt somebody's feelings. And then we say we did this out of respect. Allah is changing that equation. Our transparency, our honesty does not take away respect. بَلْ عَجِبُوا أَنْ جَاءَهُم مُنذِرٌ مِّنْهُمْ They say then, you know the next words are not, فَقَالُوا هَذَا شَيْءٌ عَجِيبٌ I was baffled by this. They found it strange that a warner came to them among themselves. Thus they said this is a strange thing. No. So the disbelievers said this is a strange thing. In language, first you mention a noun, then you mention a pronoun. Not the other way around. You say once upon a time, there was a king. He was powerful. You don't say he, you know he was powerful, the king went along. You mention king, then you use he. Isn't it? So you're expecting disbelievers, and then they. What does the ayah do? They and then disbelievers. It flips it. This flip is important because now we're learning when he says they, he's referring to a large gathering. He's referring to everybody in Makkah. Some of those people are finding it strange initially that a warner did come, but they might even accept. It is strange for the rest of that society, but within them there's a group. Which group is this? Disbelievers. They're not just going to say it's strange, they're going to vocalize their criticism. See the first group found it strange, but they're quiet. The second group came out and started talking, and the first thing that came out of their mouth is, hadashay un-ajeeb. This is a strange thing. This is pretty strange. Now then, what is strange? We don't know yet. It's going to be explained in the next ayah. But before we even say it, they've already criticized it. This is pretty weird. This is a weird thing. The word this, by the way, as opposed to that. What's the difference between this and that? Anybody know? This is near and that is far. So we're going to pay attention to that. The word hatha means this. The word thalika means that. The next ayah will have thalika raj'un bani. It's going to have the word that. That's important. Why? Because they're saying we've heard this enough times. This warning and this whatever is being told is actually in close proximity to us. We've internalized what you're saying. At least to the point where we understand your point even though we don't accept it. So they say hatha. Not thalika shay'un ajeeb. But hatha shay'un ajeeb. Ta'ajabu an yub'athu ba'da mawtihim. Like Ibn Kathir would say, they found it strange that they're going to be raised after they die. So now look, a'itha mitna wa kunna turaban. When eventually we're going to be dead. And when, by the way, a'itha also means when all of a sudden we're going to be dead. And we're going to be turned into dust. Dirt. Kunna turaban. We will be transformed and become nothing more than dirt. Thalika raj'un ba'd. That is a far-fetched return. In the Arabic language, the word ba'd also means mustahil. Impossible. Ba'd, which means far away, also means impossible. So wal-istifhamu, first of all, musta'amalun fit-ta'jeebi wal-ibtaal. The question is being used to express how weird they think this is, how strange they think it is, and also how it's impossible. It doesn't make any sense. In other words, in language, sometimes you pose a question to make someone feel stupid. Oh, you're going to teach me? Oh, he's going to... When you put it like... Oh, we're going to die and be brought back? Aytha mitna wa kunna turaban. Really? This is interesting. This is strange. That when we're dead and we're reduced to nothing more than dirt, that must be a really long way back we're going to come back. Thalika raj'un ba'd. By the way, ba'd also, ba'd az-zaman. Why? Because you don't just get buried and turned into dirt. How long does it take before a corpse is turned into just dirt and there's nothing left? Decades, maybe centuries. And then he says, from all the way that, we're going to be brought back? From that far away? Yaqulu hadha amrun ba'd. La yatasawwuruhu al-aql. I can't even imagine it. Fahum taratan yunkiruna inkaran mutlaqan, wa yaquluna hadha muhal, wa taratan yaquluna hadha ba'd. Kama yaquluna ab'adu min'uqabiljaw. So they say, hadha muhal, this is impossible. Hadha ba'd, this is far-fetched. Far-fetched means, I'm translating it in the English idiom, it's impossible. The Arabs have an expression, farther than the falcon in the sky. What that means is, it's impossible to catch the falcon with your arms. So, farther than that. Now, ba'd, they also say, li'anahu la yumkin tamyeezu turabina an baqiyat al-turab. This is pretty epic. It's going to come back to hit us later. They say, when we're dead, and our body starts decaying, and starts mixing with the dirt, some of those specks of dirt were our body once. And some of those specks of dirt were always dirt. Yeah? And now when you dig up that dirt, it's just dirt. I don't know which speck was me, and which speck was the dirt. How are you going to bring me back? You'd first have to sift through it, and find the original organic matter' metadata={'source': 'docs/youtube_converted_Audio/Divine Warnings and Human Skepticism - Surah Qaf - Nouman Ali Khan.m4a', 'chunk': 0}\n"
     ]
    }
   ],
   "source": [
    "print(files[0])"
   ]
  },
  {
   "cell_type": "code",
   "execution_count": 17,
   "id": "6f696ba5-0586-4e25-983a-240f4b81b52c",
   "metadata": {},
   "outputs": [
    {
     "name": "stderr",
     "output_type": "stream",
     "text": [
      "USER_AGENT environment variable not set, consider setting it to identify your requests.\n"
     ]
    }
   ],
   "source": [
    "from langchain.document_loaders import WebBaseLoader"
   ]
  },
  {
   "cell_type": "code",
   "execution_count": 18,
   "id": "86c2dcea-2210-417b-b5aa-b6fab90fc155",
   "metadata": {},
   "outputs": [],
   "source": [
    "loader = WebBaseLoader(\"https://github.com/basecamp/handbook/blob/master/37signals-is-you.md\")"
   ]
  },
  {
   "cell_type": "code",
   "execution_count": 19,
   "id": "289b9e39-60b9-44a5-9462-b6968457368d",
   "metadata": {},
   "outputs": [],
   "source": [
    "files = loader.load()"
   ]
  },
  {
   "cell_type": "code",
   "execution_count": 20,
   "id": "a6531819-5b63-4789-ba98-aa4140441950",
   "metadata": {},
   "outputs": [
    {
     "name": "stdout",
     "output_type": "stream",
     "text": [
      "1\n"
     ]
    }
   ],
   "source": [
    "print(len(files\n",
    "         ))"
   ]
  },
  {
   "cell_type": "code",
   "execution_count": 22,
   "id": "37e345e3-c3e7-465d-80eb-33f16996098d",
   "metadata": {},
   "outputs": [
    {
     "data": {
      "text/plain": [
       "'\\n\\n\\n\\n\\n\\n\\n\\n\\n\\n\\n\\n\\n\\n\\n\\n\\n\\n\\n\\n\\n\\n\\n\\n\\n\\n\\n\\n\\n\\n\\n\\n\\n\\n\\n\\n\\n\\n\\n\\n\\n\\n\\n\\n\\n\\n\\n\\n\\n\\n\\n\\n\\n\\n\\n\\n\\n\\n\\n\\n\\n\\n\\n\\n\\n\\n\\n\\n\\n\\n\\n\\n\\n\\n\\n\\n\\n\\n\\n\\n\\n\\n\\n\\n\\n\\n\\n\\n\\n\\n\\n\\n\\n\\n\\n\\n\\n\\n\\n\\n\\nFile not found · GitHub\\n\\n\\n\\n\\n\\n\\n\\n\\n\\n\\n\\n\\n\\n\\n\\n\\n\\n\\n\\n\\n\\n\\n\\n\\n\\n\\n\\n\\n\\n\\n\\n\\n\\n\\n\\n\\n\\n\\n\\n\\n\\n\\n\\n\\n\\nSkip to content\\n\\n\\n\\n\\n\\n\\n\\n\\n\\n\\n\\n\\nNavigation Menu\\n\\nToggle navigation\\n\\n\\n\\n\\n\\n\\n\\n\\n\\n \\n\\n\\n\\n\\n\\n\\n\\n\\n            Sign in\\n          \\n\\n\\n\\n\\n\\n\\n\\n\\n        Product\\n        \\n\\n\\n\\n\\n\\n\\n\\n\\n\\n\\n\\n\\nActions\\n        Automate any workflow\\n      \\n\\n\\n\\n\\n\\n\\n\\nPackages\\n        Host and manage packages\\n      \\n\\n\\n\\n\\n\\n\\n\\nSecurity\\n        Find and fix vulnerabilities\\n      \\n\\n\\n\\n\\n\\n\\n\\nCodespaces\\n        Instant dev environments\\n      \\n\\n\\n\\n\\n\\n\\n\\nGitHub Copilot\\n        Write better code with AI\\n      \\n\\n\\n\\n\\n\\n\\n\\nCode review\\n        Manage code changes\\n      \\n\\n\\n\\n\\n\\n\\n\\nIssues\\n        Plan and track work\\n      \\n\\n\\n\\n\\n\\n\\n\\nDiscussions\\n        Collaborate outside of code\\n      \\n\\n\\n\\n\\nExplore\\n\\n\\n\\n      All features\\n\\n    \\n\\n\\n\\n      Documentation\\n\\n    \\n\\n\\n\\n\\n\\n      GitHub Skills\\n\\n    \\n\\n\\n\\n\\n\\n      Blog\\n\\n    \\n\\n\\n\\n\\n\\n\\n\\n\\n\\n        Solutions\\n        \\n\\n\\n\\n\\n\\nBy size\\n\\n\\n\\n      Enterprise\\n\\n    \\n\\n\\n\\n      Teams\\n\\n    \\n\\n\\n\\n      Startups\\n\\n    \\n\\n\\n\\n\\nBy industry\\n\\n\\n\\n      Healthcare\\n\\n    \\n\\n\\n\\n      Financial services\\n\\n    \\n\\n\\n\\n      Manufacturing\\n\\n    \\n\\n\\n\\n\\nBy use case\\n\\n\\n\\n      CI/CD & Automation\\n\\n    \\n\\n\\n\\n      DevOps\\n\\n    \\n\\n\\n\\n      DevSecOps\\n\\n    \\n\\n\\n\\n\\n\\n\\n\\n        Resources\\n        \\n\\n\\n\\n\\n\\nTopics\\n\\n\\n\\n      AI\\n\\n    \\n\\n\\n\\n      DevOps\\n\\n    \\n\\n\\n\\n      Innersource\\n\\n    \\n\\n\\n\\n      Open Source\\n\\n    \\n\\n\\n\\n      Security\\n\\n    \\n\\n\\n\\n      Software Development\\n\\n    \\n\\n\\n\\n\\nExplore\\n\\n\\n\\n      Learning Pathways\\n\\n    \\n\\n\\n\\n\\n\\n      White papers, Ebooks, Webinars\\n\\n    \\n\\n\\n\\n\\n\\n      Customer Stories\\n\\n    \\n\\n\\n\\n      Partners\\n\\n    \\n\\n\\n\\n\\n\\n\\n\\n\\n\\n        Open Source\\n        \\n\\n\\n\\n\\n\\n\\n\\n\\n\\nGitHub Sponsors\\n        Fund open source developers\\n      \\n\\n\\n\\n\\n\\n\\n\\n\\nThe ReadME Project\\n        GitHub community articles\\n      \\n\\n\\n\\n\\nRepositories\\n\\n\\n\\n      Topics\\n\\n    \\n\\n\\n\\n      Trending\\n\\n    \\n\\n\\n\\n      Collections\\n\\n    \\n\\n\\n\\n\\n\\n\\n\\n        Enterprise\\n        \\n\\n\\n\\n\\n\\n\\n\\n\\n\\n\\n\\n\\nEnterprise platform\\n        AI-powered developer platform\\n      \\n\\n\\n\\n\\nAvailable add-ons\\n\\n\\n\\n\\n\\n\\n\\nAdvanced Security\\n        Enterprise-grade security features\\n      \\n\\n\\n\\n\\n\\n\\n\\nGitHub Copilot\\n        Enterprise-grade AI features\\n      \\n\\n\\n\\n\\n\\n\\n\\nPremium Support\\n        Enterprise-grade 24/7 support\\n      \\n\\n\\n\\n\\n\\n\\nPricing\\n\\n\\n\\n\\n\\n\\n\\n\\n\\n\\n\\n\\nSearch or jump to...\\n\\n\\n\\n\\n\\n\\n\\nSearch code, repositories, users, issues, pull requests...\\n\\n \\n\\n\\n\\n\\n        Search\\n      \\n\\n\\n\\n\\n\\n\\n\\n\\n\\n\\n\\n\\n\\nClear\\n \\n\\n\\n\\n\\n\\n\\n\\n\\n\\n\\n\\n\\n\\n\\n\\n\\n\\n\\n\\n\\n\\n\\n\\n\\n\\n\\n\\n\\n\\n\\n\\n\\n\\n\\n\\n\\n\\n\\n\\n\\n\\n\\n\\n\\n\\n\\n\\n\\n \\n\\n\\n\\n\\n              Search syntax tips\\n \\n\\n\\n\\n\\n\\n\\n\\n\\n\\n\\n\\n\\n\\n\\n        Provide feedback\\n      \\n\\n\\n\\n\\n\\n\\n\\n\\n\\n \\nWe read every piece of feedback, and take your input very seriously.\\n\\n\\nInclude my email address so I can be contacted\\n\\n\\n     Cancel\\n\\n    Submit feedback\\n\\n\\n\\n\\n\\n\\n\\n\\n\\n\\n        Saved searches\\n      \\nUse saved searches to filter your results more quickly\\n\\n\\n\\n\\n\\n\\n\\n\\n\\n \\n\\n\\n\\n\\n\\nName\\n\\n\\n\\n\\n\\n\\nQuery\\n\\n\\n\\n            To see all available qualifiers, see our documentation.\\n          \\n \\n\\n\\n\\n\\n\\n     Cancel\\n\\n    Create saved search\\n\\n\\n\\n\\n\\n\\n\\n\\n                Sign in\\n              \\n\\n\\n                    Sign in to GitHub\\n\\n \\n\\n      Username or email address\\n    \\n\\n\\n\\n      Password\\n    \\n\\nForgot password?\\n\\n\\n\\n\\n\\n\\n\\n\\n\\n\\n\\n\\n\\n \\n\\n \\nor sign in with a passkey\\n\\n\\n\\n\\n \\n\\n                Sign up\\n              \\n\\n\\n\\n\\n\\n\\n\\n\\n\\nYou signed in with another tab or window. Reload to refresh your session.\\nYou signed out in another tab or window. Reload to refresh your session.\\nYou switched accounts on another tab or window. Reload to refresh your session.\\n \\n\\n\\nDismiss alert\\n\\n\\n\\n\\n\\n\\n\\n\\n\\n\\n\\n\\n\\n\\n\\n\\n\\n\\n\\n        basecamp\\n \\n/\\n\\nhandbook\\n\\nPublic\\n\\n\\n\\n\\n\\n \\n\\nNotifications\\n You must be signed in to change notification settings\\n\\n\\n \\n\\nFork\\n    759\\n\\n\\n\\n\\n \\n\\n\\n          Star\\n 6.3k\\n  \\n\\n\\n\\n\\n\\n\\n\\n\\n\\n\\n\\n\\n\\n\\n\\n\\nCode\\n\\n\\n\\n\\n\\n\\n\\nIssues\\n0\\n\\n\\n\\n\\n\\n\\nPull requests\\n0\\n\\n\\n\\n\\n\\n\\nActions\\n\\n\\n\\n\\n\\n\\n\\nSecurity\\n\\n\\n\\n\\n\\n\\n\\nInsights\\n\\n\\n\\n \\n\\n \\n\\n\\nAdditional navigation options\\n\\n\\n \\n\\n\\n\\n\\n\\n\\n\\n\\n\\n\\n          Code\\n\\n\\n\\n\\n\\n\\n\\n\\n\\n\\n          Issues\\n\\n\\n\\n\\n\\n\\n\\n\\n\\n\\n          Pull requests\\n\\n\\n\\n\\n\\n\\n\\n\\n\\n\\n          Actions\\n\\n\\n\\n\\n\\n\\n\\n\\n\\n\\n          Security\\n\\n\\n\\n\\n\\n\\n\\n\\n\\n\\n          Insights\\n\\n\\n\\n\\n\\n \\n\\n\\n\\n\\n\\n\\n\\n\\n\\n\\n\\n\\n\\n\\n\\n\\nFooter\\n\\n\\n\\n\\n\\n\\n\\n\\n        © 2024 GitHub,\\xa0Inc.\\n      \\n\\n\\nFooter navigation\\n\\n\\nTerms\\n\\n\\nPrivacy\\n\\n\\nSecurity\\n\\n\\nStatus\\n\\n\\nDocs\\n\\n\\nContact\\n\\n\\n\\n\\n      Manage cookies\\n    \\n\\n\\n\\n\\n\\n      Do not share my personal information\\n    \\n\\n\\n\\n\\n\\n\\n\\n\\n\\n\\n\\n\\n\\n\\n\\n\\n    You can’t perform that action at this time.\\n  \\n\\n\\n\\n\\n\\n\\n\\n\\n\\n\\n\\n\\n'"
      ]
     },
     "execution_count": 22,
     "metadata": {},
     "output_type": "execute_result"
    }
   ],
   "source": [
    "files[0].page_content"
   ]
  },
  {
   "cell_type": "code",
   "execution_count": null,
   "id": "3b276b46-2ccf-4f15-81e3-dc14ee2e9de3",
   "metadata": {},
   "outputs": [],
   "source": []
  },
  {
   "cell_type": "code",
   "execution_count": null,
   "id": "2f6a39bd-5e7a-4ef1-94d5-52106dce91e1",
   "metadata": {},
   "outputs": [],
   "source": []
  },
  {
   "cell_type": "code",
   "execution_count": null,
   "id": "4bbe36a9-04b2-4694-9404-224e8c0ab1cc",
   "metadata": {},
   "outputs": [],
   "source": []
  }
 ],
 "metadata": {
  "kernelspec": {
   "display_name": "Python 3 (ipykernel)",
   "language": "python",
   "name": "python3"
  },
  "language_info": {
   "codemirror_mode": {
    "name": "ipython",
    "version": 3
   },
   "file_extension": ".py",
   "mimetype": "text/x-python",
   "name": "python",
   "nbconvert_exporter": "python",
   "pygments_lexer": "ipython3",
   "version": "3.12.4"
  }
 },
 "nbformat": 4,
 "nbformat_minor": 5
}
